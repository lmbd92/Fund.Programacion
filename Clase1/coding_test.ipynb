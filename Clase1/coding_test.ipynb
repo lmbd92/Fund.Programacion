{
 "cells": [
  {
   "cell_type": "code",
   "execution_count": 5,
   "metadata": {},
   "outputs": [
    {
     "name": "stdout",
     "output_type": "stream",
     "text": [
      "Gross pay: $23.0\n"
     ]
    }
   ],
   "source": [
    "#Gross pay\n",
    "\n",
    "hours = float(input('Ingrese el total de horas laboradas'))\n",
    "# print(type(hours))\n",
    "rate_per_hour = float(input('Ingrese el valor por hora laborada'))\n",
    "# print(type(rate_per_hour))\n",
    "total_pay = hours * rate_per_hour\n",
    "print(\"Gross pay: $\" + str(total_pay))\n"
   ]
  },
  {
   "cell_type": "code",
   "execution_count": 17,
   "metadata": {},
   "outputs": [
    {
     "name": "stdout",
     "output_type": "stream",
     "text": [
      "The distance between the planets is 95.48999999999998 km\n"
     ]
    }
   ],
   "source": [
    "#Distances\n",
    "\n",
    "#Distance between mars and the sun (millions)\n",
    "first_planet_distance= 243.35 \n",
    "\n",
    "#Distance between earth and the sun (millions)\n",
    "second_planet_distance= 147.86\n",
    "\n",
    "distance_km = abs(second_planet_distance - first_planet_distance)\n",
    "print(\"The distance between the planets is\", distance_km, \"km\")"
   ]
  },
  {
   "cell_type": "code",
   "execution_count": 18,
   "metadata": {},
   "outputs": [
    {
     "name": "stdout",
     "output_type": "stream",
     "text": [
      "The distance between the planets is 59.33473514674301 mi\n"
     ]
    }
   ],
   "source": [
    "distance_mi = abs(distance_km / 1.609344)\n",
    "print(\"The distance between the planets is\", distance_mi, \"mi\")\n"
   ]
  },
  {
   "cell_type": "code",
   "execution_count": 35,
   "metadata": {},
   "outputs": [
    {
     "name": "stdout",
     "output_type": "stream",
     "text": [
      "Hola Lina\n",
      "su nota de la materia 1 es 1.0\n",
      "su nota de la materia 2 es 2.0\n",
      "su nota de la materia 3 es 3.0\n",
      "su nota de la materia 4 es 4.0\n",
      "su nota de la materia 5 es 5.0\n",
      "y su promedio es: 3.0\n"
     ]
    }
   ],
   "source": [
    "name = input('Ingrese su nombre: ')\n",
    "marks = []\n",
    "limit = 5\n",
    "\n",
    "for i in range(limit):\n",
    "    marks.append(float(input(f'Ingrese la nota de la materia {i+1}: ')))\n",
    "\n",
    "average = sum(marks) / len(marks)\n",
    "print(f'Hola {name}')\n",
    "# enumerate() returns a tuple of the index and value of the list item\n",
    "for j, mark in enumerate(marks):\n",
    "    # j+1 to start the index from 1 instead of 0\n",
    "    print(f'su nota de la materia {j+1} es {mark}')\n",
    "print(f'y su promedio es: {average}')"
   ]
  },
  {
   "cell_type": "code",
   "execution_count": 38,
   "metadata": {},
   "outputs": [
    {
     "name": "stdout",
     "output_type": "stream",
     "text": [
      "Salarios y nombres:\n",
      "a: $1k\n",
      "b: $2k\n",
      "c: $3k\n",
      "d: $4k\n",
      "e: $5k\n"
     ]
    }
   ],
   "source": [
    "# List vacia para almacenar nombres y salarios\n",
    "soccer_players = {}\n",
    "\n",
    "# solicitar los salarios y nombres\n",
    "for i in range(5):\n",
    "    name = input(f\"Ingrese el nombre del jugador de futbol {i+1}: \")\n",
    "    salary = int(input(f\"Ingrese el salario del jugador {i+1} (en miles): \"))\n",
    "    soccer_players[name] = salary\n",
    "\n",
    "# Imprimir el diccionario de jugadores de fútbol\n",
    "print(\"Nombres y Salarioa:\")\n",
    "for name, salary in soccer_players.items():\n",
    "    print(f\"{name}: ${salary}k\")\n"
   ]
  },
  {
   "cell_type": "code",
   "execution_count": 40,
   "metadata": {},
   "outputs": [
    {
     "name": "stdout",
     "output_type": "stream",
     "text": [
      "Numero de elementos en la lista:  1\n",
      "El más pequeño de la lista es:  1\n",
      "El más grande de la lista es:  1\n",
      "Lista luego de remover el más pequeño:  []\n"
     ]
    }
   ],
   "source": [
    "#biggest and smaller\n",
    "\n",
    "# Solicitar la entrada al usuario\n",
    "lst = list(map(int, input(\"Ingrese una lista de enteros separados por espacios: \").split()))\n",
    "\n",
    "# Contar los elementos de la lista\n",
    "count = len(lst)\n",
    "print(\"Numero de elementos en la lista: \", count)\n",
    "\n",
    "# Encontrar el menor y mayor de la lista\n",
    "smallest, largest = min(lst), max(lst)\n",
    "print(\"El más pequeño de la lista es: \", smallest)\n",
    "print(\"El más grande de la lista es: \", largest)\n",
    "\n",
    "# Remover el más pequeño de la lista\n",
    "lst.remove(smallest)\n",
    "print(\"Lista luego de remover el más pequeño: \", lst)\n"
   ]
  }
 ],
 "metadata": {
  "kernelspec": {
   "display_name": "base",
   "language": "python",
   "name": "python3"
  },
  "language_info": {
   "codemirror_mode": {
    "name": "ipython",
    "version": 3
   },
   "file_extension": ".py",
   "mimetype": "text/x-python",
   "name": "python",
   "nbconvert_exporter": "python",
   "pygments_lexer": "ipython3",
   "version": "3.9.13"
  },
  "orig_nbformat": 4,
  "vscode": {
   "interpreter": {
    "hash": "1ab5102c74f6a8698e26ee368efd10ad6a7548f07f24653cf2874797d77b917d"
   }
  }
 },
 "nbformat": 4,
 "nbformat_minor": 2
}
