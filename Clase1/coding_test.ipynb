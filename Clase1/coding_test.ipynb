{
 "cells": [
  {
   "cell_type": "code",
   "execution_count": 5,
   "metadata": {},
   "outputs": [
    {
     "name": "stdout",
     "output_type": "stream",
     "text": [
      "Gross pay: $23.0\n"
     ]
    }
   ],
   "source": [
    "#Gross pay\n",
    "\n",
    "hours = float(input('Ingrese el total de horas laboradas'))\n",
    "# print(type(hours))\n",
    "rate_per_hour = float(input('Ingrese el valor por hora laborada'))\n",
    "# print(type(rate_per_hour))\n",
    "total_pay = hours * rate_per_hour\n",
    "print(\"Gross pay: $\" + str(total_pay))\n"
   ]
  },
  {
   "cell_type": "code",
   "execution_count": 17,
   "metadata": {},
   "outputs": [
    {
     "name": "stdout",
     "output_type": "stream",
     "text": [
      "The distance between the planets is 95.48999999999998 km\n"
     ]
    }
   ],
   "source": [
    "#Distances\n",
    "\n",
    "#Distance between mars and the sun (millions)\n",
    "first_planet_distance= 243.35 \n",
    "\n",
    "#Distance between earth and the sun (millions)\n",
    "second_planet_distance= 147.86\n",
    "\n",
    "distance_km = abs(second_planet_distance - first_planet_distance)\n",
    "print(\"The distance between the planets is\", distance_km, \"km\")"
   ]
  },
  {
   "cell_type": "code",
   "execution_count": 18,
   "metadata": {},
   "outputs": [
    {
     "name": "stdout",
     "output_type": "stream",
     "text": [
      "The distance between the planets is 59.33473514674301 mi\n"
     ]
    }
   ],
   "source": [
    "distance_mi = abs(distance_km / 1.609344)\n",
    "print(\"The distance between the planets is\", distance_mi, \"mi\")\n"
   ]
  },
  {
   "cell_type": "code",
   "execution_count": 35,
   "metadata": {},
   "outputs": [
    {
     "name": "stdout",
     "output_type": "stream",
     "text": [
      "Hola Lina\n",
      "su nota de la materia 1 es 1.0\n",
      "su nota de la materia 2 es 2.0\n",
      "su nota de la materia 3 es 3.0\n",
      "su nota de la materia 4 es 4.0\n",
      "su nota de la materia 5 es 5.0\n",
      "y su promedio es: 3.0\n"
     ]
    }
   ],
   "source": [
    "name = input('Ingrese su nombre: ')\n",
    "marks = []\n",
    "limit = 5\n",
    "\n",
    "for i in range(limit):\n",
    "    marks.append(float(input(f'Ingrese la nota de la materia {i+1}: ')))\n",
    "\n",
    "average = sum(marks) / len(marks)\n",
    "print(f'Hola {name}')\n",
    "# enumerate() returns a tuple of the index and value of the list item\n",
    "for j, mark in enumerate(marks):\n",
    "    # j+1 to start the index from 1 instead of 0\n",
    "    print(f'su nota de la materia {j+1} es {mark}')\n",
    "print(f'y su promedio es: {average}')"
   ]
  }
 ],
 "metadata": {
  "kernelspec": {
   "display_name": "base",
   "language": "python",
   "name": "python3"
  },
  "language_info": {
   "codemirror_mode": {
    "name": "ipython",
    "version": 3
   },
   "file_extension": ".py",
   "mimetype": "text/x-python",
   "name": "python",
   "nbconvert_exporter": "python",
   "pygments_lexer": "ipython3",
   "version": "3.9.13"
  },
  "orig_nbformat": 4,
  "vscode": {
   "interpreter": {
    "hash": "1ab5102c74f6a8698e26ee368efd10ad6a7548f07f24653cf2874797d77b917d"
   }
  }
 },
 "nbformat": 4,
 "nbformat_minor": 2
}
