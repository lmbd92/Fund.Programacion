{
 "cells": [
  {
   "cell_type": "code",
   "execution_count": 2,
   "metadata": {},
   "outputs": [
    {
     "name": "stdout",
     "output_type": "stream",
     "text": [
      "Work for: 10 days\n",
      "El salario es: 10000\n"
     ]
    }
   ],
   "source": [
    "#Herencia\n",
    "\n",
    "class Employee:\n",
    "    def __init__(self, name, salary):\n",
    "        self.name = name\n",
    "        self.salary = salary\n",
    "\n",
    "    def __mul__(self, timesheet):\n",
    "        print(f'Work for: {timesheet.days} days')\n",
    "        return self.salary * timesheet.days\n",
    "\n",
    "class TimeSheet:\n",
    "    def __init__(self, name, days):\n",
    "        self.name = name\n",
    "        self.days = days\n",
    "\n",
    "emp = Employee('Lina', 1000)\n",
    "timeSheet = TimeSheet('Lina', 10)\n",
    "print(f'El salario es: {emp*timeSheet}')  "
   ]
  },
  {
   "cell_type": "code",
   "execution_count": 9,
   "metadata": {},
   "outputs": [
    {
     "name": "stdout",
     "output_type": "stream",
     "text": [
      "Referencia\t 2034 \n",
      "Nombre\t \t Vaso\n",
      "Precio\t \t 1500\n",
      "Descripción\t Vaso porcelana\n"
     ]
    }
   ],
   "source": [
    "#Super class\n",
    "\n",
    "class Producto:\n",
    "    def __init__(self, referencia, nombre, pvp, descripcion):\n",
    "        self.referencia = referencia\n",
    "        self.nombre = nombre\n",
    "        self.pvp = pvp\n",
    "        self.descripcion = descripcion\n",
    "\n",
    "    def __str__(self):\n",
    "        return f\"Referencia\\t {self.referencia} \\n\" \\\n",
    "            f\"Nombre\\t \\t {self.nombre}\\n\" \\\n",
    "            f\"Precio\\t \\t {self.pvp}\\n\" \\\n",
    "                f\"Descripción\\t {self.descripcion}\" \\\n",
    "            \n",
    "class Adorno(Producto):\n",
    "    pass\n",
    "\n",
    "\n",
    "adorno = Adorno(2034, \"Vaso\", 1500, \"Vaso porcelana\")\n",
    "print(adorno)\n",
    "            "
   ]
  },
  {
   "cell_type": "code",
   "execution_count": 19,
   "metadata": {},
   "outputs": [
    {
     "name": "stdout",
     "output_type": "stream",
     "text": [
      " Fecha: 2023-02-25 09:21:59.976829\n",
      " Año: 2023\n",
      " Mes: 2\n",
      " Día: 25\n",
      " Hora: 9\n",
      " Minutos: 21\n",
      " Segundos: 59\n",
      " día de la semana: 5\n",
      "9:21:59\n",
      "25:2:2023\n"
     ]
    }
   ],
   "source": [
    "#Datetime\n",
    "\n",
    "from datetime import datetime\n",
    "\n",
    "dt = datetime.now()\n",
    "print(f' Fecha: {dt}')\n",
    "print(f' Año: {dt.year}')\n",
    "print(f' Mes: {dt.month}')\n",
    "print(f' Día: {dt.day}')\n",
    "print(f' Hora: {dt.hour}')\n",
    "print(f' Minutos: {dt.minute}')\n",
    "print(f' Segundos: {dt.second}')\n",
    "print(f' día de la semana: {dt.weekday()}')\n",
    "\n",
    "print(\"{}:{}:{}\".format(dt.hour, dt.minute, dt.second))\n",
    "print(\"{}:{}:{}\".format(dt.day, dt.month, dt.year))"
   ]
  },
  {
   "cell_type": "code",
   "execution_count": 21,
   "metadata": {},
   "outputs": [
    {
     "name": "stdout",
     "output_type": "stream",
     "text": [
      "2023-02-25 09:34:15.168782\n"
     ]
    }
   ],
   "source": [
    "from datetime import datetime\n",
    "\n",
    "given_date= datetime(2020, 7, 30)\n",
    "\n",
    "hoy = given_date.today()\n",
    "print(hoy)"
   ]
  },
  {
   "cell_type": "code",
   "execution_count": 23,
   "metadata": {},
   "outputs": [
    {
     "name": "stdout",
     "output_type": "stream",
     "text": [
      "5\n",
      "Saturday\n"
     ]
    }
   ],
   "source": [
    "import calendar\n",
    "from datetime import datetime\n",
    "\n",
    "given_date = datetime(2023, 2, 25)\n",
    "weekday = calendar.day_name[given_date.weekday()]\n",
    "print(given_date.weekday())\n",
    "print(weekday)"
   ]
  },
  {
   "cell_type": "code",
   "execution_count": 24,
   "metadata": {},
   "outputs": [
    {
     "name": "stdout",
     "output_type": "stream",
     "text": [
      "2023 25 de February del 2023 - 09:43\n",
      "2023 11 de March del 2023 - 14:00\n",
      "2023 11 de February del 2023 - 05:26\n"
     ]
    }
   ],
   "source": [
    "#Sumar y restar tiempo con datetime\n",
    "from datetime import datetime, timedelta\n",
    "\n",
    "dt = datetime.now()\n",
    "print(dt.strftime(\"%Y %d de %B del %Y - %H:%M\"))\n",
    "\n",
    "t= timedelta(days= 14, hours = 4, seconds= 1000)\n",
    "\n",
    "dentro_de_dos_semanas = dt + t\n",
    "print(dentro_de_dos_semanas.strftime(\"%Y %d de %B del %Y - %H:%M\"))\n",
    "\n",
    "hace_dos_semanas = dt - t\n",
    "print(hace_dos_semanas.strftime(\"%Y %d de %B del %Y - %H:%M\"))\n",
    "\n",
    "\n"
   ]
  },
  {
   "cell_type": "code",
   "execution_count": 25,
   "metadata": {},
   "outputs": [
    {
     "name": "stdout",
     "output_type": "stream",
     "text": [
      "Counter({1: 1, 2: 1, 3: 1, 4: 1, 5: 1, 6: 1, 7: 1, 8: 1, 9: 1})\n",
      "<class 'collections.Counter'>\n"
     ]
    }
   ],
   "source": [
    "from collections import Counter\n",
    "\n",
    "l = [1, 2, 3, 4, 5, 6, 7, 8, 9]\n",
    "a = Counter(l) #cuenta cuantas veces está un elemento en la coleccion\n",
    "print(a)\n",
    "print(type(a))"
   ]
  },
  {
   "cell_type": "code",
   "execution_count": 31,
   "metadata": {},
   "outputs": [
    {
     "name": "stdout",
     "output_type": "stream",
     "text": [
      "Counter({'a': 3, 'b': 3, 'c': 3, 'd': 3, 'e': 3, 'f': 2})\n",
      "[('a', 3), ('b', 3), ('c', 3), ('d', 3), ('e', 3), ('f', 2)]\n"
     ]
    }
   ],
   "source": [
    "from collections import Counter\n",
    "\n",
    "char_list = ['a', 'b', 'c', 'd', 'e', 'f', 'a', 'b', 'c', 'd', 'e', 'f', 'a', 'b', 'c', 'd', 'e']\n",
    "\n",
    "c = Counter(char_list)\n",
    "print(c)\n",
    "print(c.most_common())"
   ]
  },
  {
   "cell_type": "code",
   "execution_count": 33,
   "metadata": {},
   "outputs": [
    {
     "name": "stdout",
     "output_type": "stream",
     "text": [
      "3\n",
      "4\n"
     ]
    }
   ],
   "source": [
    "#Math\n",
    "\n",
    "import math\n",
    "\n",
    "print(math.floor(3.99))\n",
    "print(math.ceil(3.99))"
   ]
  },
  {
   "cell_type": "code",
   "execution_count": 36,
   "metadata": {},
   "outputs": [
    {
     "data": {
      "text/plain": [
       "3.141592653589793"
      ]
     },
     "execution_count": 36,
     "metadata": {},
     "output_type": "execute_result"
    }
   ],
   "source": [
    "math.pow(2,3)\n",
    "math.sqrt(9)\n",
    "math.pi"
   ]
  },
  {
   "cell_type": "code",
   "execution_count": 38,
   "metadata": {},
   "outputs": [],
   "source": [
    "#Ficheros de texto\n",
    "\n",
    "from io import open\n",
    "\n",
    "texto = 'lorem ipsum dolor sit lorem ipsum dolor sit \\nlorem ipsum dolor sit lorem ipsum dolor'\n",
    "\n",
    "fichero= open('fichero.txt', 'w')\n",
    "\n",
    "fichero.write(texto)\n",
    "fichero.close()\n"
   ]
  },
  {
   "cell_type": "code",
   "execution_count": 39,
   "metadata": {},
   "outputs": [
    {
     "name": "stdout",
     "output_type": "stream",
     "text": [
      "['lorem ipsum dolor sit lorem ipsum dolor sit \\n', 'lorem ipsum dolor sit lorem ipsum dolor']\n"
     ]
    }
   ],
   "source": [
    "#Ficheros de texto\n",
    "\n",
    "from io import open\n",
    "\n",
    "fichero = open('fichero.txt', 'r')\n",
    "\n",
    "texto1 = fichero.readlines()\n",
    "fichero.close()\n",
    "\n",
    "print(texto1)\n"
   ]
  },
  {
   "cell_type": "code",
   "execution_count": 44,
   "metadata": {},
   "outputs": [
    {
     "name": "stdout",
     "output_type": "stream",
     "text": [
      "lorem ipsum dolor sit lorem ipsum dolor sit \n",
      "\n",
      "lorem ipsum dolor sit lorem ipsum dolor\n",
      "\n",
      " lorem ipsum dolor sit amet\n",
      "\n",
      "lorem ipsum dolor sit amet\n"
     ]
    }
   ],
   "source": [
    "with open('fichero.txt', 'r') as fichero:\n",
    "    for linea in fichero:\n",
    "        print(linea)"
   ]
  },
  {
   "cell_type": "code",
   "execution_count": 43,
   "metadata": {},
   "outputs": [],
   "source": [
    "fichero = open('fichero.txt', 'a')\n",
    "fichero.write('\\nlorem ipsum dolor sit amet')\n",
    "fichero.close()"
   ]
  }
 ],
 "metadata": {
  "kernelspec": {
   "display_name": "base",
   "language": "python",
   "name": "python3"
  },
  "language_info": {
   "codemirror_mode": {
    "name": "ipython",
    "version": 3
   },
   "file_extension": ".py",
   "mimetype": "text/x-python",
   "name": "python",
   "nbconvert_exporter": "python",
   "pygments_lexer": "ipython3",
   "version": "3.9.13"
  },
  "orig_nbformat": 4,
  "vscode": {
   "interpreter": {
    "hash": "1ab5102c74f6a8698e26ee368efd10ad6a7548f07f24653cf2874797d77b917d"
   }
  }
 },
 "nbformat": 4,
 "nbformat_minor": 2
}
