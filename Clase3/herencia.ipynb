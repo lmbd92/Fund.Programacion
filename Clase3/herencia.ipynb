{
 "cells": [
  {
   "cell_type": "code",
   "execution_count": 2,
   "metadata": {},
   "outputs": [
    {
     "name": "stdout",
     "output_type": "stream",
     "text": [
      "Work for: 10 days\n",
      "El salario es: 10000\n"
     ]
    }
   ],
   "source": [
    "#Herencia\n",
    "\n",
    "class Employee:\n",
    "    def __init__(self, name, salary):\n",
    "        self.name = name\n",
    "        self.salary = salary\n",
    "\n",
    "    def __mul__(self, timesheet):\n",
    "        print(f'Work for: {timesheet.days} days')\n",
    "        return self.salary * timesheet.days\n",
    "\n",
    "class TimeSheet:\n",
    "    def __init__(self, name, days):\n",
    "        self.name = name\n",
    "        self.days = days\n",
    "\n",
    "emp = Employee('Lina', 1000)\n",
    "timeSheet = TimeSheet('Lina', 10)\n",
    "print(f'El salario es: {emp*timeSheet}')  "
   ]
  },
  {
   "cell_type": "code",
   "execution_count": 9,
   "metadata": {},
   "outputs": [
    {
     "name": "stdout",
     "output_type": "stream",
     "text": [
      "Referencia\t 2034 \n",
      "Nombre\t \t Vaso\n",
      "Precio\t \t 1500\n",
      "Descripción\t Vaso porcelana\n"
     ]
    }
   ],
   "source": [
    "#Super class\n",
    "\n",
    "class Producto:\n",
    "    def __init__(self, referencia, nombre, pvp, descripcion):\n",
    "        self.referencia = referencia\n",
    "        self.nombre = nombre\n",
    "        self.pvp = pvp\n",
    "        self.descripcion = descripcion\n",
    "\n",
    "    def __str__(self):\n",
    "        return f\"Referencia\\t {self.referencia} \\n\" \\\n",
    "            f\"Nombre\\t \\t {self.nombre}\\n\" \\\n",
    "            f\"Precio\\t \\t {self.pvp}\\n\" \\\n",
    "                f\"Descripción\\t {self.descripcion}\" \\\n",
    "            \n",
    "class Adorno(Producto):\n",
    "    pass\n",
    "\n",
    "\n",
    "adorno = Adorno(2034, \"Vaso\", 1500, \"Vaso porcelana\")\n",
    "print(adorno)\n",
    "            "
   ]
  }
 ],
 "metadata": {
  "kernelspec": {
   "display_name": "base",
   "language": "python",
   "name": "python3"
  },
  "language_info": {
   "codemirror_mode": {
    "name": "ipython",
    "version": 3
   },
   "file_extension": ".py",
   "mimetype": "text/x-python",
   "name": "python",
   "nbconvert_exporter": "python",
   "pygments_lexer": "ipython3",
   "version": "3.9.13"
  },
  "orig_nbformat": 4,
  "vscode": {
   "interpreter": {
    "hash": "1ab5102c74f6a8698e26ee368efd10ad6a7548f07f24653cf2874797d77b917d"
   }
  }
 },
 "nbformat": 4,
 "nbformat_minor": 2
}
