{
 "cells": [
  {
   "attachments": {},
   "cell_type": "markdown",
   "metadata": {},
   "source": [
    "A continuación, se comprueba si el archivo visitas.txt existe. Si existe, se lee su contenido y se convierte a un entero utilizando la función int(). Si no existe, se crea con el valor 0.\n",
    "\n",
    "Luego, se realiza la acción correspondiente según el valor del argumento enviado como parametro. Si es inc, se incrementa el contador en 1 y se muestra por pantalla el nuevo valor. Si es dec, se decrementa el contador en 1 y se muestra por pantalla el nuevo valor. Si no es ni inc ni dec, se muestra por pantalla el valor actual del contador.\n",
    "\n",
    "Finalmente, se guarda el valor del contador en el archivo visitas.txt utilizando la función write() de Python."
   ]
  },
  {
   "cell_type": "code",
   "execution_count": 5,
   "metadata": {},
   "outputs": [
    {
     "name": "stdout",
     "output_type": "stream",
     "text": [
      "Contador decrementado: -3\n"
     ]
    }
   ],
   "source": [
    "import os\n",
    "\n",
    "def main(args):\n",
    "    # Comprobar si el archivo visitas.txt existe\n",
    "    if os.path.isfile('visitas.txt'):\n",
    "        # Si existe, leer el valor del contador\n",
    "        with open('visitas.txt', 'r') as f:\n",
    "            contador = int(f.read().strip())\n",
    "    else:\n",
    "        # Si no existe, crearlo con valor 0\n",
    "        contador = 0\n",
    "        with open('visitas.txt', 'w') as f:\n",
    "            f.write(str(contador))\n",
    "\n",
    "    # Realizar la acción correspondiente\n",
    "    if args == 'inc':\n",
    "        contador += 1\n",
    "        print(f'Contador incrementado: {contador}')\n",
    "    elif args == 'dec':\n",
    "        contador -= 1\n",
    "        print(f'Contador decrementado: {contador}')\n",
    "    else:\n",
    "        print(f'Valor del contador: {contador}')\n",
    "\n",
    "    # Guardar el valor del contador en el archivo\n",
    "    with open('visitas.txt', 'w') as f:\n",
    "        f.write(str(contador))\n",
    "        f.close()\n",
    "\n",
    "main('dec')\n"
   ]
  }
 ],
 "metadata": {
  "kernelspec": {
   "display_name": "base",
   "language": "python",
   "name": "python3"
  },
  "language_info": {
   "codemirror_mode": {
    "name": "ipython",
    "version": 3
   },
   "file_extension": ".py",
   "mimetype": "text/x-python",
   "name": "python",
   "nbconvert_exporter": "python",
   "pygments_lexer": "ipython3",
   "version": "3.9.13"
  },
  "orig_nbformat": 4,
  "vscode": {
   "interpreter": {
    "hash": "1ab5102c74f6a8698e26ee368efd10ad6a7548f07f24653cf2874797d77b917d"
   }
  }
 },
 "nbformat": 4,
 "nbformat_minor": 2
}
