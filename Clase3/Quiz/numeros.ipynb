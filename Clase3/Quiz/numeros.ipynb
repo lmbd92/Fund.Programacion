{
 "cells": [
  {
   "attachments": {},
   "cell_type": "markdown",
   "metadata": {},
   "source": [
    "La función leer_numero() toma como parámetros ini, fin y mensaje. Se ejecuta en un bucle infinito hasta que el usuario ingresa un número entero válido entre ini y fin. Si el usuario ingresa un número fuera del rango o un valor no numérico, se le solicita que ingrese un valor válido. Una vez que se ingresa un valor válido, la función devuelve el número.\n",
    "\n",
    "La función generador() no toma ningún parámetro. Primero, llama a leer_numero() dos veces para obtener la cantidad de números a generar y el modo de redondeo. Luego, crea una lista de números aleatorios decimales entre 0 y 100 utilizando una lista de comprensión. Luego, para cada número, redondea el número en función del modo de redondeo especificado por el usuario y agrega el número redondeado a otra lista. Además, para cada número, muestra el número original y el número redondeado. Finalmente, devuelve la lista de números redondeados."
   ]
  },
  {
   "cell_type": "code",
   "execution_count": 6,
   "metadata": {},
   "outputs": [
    {
     "name": "stdout",
     "output_type": "stream",
     "text": [
      "Número original: 47.66 | Número redondeado: 48\n",
      "Número original: 4.13 | Número redondeado: 4\n",
      "Número original: 31.37 | Número redondeado: 31\n",
      "Número original: 53.71 | Número redondeado: 54\n",
      "Número original: 16.41 | Número redondeado: 16\n"
     ]
    },
    {
     "data": {
      "text/plain": [
       "[48, 4, 31, 54, 16]"
      ]
     },
     "execution_count": 6,
     "metadata": {},
     "output_type": "execute_result"
    }
   ],
   "source": [
    "import random\n",
    "import math\n",
    "\n",
    "\n",
    "def leer_numero(ini, fin, mensaje):\n",
    "    while True:\n",
    "        try:\n",
    "            numero = int(input(mensaje))\n",
    "            if ini <= numero <= fin:\n",
    "                return numero\n",
    "            else:\n",
    "                print(f\"Error: el número debe estar entre {ini} y {fin}\")\n",
    "        except ValueError:\n",
    "            print(\"Error: debe introducir un número entero\")\n",
    "\n",
    "\n",
    "def generador():\n",
    "    numeros = leer_numero(1, 20, \"¿Cuántos números quieres generar? [1-20]: \")\n",
    "    modo = leer_numero(1, 3, \"¿Cómo quieres redondear los números? [1]Al alza [2]A la baja [3]Normal: \")\n",
    "    lista_numeros = [random.uniform(0, 100) for i in range(numeros)]\n",
    "    lista_redondeados = []\n",
    "    for numero in lista_numeros:\n",
    "        if modo == 1:\n",
    "            redondeado = math.ceil(numero) #Redondeo a la alza\n",
    "        elif modo == 2:\n",
    "            redondeado = math.floor(numero) #Redondeo a la baja\n",
    "        else:\n",
    "            redondeado = round(numero) #redondeo normal\n",
    "        print(\n",
    "            f\"Número original: {numero:.2f} | Número redondeado: {redondeado}\")\n",
    "        lista_redondeados.append(redondeado)\n",
    "    return lista_redondeados\n",
    "\n",
    "generador()"
   ]
  }
 ],
 "metadata": {
  "kernelspec": {
   "display_name": "base",
   "language": "python",
   "name": "python3"
  },
  "language_info": {
   "codemirror_mode": {
    "name": "ipython",
    "version": 3
   },
   "file_extension": ".py",
   "mimetype": "text/x-python",
   "name": "python",
   "nbconvert_exporter": "python",
   "pygments_lexer": "ipython3",
   "version": "3.9.13"
  },
  "orig_nbformat": 4,
  "vscode": {
   "interpreter": {
    "hash": "1ab5102c74f6a8698e26ee368efd10ad6a7548f07f24653cf2874797d77b917d"
   }
  }
 },
 "nbformat": 4,
 "nbformat_minor": 2
}
