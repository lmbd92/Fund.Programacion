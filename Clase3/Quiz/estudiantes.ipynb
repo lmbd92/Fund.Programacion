{
 "cells": [
  {
   "attachments": {},
   "cell_type": "markdown",
   "metadata": {},
   "source": [
    "En este código, se abre el archivo estudiantes.txt y se leen sus líneas utilizando el método readlines(). Luego, se crea una lista vacía llamada personas que se utilizará para almacenar los estudiantes.\n",
    "\n",
    "A continuación, se recorre cada línea del archivo de texto y se divide en campos utilizando el carácter ; como separador. Se crea un diccionario con los campos correspondientes para cada estudiante y se añade a la lista personas.\n",
    "\n",
    "Finalmente, se recorre la lista de estudiantes y se muestran sus campos utilizando el método print(). Se utiliza una f-string para mostrar de forma amigable los campos de cada estudiante."
   ]
  },
  {
   "cell_type": "code",
   "execution_count": 1,
   "metadata": {},
   "outputs": [
    {
     "name": "stdout",
     "output_type": "stream",
     "text": [
      "ID: 1\n",
      "Nombre: Carlos\n",
      "Apellido: Pérez\n",
      "Fecha de nacimiento: 05/01/1989\n",
      "\n",
      "ID: 2\n",
      "Nombre: Manuel\n",
      "Apellido: Heredia\n",
      "Fecha de nacimiento: 26/12/1973\n",
      "\n",
      "ID: 3\n",
      "Nombre: Rosa\n",
      "Apellido: Campos\n",
      "Fecha de nacimiento: 12/06/1961\n",
      "\n",
      "ID: 4\n",
      "Nombre: David\n",
      "Apellido: García\n",
      "Fecha de nacimiento: 25/07/2006\n",
      "\n"
     ]
    }
   ],
   "source": [
    "from io import open\n",
    "\n",
    "# Abrir el archivo de texto y leer sus líneas\n",
    "with open('estudiantes.txt', 'r') as f:\n",
    "    lineas = f.readlines()\n",
    "\n",
    "# Crear una lista vacía para almacenar los estudiantes\n",
    "personas = []\n",
    "\n",
    "# Recorrer cada línea y crear un diccionario para cada estudiante\n",
    "for linea in lineas:\n",
    "    campos = linea.strip().split(';')\n",
    "    estudiante = {'id': campos[0], 'nombre': campos[1],\n",
    "                  'apellido': campos[2], 'fecha_nacimiento': campos[3]}\n",
    "    personas.append(estudiante)\n",
    "\n",
    "# Recorrer la lista de estudiantes y mostrar sus campos\n",
    "for estudiante in personas:\n",
    "    print(f\"ID: {estudiante['id']}\")\n",
    "    print(f\"Nombre: {estudiante['nombre']}\")\n",
    "    print(f\"Apellido: {estudiante['apellido']}\")\n",
    "    print(f\"Fecha de nacimiento: {estudiante['fecha_nacimiento']}\")\n",
    "    print()\n"
   ]
  }
 ],
 "metadata": {
  "kernelspec": {
   "display_name": "base",
   "language": "python",
   "name": "python3"
  },
  "language_info": {
   "codemirror_mode": {
    "name": "ipython",
    "version": 3
   },
   "file_extension": ".py",
   "mimetype": "text/x-python",
   "name": "python",
   "nbconvert_exporter": "python",
   "pygments_lexer": "ipython3",
   "version": "3.9.13"
  },
  "orig_nbformat": 4,
  "vscode": {
   "interpreter": {
    "hash": "1ab5102c74f6a8698e26ee368efd10ad6a7548f07f24653cf2874797d77b917d"
   }
  }
 },
 "nbformat": 4,
 "nbformat_minor": 2
}
