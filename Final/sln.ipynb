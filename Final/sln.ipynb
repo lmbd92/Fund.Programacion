{
 "cells": [
  {
   "cell_type": "code",
   "execution_count": 1,
   "metadata": {},
   "outputs": [],
   "source": [
    "import numpy as np\n",
    "\n",
    "import pandas as pd\n",
    "\n",
    "import matplotlib.pyplot as plt\n",
    "\n",
    "import plotly.express as px\n",
    "\n",
    "import seaborn as sns\n"
   ]
  },
  {
   "cell_type": "code",
   "execution_count": 2,
   "metadata": {},
   "outputs": [
    {
     "data": {
      "text/html": [
       "<div>\n",
       "<style scoped>\n",
       "    .dataframe tbody tr th:only-of-type {\n",
       "        vertical-align: middle;\n",
       "    }\n",
       "\n",
       "    .dataframe tbody tr th {\n",
       "        vertical-align: top;\n",
       "    }\n",
       "\n",
       "    .dataframe thead th {\n",
       "        text-align: right;\n",
       "    }\n",
       "</style>\n",
       "<table border=\"1\" class=\"dataframe\">\n",
       "  <thead>\n",
       "    <tr style=\"text-align: right;\">\n",
       "      <th></th>\n",
       "      <th>Serial Number</th>\n",
       "      <th>Country</th>\n",
       "      <th>Total Cases</th>\n",
       "      <th>Total Deaths</th>\n",
       "      <th>Total Recovered</th>\n",
       "      <th>Active Cases</th>\n",
       "      <th>Total Test</th>\n",
       "      <th>Population</th>\n",
       "    </tr>\n",
       "  </thead>\n",
       "  <tbody>\n",
       "    <tr>\n",
       "      <th>0</th>\n",
       "      <td>1</td>\n",
       "      <td>USA</td>\n",
       "      <td>104,196,861</td>\n",
       "      <td>1,132,935</td>\n",
       "      <td>101,322,779</td>\n",
       "      <td>1,741,147</td>\n",
       "      <td>1,159,832,679</td>\n",
       "      <td>334,805,269</td>\n",
       "    </tr>\n",
       "    <tr>\n",
       "      <th>1</th>\n",
       "      <td>2</td>\n",
       "      <td>India</td>\n",
       "      <td>44,682,784</td>\n",
       "      <td>530,740</td>\n",
       "      <td>44,150,289</td>\n",
       "      <td>1,755</td>\n",
       "      <td>915,265,788</td>\n",
       "      <td>1,406,631,776</td>\n",
       "    </tr>\n",
       "    <tr>\n",
       "      <th>2</th>\n",
       "      <td>3</td>\n",
       "      <td>France</td>\n",
       "      <td>39,524,311</td>\n",
       "      <td>164,233</td>\n",
       "      <td>39,264,546</td>\n",
       "      <td>95,532</td>\n",
       "      <td>271,490,188</td>\n",
       "      <td>65,584,518</td>\n",
       "    </tr>\n",
       "    <tr>\n",
       "      <th>3</th>\n",
       "      <td>4</td>\n",
       "      <td>Germany</td>\n",
       "      <td>37,779,833</td>\n",
       "      <td>165,711</td>\n",
       "      <td>37,398,100</td>\n",
       "      <td>216,022</td>\n",
       "      <td>122,332,384</td>\n",
       "      <td>83,883,596</td>\n",
       "    </tr>\n",
       "    <tr>\n",
       "      <th>4</th>\n",
       "      <td>5</td>\n",
       "      <td>Brazil</td>\n",
       "      <td>36,824,580</td>\n",
       "      <td>697,074</td>\n",
       "      <td>35,919,372</td>\n",
       "      <td>208,134</td>\n",
       "      <td>63,776,166</td>\n",
       "      <td>215,353,593</td>\n",
       "    </tr>\n",
       "    <tr>\n",
       "      <th>...</th>\n",
       "      <td>...</td>\n",
       "      <td>...</td>\n",
       "      <td>...</td>\n",
       "      <td>...</td>\n",
       "      <td>...</td>\n",
       "      <td>...</td>\n",
       "      <td>...</td>\n",
       "      <td>...</td>\n",
       "    </tr>\n",
       "    <tr>\n",
       "      <th>226</th>\n",
       "      <td>227</td>\n",
       "      <td>Diamond Princess</td>\n",
       "      <td>712</td>\n",
       "      <td>13</td>\n",
       "      <td>699</td>\n",
       "      <td>0</td>\n",
       "      <td>NaN</td>\n",
       "      <td>NaN</td>\n",
       "    </tr>\n",
       "    <tr>\n",
       "      <th>227</th>\n",
       "      <td>228</td>\n",
       "      <td>Vatican City</td>\n",
       "      <td>29</td>\n",
       "      <td>NaN</td>\n",
       "      <td>29</td>\n",
       "      <td>0</td>\n",
       "      <td>NaN</td>\n",
       "      <td>799</td>\n",
       "    </tr>\n",
       "    <tr>\n",
       "      <th>228</th>\n",
       "      <td>229</td>\n",
       "      <td>Western Sahara</td>\n",
       "      <td>10</td>\n",
       "      <td>1</td>\n",
       "      <td>9</td>\n",
       "      <td>0</td>\n",
       "      <td>NaN</td>\n",
       "      <td>626,161</td>\n",
       "    </tr>\n",
       "    <tr>\n",
       "      <th>229</th>\n",
       "      <td>230</td>\n",
       "      <td>MS Zaandam</td>\n",
       "      <td>9</td>\n",
       "      <td>2</td>\n",
       "      <td>7</td>\n",
       "      <td>0</td>\n",
       "      <td>NaN</td>\n",
       "      <td>NaN</td>\n",
       "    </tr>\n",
       "    <tr>\n",
       "      <th>230</th>\n",
       "      <td>231</td>\n",
       "      <td>Tokelau</td>\n",
       "      <td>5</td>\n",
       "      <td>NaN</td>\n",
       "      <td>NaN</td>\n",
       "      <td>5</td>\n",
       "      <td>NaN</td>\n",
       "      <td>1,378</td>\n",
       "    </tr>\n",
       "  </tbody>\n",
       "</table>\n",
       "<p>231 rows × 8 columns</p>\n",
       "</div>"
      ],
      "text/plain": [
       "     Serial Number           Country  Total Cases Total Deaths  \\\n",
       "0                1               USA  104,196,861    1,132,935   \n",
       "1                2             India   44,682,784      530,740   \n",
       "2                3            France   39,524,311      164,233   \n",
       "3                4           Germany   37,779,833      165,711   \n",
       "4                5            Brazil   36,824,580      697,074   \n",
       "..             ...               ...          ...          ...   \n",
       "226            227  Diamond Princess          712           13   \n",
       "227            228      Vatican City           29          NaN   \n",
       "228            229    Western Sahara           10            1   \n",
       "229            230        MS Zaandam            9            2   \n",
       "230            231           Tokelau            5          NaN   \n",
       "\n",
       "    Total Recovered Active Cases     Total Test     Population  \n",
       "0       101,322,779    1,741,147  1,159,832,679    334,805,269  \n",
       "1        44,150,289        1,755    915,265,788  1,406,631,776  \n",
       "2        39,264,546       95,532    271,490,188     65,584,518  \n",
       "3        37,398,100      216,022    122,332,384     83,883,596  \n",
       "4        35,919,372      208,134     63,776,166    215,353,593  \n",
       "..              ...          ...            ...            ...  \n",
       "226             699            0            NaN            NaN  \n",
       "227              29            0            NaN            799  \n",
       "228               9            0            NaN        626,161  \n",
       "229               7            0            NaN            NaN  \n",
       "230             NaN            5            NaN          1,378  \n",
       "\n",
       "[231 rows x 8 columns]"
      ]
     },
     "execution_count": 2,
     "metadata": {},
     "output_type": "execute_result"
    }
   ],
   "source": [
    "# Read the CSV file and load into a DataFrame\n",
    "df = pd.read_csv('covid_worldwide.csv')\n",
    "df"
   ]
  },
  {
   "cell_type": "code",
   "execution_count": 3,
   "metadata": {},
   "outputs": [
    {
     "name": "stdout",
     "output_type": "stream",
     "text": [
      "(231, 8)\n"
     ]
    }
   ],
   "source": [
    "# Print the shape of the DataFrame\n",
    "print(df.shape)"
   ]
  },
  {
   "cell_type": "code",
   "execution_count": 4,
   "metadata": {},
   "outputs": [
    {
     "name": "stdout",
     "output_type": "stream",
     "text": [
      "<class 'pandas.core.frame.DataFrame'>\n",
      "RangeIndex: 231 entries, 0 to 230\n",
      "Data columns (total 8 columns):\n",
      " #   Column           Non-Null Count  Dtype \n",
      "---  ------           --------------  ----- \n",
      " 0   Serial Number    231 non-null    int64 \n",
      " 1   Country          231 non-null    object\n",
      " 2   Total Cases      231 non-null    object\n",
      " 3   Total Deaths     225 non-null    object\n",
      " 4   Total Recovered  210 non-null    object\n",
      " 5   Active Cases     212 non-null    object\n",
      " 6   Total Test       213 non-null    object\n",
      " 7   Population       228 non-null    object\n",
      "dtypes: int64(1), object(7)\n",
      "memory usage: 14.6+ KB\n"
     ]
    }
   ],
   "source": [
    "#Df info.\n",
    "df.info()"
   ]
  },
  {
   "cell_type": "code",
   "execution_count": 5,
   "metadata": {},
   "outputs": [
    {
     "name": "stdout",
     "output_type": "stream",
     "text": [
      "<class 'pandas.core.frame.DataFrame'>\n",
      "RangeIndex: 231 entries, 0 to 230\n",
      "Data columns (total 7 columns):\n",
      " #   Column           Non-Null Count  Dtype \n",
      "---  ------           --------------  ----- \n",
      " 0   Country          231 non-null    object\n",
      " 1   Total Cases      231 non-null    object\n",
      " 2   Total Deaths     225 non-null    object\n",
      " 3   Total Recovered  210 non-null    object\n",
      " 4   Active Cases     212 non-null    object\n",
      " 5   Total Test       213 non-null    object\n",
      " 6   Population       228 non-null    object\n",
      "dtypes: object(7)\n",
      "memory usage: 12.8+ KB\n"
     ]
    }
   ],
   "source": [
    "#Delete elements from the dataframe with different data types\n",
    "\n",
    "# 1. Make a copy of the original DataFrame\n",
    "df_copy = df.copy()\n",
    "\n",
    "# Delete elements with non-numeric data types\n",
    "df_copy = df_copy.select_dtypes(include=['object'])\n",
    "\n",
    "#Df info.\n",
    "df_copy.info()\n"
   ]
  },
  {
   "cell_type": "code",
   "execution_count": 6,
   "metadata": {},
   "outputs": [
    {
     "data": {
      "text/html": [
       "<div>\n",
       "<style scoped>\n",
       "    .dataframe tbody tr th:only-of-type {\n",
       "        vertical-align: middle;\n",
       "    }\n",
       "\n",
       "    .dataframe tbody tr th {\n",
       "        vertical-align: top;\n",
       "    }\n",
       "\n",
       "    .dataframe thead th {\n",
       "        text-align: right;\n",
       "    }\n",
       "</style>\n",
       "<table border=\"1\" class=\"dataframe\">\n",
       "  <thead>\n",
       "    <tr style=\"text-align: right;\">\n",
       "      <th></th>\n",
       "      <th>Country</th>\n",
       "      <th>Total Cases</th>\n",
       "      <th>Total Deaths</th>\n",
       "      <th>Total Recovered</th>\n",
       "      <th>Active Cases</th>\n",
       "      <th>Total Test</th>\n",
       "      <th>Population</th>\n",
       "      <th>nulos</th>\n",
       "      <th>Porcentaje_null</th>\n",
       "    </tr>\n",
       "  </thead>\n",
       "  <tbody>\n",
       "    <tr>\n",
       "      <th>0</th>\n",
       "      <td>USA</td>\n",
       "      <td>104,196,861</td>\n",
       "      <td>1,132,935</td>\n",
       "      <td>101,322,779</td>\n",
       "      <td>1,741,147</td>\n",
       "      <td>1,159,832,679</td>\n",
       "      <td>334,805,269</td>\n",
       "      <td>0</td>\n",
       "      <td>0.000</td>\n",
       "    </tr>\n",
       "    <tr>\n",
       "      <th>1</th>\n",
       "      <td>India</td>\n",
       "      <td>44,682,784</td>\n",
       "      <td>530,740</td>\n",
       "      <td>44,150,289</td>\n",
       "      <td>1,755</td>\n",
       "      <td>915,265,788</td>\n",
       "      <td>1,406,631,776</td>\n",
       "      <td>0</td>\n",
       "      <td>0.000</td>\n",
       "    </tr>\n",
       "    <tr>\n",
       "      <th>2</th>\n",
       "      <td>France</td>\n",
       "      <td>39,524,311</td>\n",
       "      <td>164,233</td>\n",
       "      <td>39,264,546</td>\n",
       "      <td>95,532</td>\n",
       "      <td>271,490,188</td>\n",
       "      <td>65,584,518</td>\n",
       "      <td>0</td>\n",
       "      <td>0.000</td>\n",
       "    </tr>\n",
       "    <tr>\n",
       "      <th>3</th>\n",
       "      <td>Germany</td>\n",
       "      <td>37,779,833</td>\n",
       "      <td>165,711</td>\n",
       "      <td>37,398,100</td>\n",
       "      <td>216,022</td>\n",
       "      <td>122,332,384</td>\n",
       "      <td>83,883,596</td>\n",
       "      <td>0</td>\n",
       "      <td>0.000</td>\n",
       "    </tr>\n",
       "    <tr>\n",
       "      <th>4</th>\n",
       "      <td>Brazil</td>\n",
       "      <td>36,824,580</td>\n",
       "      <td>697,074</td>\n",
       "      <td>35,919,372</td>\n",
       "      <td>208,134</td>\n",
       "      <td>63,776,166</td>\n",
       "      <td>215,353,593</td>\n",
       "      <td>0</td>\n",
       "      <td>0.000</td>\n",
       "    </tr>\n",
       "    <tr>\n",
       "      <th>...</th>\n",
       "      <td>...</td>\n",
       "      <td>...</td>\n",
       "      <td>...</td>\n",
       "      <td>...</td>\n",
       "      <td>...</td>\n",
       "      <td>...</td>\n",
       "      <td>...</td>\n",
       "      <td>...</td>\n",
       "      <td>...</td>\n",
       "    </tr>\n",
       "    <tr>\n",
       "      <th>226</th>\n",
       "      <td>Diamond Princess</td>\n",
       "      <td>712</td>\n",
       "      <td>13</td>\n",
       "      <td>699</td>\n",
       "      <td>0</td>\n",
       "      <td>NaN</td>\n",
       "      <td>NaN</td>\n",
       "      <td>2</td>\n",
       "      <td>0.250</td>\n",
       "    </tr>\n",
       "    <tr>\n",
       "      <th>227</th>\n",
       "      <td>Vatican City</td>\n",
       "      <td>29</td>\n",
       "      <td>NaN</td>\n",
       "      <td>29</td>\n",
       "      <td>0</td>\n",
       "      <td>NaN</td>\n",
       "      <td>799</td>\n",
       "      <td>2</td>\n",
       "      <td>0.250</td>\n",
       "    </tr>\n",
       "    <tr>\n",
       "      <th>228</th>\n",
       "      <td>Western Sahara</td>\n",
       "      <td>10</td>\n",
       "      <td>1</td>\n",
       "      <td>9</td>\n",
       "      <td>0</td>\n",
       "      <td>NaN</td>\n",
       "      <td>626,161</td>\n",
       "      <td>1</td>\n",
       "      <td>0.125</td>\n",
       "    </tr>\n",
       "    <tr>\n",
       "      <th>229</th>\n",
       "      <td>MS Zaandam</td>\n",
       "      <td>9</td>\n",
       "      <td>2</td>\n",
       "      <td>7</td>\n",
       "      <td>0</td>\n",
       "      <td>NaN</td>\n",
       "      <td>NaN</td>\n",
       "      <td>2</td>\n",
       "      <td>0.250</td>\n",
       "    </tr>\n",
       "    <tr>\n",
       "      <th>230</th>\n",
       "      <td>Tokelau</td>\n",
       "      <td>5</td>\n",
       "      <td>NaN</td>\n",
       "      <td>NaN</td>\n",
       "      <td>5</td>\n",
       "      <td>NaN</td>\n",
       "      <td>1,378</td>\n",
       "      <td>3</td>\n",
       "      <td>0.375</td>\n",
       "    </tr>\n",
       "  </tbody>\n",
       "</table>\n",
       "<p>231 rows × 9 columns</p>\n",
       "</div>"
      ],
      "text/plain": [
       "              Country  Total Cases Total Deaths Total Recovered Active Cases  \\\n",
       "0                 USA  104,196,861    1,132,935     101,322,779    1,741,147   \n",
       "1               India   44,682,784      530,740      44,150,289        1,755   \n",
       "2              France   39,524,311      164,233      39,264,546       95,532   \n",
       "3             Germany   37,779,833      165,711      37,398,100      216,022   \n",
       "4              Brazil   36,824,580      697,074      35,919,372      208,134   \n",
       "..                ...          ...          ...             ...          ...   \n",
       "226  Diamond Princess          712           13             699            0   \n",
       "227      Vatican City           29          NaN              29            0   \n",
       "228    Western Sahara           10            1               9            0   \n",
       "229        MS Zaandam            9            2               7            0   \n",
       "230           Tokelau            5          NaN             NaN            5   \n",
       "\n",
       "        Total Test     Population  nulos  Porcentaje_null  \n",
       "0    1,159,832,679    334,805,269      0            0.000  \n",
       "1      915,265,788  1,406,631,776      0            0.000  \n",
       "2      271,490,188     65,584,518      0            0.000  \n",
       "3      122,332,384     83,883,596      0            0.000  \n",
       "4       63,776,166    215,353,593      0            0.000  \n",
       "..             ...            ...    ...              ...  \n",
       "226            NaN            NaN      2            0.250  \n",
       "227            NaN            799      2            0.250  \n",
       "228            NaN        626,161      1            0.125  \n",
       "229            NaN            NaN      2            0.250  \n",
       "230            NaN          1,378      3            0.375  \n",
       "\n",
       "[231 rows x 9 columns]"
      ]
     },
     "execution_count": 6,
     "metadata": {},
     "output_type": "execute_result"
    }
   ],
   "source": [
    "# 1. Add a new column called 'nulos' where we are going to save the sum of the null values on each row of the dataframe\n",
    "df_copy ['nulos'] = df_copy.isnull().sum(axis=1)\n",
    "\n",
    "# 2. calculate the total number of columns in the dataframe\n",
    "num_cols = df_copy.shape[1]\n",
    "\n",
    "# 3. Calculate the percentage of the null values\n",
    "df_copy['Porcentaje_null'] = df_copy['nulos'] / num_cols\n",
    "\n",
    "# 4. Since the request isn't complete clear, we are assuming that we have to create a new dataframe where the rows correspond with the following condition where we are validating that the null values are less or equal than the 50 percent of the total row data\n",
    "df_copy[df_copy['Porcentaje_null'] <= 0.5]\n",
    "\n",
    "df_copy"
   ]
  },
  {
   "cell_type": "code",
   "execution_count": 7,
   "metadata": {},
   "outputs": [
    {
     "data": {
      "text/html": [
       "<div>\n",
       "<style scoped>\n",
       "    .dataframe tbody tr th:only-of-type {\n",
       "        vertical-align: middle;\n",
       "    }\n",
       "\n",
       "    .dataframe tbody tr th {\n",
       "        vertical-align: top;\n",
       "    }\n",
       "\n",
       "    .dataframe thead th {\n",
       "        text-align: right;\n",
       "    }\n",
       "</style>\n",
       "<table border=\"1\" class=\"dataframe\">\n",
       "  <thead>\n",
       "    <tr style=\"text-align: right;\">\n",
       "      <th></th>\n",
       "      <th>Country</th>\n",
       "      <th>Total Cases</th>\n",
       "      <th>Total Deaths</th>\n",
       "      <th>Total Recovered</th>\n",
       "      <th>Active Cases</th>\n",
       "      <th>Total Test</th>\n",
       "      <th>Population</th>\n",
       "      <th>nulos</th>\n",
       "      <th>Porcentaje_null</th>\n",
       "    </tr>\n",
       "  </thead>\n",
       "  <tbody>\n",
       "  </tbody>\n",
       "</table>\n",
       "</div>"
      ],
      "text/plain": [
       "Empty DataFrame\n",
       "Columns: [Country, Total Cases, Total Deaths, Total Recovered, Active Cases, Total Test, Population, nulos, Porcentaje_null]\n",
       "Index: []"
      ]
     },
     "execution_count": 7,
     "metadata": {},
     "output_type": "execute_result"
    }
   ],
   "source": [
    "# check if there are duplicated entries on the country column\n",
    "\n",
    "df_copy[df_copy.duplicated('Country', False)]\n"
   ]
  },
  {
   "cell_type": "code",
   "execution_count": 8,
   "metadata": {},
   "outputs": [
    {
     "name": "stdout",
     "output_type": "stream",
     "text": [
      "<class 'pandas.core.frame.DataFrame'>\n",
      "RangeIndex: 231 entries, 0 to 230\n",
      "Data columns (total 7 columns):\n",
      " #   Column           Non-Null Count  Dtype  \n",
      "---  ------           --------------  -----  \n",
      " 0   Country          231 non-null    object \n",
      " 1   Total Cases      231 non-null    int64  \n",
      " 2   Total Deaths     225 non-null    float64\n",
      " 3   Total Recovered  210 non-null    float64\n",
      " 4   Active Cases     212 non-null    float64\n",
      " 5   Total Test       213 non-null    float64\n",
      " 6   Population       228 non-null    float64\n",
      "dtypes: float64(5), int64(1), object(1)\n",
      "memory usage: 12.8+ KB\n"
     ]
    }
   ],
   "source": [
    "# Read the data with thousands formatting\n",
    "df_copy_th = pd.read_csv ('covid_worldwide.csv',thousands=',')\n",
    "df_copy_th = df_copy_th.drop(labels= 'Serial Number', axis= 1)\n",
    "df_copy_th.info()\n"
   ]
  },
  {
   "cell_type": "code",
   "execution_count": 9,
   "metadata": {},
   "outputs": [
    {
     "data": {
      "text/html": [
       "<div>\n",
       "<style scoped>\n",
       "    .dataframe tbody tr th:only-of-type {\n",
       "        vertical-align: middle;\n",
       "    }\n",
       "\n",
       "    .dataframe tbody tr th {\n",
       "        vertical-align: top;\n",
       "    }\n",
       "\n",
       "    .dataframe thead th {\n",
       "        text-align: right;\n",
       "    }\n",
       "</style>\n",
       "<table border=\"1\" class=\"dataframe\">\n",
       "  <thead>\n",
       "    <tr style=\"text-align: right;\">\n",
       "      <th></th>\n",
       "      <th>Country</th>\n",
       "      <th>Total Cases</th>\n",
       "      <th>Total Deaths</th>\n",
       "      <th>Total Recovered</th>\n",
       "      <th>Active Cases</th>\n",
       "      <th>Total Test</th>\n",
       "      <th>Population</th>\n",
       "    </tr>\n",
       "  </thead>\n",
       "  <tbody>\n",
       "    <tr>\n",
       "      <th>0</th>\n",
       "      <td>USA</td>\n",
       "      <td>104196861</td>\n",
       "      <td>1132935.0</td>\n",
       "      <td>101322779.0</td>\n",
       "      <td>1741147.0</td>\n",
       "      <td>1.159833e+09</td>\n",
       "      <td>3.348053e+08</td>\n",
       "    </tr>\n",
       "    <tr>\n",
       "      <th>1</th>\n",
       "      <td>India</td>\n",
       "      <td>44682784</td>\n",
       "      <td>530740.0</td>\n",
       "      <td>44150289.0</td>\n",
       "      <td>1755.0</td>\n",
       "      <td>9.152658e+08</td>\n",
       "      <td>1.406632e+09</td>\n",
       "    </tr>\n",
       "    <tr>\n",
       "      <th>2</th>\n",
       "      <td>France</td>\n",
       "      <td>39524311</td>\n",
       "      <td>164233.0</td>\n",
       "      <td>39264546.0</td>\n",
       "      <td>95532.0</td>\n",
       "      <td>2.714902e+08</td>\n",
       "      <td>6.558452e+07</td>\n",
       "    </tr>\n",
       "    <tr>\n",
       "      <th>3</th>\n",
       "      <td>Germany</td>\n",
       "      <td>37779833</td>\n",
       "      <td>165711.0</td>\n",
       "      <td>37398100.0</td>\n",
       "      <td>216022.0</td>\n",
       "      <td>1.223324e+08</td>\n",
       "      <td>8.388360e+07</td>\n",
       "    </tr>\n",
       "    <tr>\n",
       "      <th>4</th>\n",
       "      <td>Brazil</td>\n",
       "      <td>36824580</td>\n",
       "      <td>697074.0</td>\n",
       "      <td>35919372.0</td>\n",
       "      <td>208134.0</td>\n",
       "      <td>6.377617e+07</td>\n",
       "      <td>2.153536e+08</td>\n",
       "    </tr>\n",
       "    <tr>\n",
       "      <th>...</th>\n",
       "      <td>...</td>\n",
       "      <td>...</td>\n",
       "      <td>...</td>\n",
       "      <td>...</td>\n",
       "      <td>...</td>\n",
       "      <td>...</td>\n",
       "      <td>...</td>\n",
       "    </tr>\n",
       "    <tr>\n",
       "      <th>226</th>\n",
       "      <td>Diamond Princess</td>\n",
       "      <td>712</td>\n",
       "      <td>13.0</td>\n",
       "      <td>699.0</td>\n",
       "      <td>0.0</td>\n",
       "      <td>NaN</td>\n",
       "      <td>NaN</td>\n",
       "    </tr>\n",
       "    <tr>\n",
       "      <th>227</th>\n",
       "      <td>Vatican City</td>\n",
       "      <td>29</td>\n",
       "      <td>NaN</td>\n",
       "      <td>29.0</td>\n",
       "      <td>0.0</td>\n",
       "      <td>NaN</td>\n",
       "      <td>7.990000e+02</td>\n",
       "    </tr>\n",
       "    <tr>\n",
       "      <th>228</th>\n",
       "      <td>Western Sahara</td>\n",
       "      <td>10</td>\n",
       "      <td>1.0</td>\n",
       "      <td>9.0</td>\n",
       "      <td>0.0</td>\n",
       "      <td>NaN</td>\n",
       "      <td>6.261610e+05</td>\n",
       "    </tr>\n",
       "    <tr>\n",
       "      <th>229</th>\n",
       "      <td>MS Zaandam</td>\n",
       "      <td>9</td>\n",
       "      <td>2.0</td>\n",
       "      <td>7.0</td>\n",
       "      <td>0.0</td>\n",
       "      <td>NaN</td>\n",
       "      <td>NaN</td>\n",
       "    </tr>\n",
       "    <tr>\n",
       "      <th>230</th>\n",
       "      <td>Tokelau</td>\n",
       "      <td>5</td>\n",
       "      <td>NaN</td>\n",
       "      <td>NaN</td>\n",
       "      <td>5.0</td>\n",
       "      <td>NaN</td>\n",
       "      <td>1.378000e+03</td>\n",
       "    </tr>\n",
       "  </tbody>\n",
       "</table>\n",
       "<p>231 rows × 7 columns</p>\n",
       "</div>"
      ],
      "text/plain": [
       "              Country  Total Cases  Total Deaths  Total Recovered  \\\n",
       "0                 USA    104196861     1132935.0      101322779.0   \n",
       "1               India     44682784      530740.0       44150289.0   \n",
       "2              France     39524311      164233.0       39264546.0   \n",
       "3             Germany     37779833      165711.0       37398100.0   \n",
       "4              Brazil     36824580      697074.0       35919372.0   \n",
       "..                ...          ...           ...              ...   \n",
       "226  Diamond Princess          712          13.0            699.0   \n",
       "227      Vatican City           29           NaN             29.0   \n",
       "228    Western Sahara           10           1.0              9.0   \n",
       "229        MS Zaandam            9           2.0              7.0   \n",
       "230           Tokelau            5           NaN              NaN   \n",
       "\n",
       "     Active Cases    Total Test    Population  \n",
       "0       1741147.0  1.159833e+09  3.348053e+08  \n",
       "1          1755.0  9.152658e+08  1.406632e+09  \n",
       "2         95532.0  2.714902e+08  6.558452e+07  \n",
       "3        216022.0  1.223324e+08  8.388360e+07  \n",
       "4        208134.0  6.377617e+07  2.153536e+08  \n",
       "..            ...           ...           ...  \n",
       "226           0.0           NaN           NaN  \n",
       "227           0.0           NaN  7.990000e+02  \n",
       "228           0.0           NaN  6.261610e+05  \n",
       "229           0.0           NaN           NaN  \n",
       "230           5.0           NaN  1.378000e+03  \n",
       "\n",
       "[231 rows x 7 columns]"
      ]
     },
     "execution_count": 9,
     "metadata": {},
     "output_type": "execute_result"
    }
   ],
   "source": [
    "df_copy_th\n"
   ]
  },
  {
   "cell_type": "code",
   "execution_count": 10,
   "metadata": {},
   "outputs": [
    {
     "data": {
      "text/html": [
       "<div>\n",
       "<style scoped>\n",
       "    .dataframe tbody tr th:only-of-type {\n",
       "        vertical-align: middle;\n",
       "    }\n",
       "\n",
       "    .dataframe tbody tr th {\n",
       "        vertical-align: top;\n",
       "    }\n",
       "\n",
       "    .dataframe thead th {\n",
       "        text-align: right;\n",
       "    }\n",
       "</style>\n",
       "<table border=\"1\" class=\"dataframe\">\n",
       "  <thead>\n",
       "    <tr style=\"text-align: right;\">\n",
       "      <th></th>\n",
       "      <th>Country</th>\n",
       "      <th>Total Cases</th>\n",
       "      <th>Total Deaths</th>\n",
       "      <th>Total Recovered</th>\n",
       "      <th>Active Cases</th>\n",
       "      <th>Total Test</th>\n",
       "      <th>Population</th>\n",
       "      <th>P_deaths_by_country</th>\n",
       "    </tr>\n",
       "  </thead>\n",
       "  <tbody>\n",
       "    <tr>\n",
       "      <th>0</th>\n",
       "      <td>USA</td>\n",
       "      <td>104196861</td>\n",
       "      <td>1132935.0</td>\n",
       "      <td>101322779.0</td>\n",
       "      <td>1741147.0</td>\n",
       "      <td>1.159833e+09</td>\n",
       "      <td>3.348053e+08</td>\n",
       "      <td>1.09</td>\n",
       "    </tr>\n",
       "    <tr>\n",
       "      <th>1</th>\n",
       "      <td>India</td>\n",
       "      <td>44682784</td>\n",
       "      <td>530740.0</td>\n",
       "      <td>44150289.0</td>\n",
       "      <td>1755.0</td>\n",
       "      <td>9.152658e+08</td>\n",
       "      <td>1.406632e+09</td>\n",
       "      <td>1.19</td>\n",
       "    </tr>\n",
       "    <tr>\n",
       "      <th>2</th>\n",
       "      <td>France</td>\n",
       "      <td>39524311</td>\n",
       "      <td>164233.0</td>\n",
       "      <td>39264546.0</td>\n",
       "      <td>95532.0</td>\n",
       "      <td>2.714902e+08</td>\n",
       "      <td>6.558452e+07</td>\n",
       "      <td>0.42</td>\n",
       "    </tr>\n",
       "    <tr>\n",
       "      <th>3</th>\n",
       "      <td>Germany</td>\n",
       "      <td>37779833</td>\n",
       "      <td>165711.0</td>\n",
       "      <td>37398100.0</td>\n",
       "      <td>216022.0</td>\n",
       "      <td>1.223324e+08</td>\n",
       "      <td>8.388360e+07</td>\n",
       "      <td>0.44</td>\n",
       "    </tr>\n",
       "    <tr>\n",
       "      <th>4</th>\n",
       "      <td>Brazil</td>\n",
       "      <td>36824580</td>\n",
       "      <td>697074.0</td>\n",
       "      <td>35919372.0</td>\n",
       "      <td>208134.0</td>\n",
       "      <td>6.377617e+07</td>\n",
       "      <td>2.153536e+08</td>\n",
       "      <td>1.89</td>\n",
       "    </tr>\n",
       "    <tr>\n",
       "      <th>...</th>\n",
       "      <td>...</td>\n",
       "      <td>...</td>\n",
       "      <td>...</td>\n",
       "      <td>...</td>\n",
       "      <td>...</td>\n",
       "      <td>...</td>\n",
       "      <td>...</td>\n",
       "      <td>...</td>\n",
       "    </tr>\n",
       "    <tr>\n",
       "      <th>226</th>\n",
       "      <td>Diamond Princess</td>\n",
       "      <td>712</td>\n",
       "      <td>13.0</td>\n",
       "      <td>699.0</td>\n",
       "      <td>0.0</td>\n",
       "      <td>NaN</td>\n",
       "      <td>NaN</td>\n",
       "      <td>1.83</td>\n",
       "    </tr>\n",
       "    <tr>\n",
       "      <th>227</th>\n",
       "      <td>Vatican City</td>\n",
       "      <td>29</td>\n",
       "      <td>NaN</td>\n",
       "      <td>29.0</td>\n",
       "      <td>0.0</td>\n",
       "      <td>NaN</td>\n",
       "      <td>7.990000e+02</td>\n",
       "      <td>NaN</td>\n",
       "    </tr>\n",
       "    <tr>\n",
       "      <th>228</th>\n",
       "      <td>Western Sahara</td>\n",
       "      <td>10</td>\n",
       "      <td>1.0</td>\n",
       "      <td>9.0</td>\n",
       "      <td>0.0</td>\n",
       "      <td>NaN</td>\n",
       "      <td>6.261610e+05</td>\n",
       "      <td>10.00</td>\n",
       "    </tr>\n",
       "    <tr>\n",
       "      <th>229</th>\n",
       "      <td>MS Zaandam</td>\n",
       "      <td>9</td>\n",
       "      <td>2.0</td>\n",
       "      <td>7.0</td>\n",
       "      <td>0.0</td>\n",
       "      <td>NaN</td>\n",
       "      <td>NaN</td>\n",
       "      <td>22.22</td>\n",
       "    </tr>\n",
       "    <tr>\n",
       "      <th>230</th>\n",
       "      <td>Tokelau</td>\n",
       "      <td>5</td>\n",
       "      <td>NaN</td>\n",
       "      <td>NaN</td>\n",
       "      <td>5.0</td>\n",
       "      <td>NaN</td>\n",
       "      <td>1.378000e+03</td>\n",
       "      <td>NaN</td>\n",
       "    </tr>\n",
       "  </tbody>\n",
       "</table>\n",
       "<p>231 rows × 8 columns</p>\n",
       "</div>"
      ],
      "text/plain": [
       "              Country  Total Cases  Total Deaths  Total Recovered  \\\n",
       "0                 USA    104196861     1132935.0      101322779.0   \n",
       "1               India     44682784      530740.0       44150289.0   \n",
       "2              France     39524311      164233.0       39264546.0   \n",
       "3             Germany     37779833      165711.0       37398100.0   \n",
       "4              Brazil     36824580      697074.0       35919372.0   \n",
       "..                ...          ...           ...              ...   \n",
       "226  Diamond Princess          712          13.0            699.0   \n",
       "227      Vatican City           29           NaN             29.0   \n",
       "228    Western Sahara           10           1.0              9.0   \n",
       "229        MS Zaandam            9           2.0              7.0   \n",
       "230           Tokelau            5           NaN              NaN   \n",
       "\n",
       "     Active Cases    Total Test    Population  P_deaths_by_country  \n",
       "0       1741147.0  1.159833e+09  3.348053e+08                 1.09  \n",
       "1          1755.0  9.152658e+08  1.406632e+09                 1.19  \n",
       "2         95532.0  2.714902e+08  6.558452e+07                 0.42  \n",
       "3        216022.0  1.223324e+08  8.388360e+07                 0.44  \n",
       "4        208134.0  6.377617e+07  2.153536e+08                 1.89  \n",
       "..            ...           ...           ...                  ...  \n",
       "226           0.0           NaN           NaN                 1.83  \n",
       "227           0.0           NaN  7.990000e+02                  NaN  \n",
       "228           0.0           NaN  6.261610e+05                10.00  \n",
       "229           0.0           NaN           NaN                22.22  \n",
       "230           5.0           NaN  1.378000e+03                  NaN  \n",
       "\n",
       "[231 rows x 8 columns]"
      ]
     },
     "execution_count": 10,
     "metadata": {},
     "output_type": "execute_result"
    }
   ],
   "source": [
    "# Calculate the percentage of deaths by country\n",
    "df_copy_th['P_deaths_by_country'] = (\n",
    "    (df_copy_th['Total Deaths']/df_copy_th['Total Cases']))*100\n",
    "\n",
    "# Round the percentage to twice units\n",
    "df_copy_th['P_deaths_by_country'] = df_copy_th['P_deaths_by_country'].round(2)\n",
    "\n",
    "df_copy_th\n"
   ]
  },
  {
   "cell_type": "code",
   "execution_count": 11,
   "metadata": {},
   "outputs": [
    {
     "data": {
      "text/html": [
       "<div>\n",
       "<style scoped>\n",
       "    .dataframe tbody tr th:only-of-type {\n",
       "        vertical-align: middle;\n",
       "    }\n",
       "\n",
       "    .dataframe tbody tr th {\n",
       "        vertical-align: top;\n",
       "    }\n",
       "\n",
       "    .dataframe thead th {\n",
       "        text-align: right;\n",
       "    }\n",
       "</style>\n",
       "<table border=\"1\" class=\"dataframe\">\n",
       "  <thead>\n",
       "    <tr style=\"text-align: right;\">\n",
       "      <th></th>\n",
       "      <th>Country</th>\n",
       "      <th>Total Deaths</th>\n",
       "    </tr>\n",
       "  </thead>\n",
       "  <tbody>\n",
       "    <tr>\n",
       "      <th>0</th>\n",
       "      <td>USA</td>\n",
       "      <td>1132935.0</td>\n",
       "    </tr>\n",
       "    <tr>\n",
       "      <th>4</th>\n",
       "      <td>Brazil</td>\n",
       "      <td>697074.0</td>\n",
       "    </tr>\n",
       "    <tr>\n",
       "      <th>1</th>\n",
       "      <td>India</td>\n",
       "      <td>530740.0</td>\n",
       "    </tr>\n",
       "    <tr>\n",
       "      <th>9</th>\n",
       "      <td>Russia</td>\n",
       "      <td>395108.0</td>\n",
       "    </tr>\n",
       "    <tr>\n",
       "      <th>18</th>\n",
       "      <td>Mexico</td>\n",
       "      <td>332198.0</td>\n",
       "    </tr>\n",
       "    <tr>\n",
       "      <th>34</th>\n",
       "      <td>Peru</td>\n",
       "      <td>218931.0</td>\n",
       "    </tr>\n",
       "    <tr>\n",
       "      <th>8</th>\n",
       "      <td>UK</td>\n",
       "      <td>204171.0</td>\n",
       "    </tr>\n",
       "    <tr>\n",
       "      <th>7</th>\n",
       "      <td>Italy</td>\n",
       "      <td>186833.0</td>\n",
       "    </tr>\n",
       "    <tr>\n",
       "      <th>3</th>\n",
       "      <td>Germany</td>\n",
       "      <td>165711.0</td>\n",
       "    </tr>\n",
       "    <tr>\n",
       "      <th>2</th>\n",
       "      <td>France</td>\n",
       "      <td>164233.0</td>\n",
       "    </tr>\n",
       "  </tbody>\n",
       "</table>\n",
       "</div>"
      ],
      "text/plain": [
       "    Country  Total Deaths\n",
       "0       USA     1132935.0\n",
       "4    Brazil      697074.0\n",
       "1     India      530740.0\n",
       "9    Russia      395108.0\n",
       "18   Mexico      332198.0\n",
       "34     Peru      218931.0\n",
       "8        UK      204171.0\n",
       "7     Italy      186833.0\n",
       "3   Germany      165711.0\n",
       "2    France      164233.0"
      ]
     },
     "execution_count": 11,
     "metadata": {},
     "output_type": "execute_result"
    }
   ],
   "source": [
    "# Top 10 countries with the highest number of deaths\n",
    "df_Hg_deaths= df_copy_th.nlargest(10, 'Total Deaths')[['Country', 'Total Deaths']]\n",
    "df_Hg_deaths"
   ]
  },
  {
   "cell_type": "code",
   "execution_count": 17,
   "metadata": {},
   "outputs": [
    {
     "data": {
      "image/png": "[encoded data removed]",
      "text/plain": [
       "<Figure size 1863.88x250 with 8 Axes>"
      ]
     },
     "metadata": {},
     "output_type": "display_data"
    }
   ],
   "source": [
    "#Graphic\n",
    "tmp = df_copy_th.nlargest(10, 'Total Deaths')\n",
    "grap = sns.pairplot(tmp, hue='Country', y_vars='Total Deaths')\n",
    "plt.show(grap)"
   ]
  },
  {
   "cell_type": "code",
   "execution_count": 13,
   "metadata": {},
   "outputs": [
    {
     "data": {
      "text/html": [
       "<div>\n",
       "<style scoped>\n",
       "    .dataframe tbody tr th:only-of-type {\n",
       "        vertical-align: middle;\n",
       "    }\n",
       "\n",
       "    .dataframe tbody tr th {\n",
       "        vertical-align: top;\n",
       "    }\n",
       "\n",
       "    .dataframe thead th {\n",
       "        text-align: right;\n",
       "    }\n",
       "</style>\n",
       "<table border=\"1\" class=\"dataframe\">\n",
       "  <thead>\n",
       "    <tr style=\"text-align: right;\">\n",
       "      <th></th>\n",
       "      <th>Country</th>\n",
       "      <th>Total Deaths</th>\n",
       "    </tr>\n",
       "  </thead>\n",
       "  <tbody>\n",
       "    <tr>\n",
       "      <th>216</th>\n",
       "      <td>Nauru</td>\n",
       "      <td>1.0</td>\n",
       "    </tr>\n",
       "    <tr>\n",
       "      <th>228</th>\n",
       "      <td>Western Sahara</td>\n",
       "      <td>1.0</td>\n",
       "    </tr>\n",
       "    <tr>\n",
       "      <th>209</th>\n",
       "      <td>Cook Islands</td>\n",
       "      <td>2.0</td>\n",
       "    </tr>\n",
       "    <tr>\n",
       "      <th>219</th>\n",
       "      <td>Saint Pierre Miquelon</td>\n",
       "      <td>2.0</td>\n",
       "    </tr>\n",
       "    <tr>\n",
       "      <th>229</th>\n",
       "      <td>MS Zaandam</td>\n",
       "      <td>2.0</td>\n",
       "    </tr>\n",
       "    <tr>\n",
       "      <th>214</th>\n",
       "      <td>St. Barth</td>\n",
       "      <td>6.0</td>\n",
       "    </tr>\n",
       "    <tr>\n",
       "      <th>220</th>\n",
       "      <td>Wallis and Futuna</td>\n",
       "      <td>7.0</td>\n",
       "    </tr>\n",
       "    <tr>\n",
       "      <th>224</th>\n",
       "      <td>Montserrat</td>\n",
       "      <td>8.0</td>\n",
       "    </tr>\n",
       "    <tr>\n",
       "      <th>213</th>\n",
       "      <td>Palau</td>\n",
       "      <td>9.0</td>\n",
       "    </tr>\n",
       "    <tr>\n",
       "      <th>217</th>\n",
       "      <td>Anguilla</td>\n",
       "      <td>12.0</td>\n",
       "    </tr>\n",
       "  </tbody>\n",
       "</table>\n",
       "</div>"
      ],
      "text/plain": [
       "                   Country  Total Deaths\n",
       "216                  Nauru           1.0\n",
       "228         Western Sahara           1.0\n",
       "209           Cook Islands           2.0\n",
       "219  Saint Pierre Miquelon           2.0\n",
       "229             MS Zaandam           2.0\n",
       "214              St. Barth           6.0\n",
       "220      Wallis and Futuna           7.0\n",
       "224             Montserrat           8.0\n",
       "213                  Palau           9.0\n",
       "217               Anguilla          12.0"
      ]
     },
     "execution_count": 13,
     "metadata": {},
     "output_type": "execute_result"
    }
   ],
   "source": [
    "# Top 10 countries with fewer deaths\n",
    "df_copy_th.nsmallest(10, 'Total Deaths')[['Country', 'Total Deaths']]\n"
   ]
  },
  {
   "cell_type": "code",
   "execution_count": 18,
   "metadata": {},
   "outputs": [
    {
     "data": {
      "image/png": "[encoded data removed]",
      "text/plain": [
       "<Figure size 1947.5x250 with 8 Axes>"
      ]
     },
     "metadata": {},
     "output_type": "display_data"
    }
   ],
   "source": [
    "#Graphic\n",
    "tmp_2= df_copy_th.nsmallest(10, 'Total Deaths')\n",
    "grap_2 = sns.pairplot(tmp_2, hue='Country', y_vars='Total Deaths')\n",
    "plt.show(grap_2)"
   ]
  },
  {
   "cell_type": "code",
   "execution_count": 21,
   "metadata": {},
   "outputs": [
    {
     "data": {
      "text/html": [
       "<div>\n",
       "<style scoped>\n",
       "    .dataframe tbody tr th:only-of-type {\n",
       "        vertical-align: middle;\n",
       "    }\n",
       "\n",
       "    .dataframe tbody tr th {\n",
       "        vertical-align: top;\n",
       "    }\n",
       "\n",
       "    .dataframe thead th {\n",
       "        text-align: right;\n",
       "    }\n",
       "</style>\n",
       "<table border=\"1\" class=\"dataframe\">\n",
       "  <thead>\n",
       "    <tr style=\"text-align: right;\">\n",
       "      <th></th>\n",
       "      <th>Country</th>\n",
       "      <th>Total Recovered</th>\n",
       "    </tr>\n",
       "  </thead>\n",
       "  <tbody>\n",
       "    <tr>\n",
       "      <th>0</th>\n",
       "      <td>USA</td>\n",
       "      <td>101322779.0</td>\n",
       "    </tr>\n",
       "    <tr>\n",
       "      <th>1</th>\n",
       "      <td>India</td>\n",
       "      <td>44150289.0</td>\n",
       "    </tr>\n",
       "    <tr>\n",
       "      <th>2</th>\n",
       "      <td>France</td>\n",
       "      <td>39264546.0</td>\n",
       "    </tr>\n",
       "    <tr>\n",
       "      <th>3</th>\n",
       "      <td>Germany</td>\n",
       "      <td>37398100.0</td>\n",
       "    </tr>\n",
       "    <tr>\n",
       "      <th>4</th>\n",
       "      <td>Brazil</td>\n",
       "      <td>35919372.0</td>\n",
       "    </tr>\n",
       "    <tr>\n",
       "      <th>6</th>\n",
       "      <td>S. Korea</td>\n",
       "      <td>29740877.0</td>\n",
       "    </tr>\n",
       "    <tr>\n",
       "      <th>7</th>\n",
       "      <td>Italy</td>\n",
       "      <td>25014986.0</td>\n",
       "    </tr>\n",
       "    <tr>\n",
       "      <th>8</th>\n",
       "      <td>UK</td>\n",
       "      <td>24020088.0</td>\n",
       "    </tr>\n",
       "    <tr>\n",
       "      <th>5</th>\n",
       "      <td>Japan</td>\n",
       "      <td>21567425.0</td>\n",
       "    </tr>\n",
       "    <tr>\n",
       "      <th>9</th>\n",
       "      <td>Russia</td>\n",
       "      <td>21356008.0</td>\n",
       "    </tr>\n",
       "  </tbody>\n",
       "</table>\n",
       "</div>"
      ],
      "text/plain": [
       "    Country  Total Recovered\n",
       "0       USA      101322779.0\n",
       "1     India       44150289.0\n",
       "2    France       39264546.0\n",
       "3   Germany       37398100.0\n",
       "4    Brazil       35919372.0\n",
       "6  S. Korea       29740877.0\n",
       "7     Italy       25014986.0\n",
       "8        UK       24020088.0\n",
       "5     Japan       21567425.0\n",
       "9    Russia       21356008.0"
      ]
     },
     "execution_count": 21,
     "metadata": {},
     "output_type": "execute_result"
    }
   ],
   "source": [
    "# Calculate top 10 countries with more recovered patients\n",
    "df_rec_p= df_copy_th.nlargest(10, 'Total Recovered')[['Country', 'Total Recovered']]\n",
    "#df_rec_p['Total Recovered'] = df_rec_p['Total Recovered'].map(format_numbers)\n",
    "df_rec_p\n"
   ]
  },
  {
   "cell_type": "code",
   "execution_count": 23,
   "metadata": {},
   "outputs": [
    {
     "data": {
      "image/png": "[encoded data removed]",
      "text/plain": [
       "<Figure size 1863.88x250 with 8 Axes>"
      ]
     },
     "metadata": {},
     "output_type": "display_data"
    }
   ],
   "source": [
    "#Graphic\n",
    "tmp_3 = df_copy_th.nlargest(10, 'Total Recovered')\n",
    "grap_3 = sns.pairplot(tmp_3, hue='Country', y_vars='Total Deaths')\n",
    "plt.show(grap_3)"
   ]
  },
  {
   "cell_type": "code",
   "execution_count": 24,
   "metadata": {},
   "outputs": [
    {
     "data": {
      "application/vnd.plotly.v1+json": {
       "config": {
        "plotlyServerURL": "https://plot.ly"
       },
       "data": [
        {
         "geo": "geo",
         "hovertemplate": "Country=%{location}<br>Total Cases=%{marker.size}<extra></extra>",
         "legendgroup": "USA",
         "locationmode": "country names",
         "locations": [
          "USA"
         ],
         "marker": {
          "color": "#636efa",
          "size": [
           104196861
          ],
          "sizemode": "area",
          "sizeref": 260492.1525,
          "symbol": "circle"
         },
         "mode": "markers",
         "name": "USA",
         "showlegend": true,
         "type": "scattergeo"
        },
        {
         "geo": "geo",
         "hovertemplate": "Country=%{location}<br>Total Cases=%{marker.size}<extra></extra>",
         "legendgroup": "India",
         "locationmode": "country names",
         "locations": [
          "India"
         ],
         "marker": {
          "color": "#EF553B",
          "size": [
           44682784
          ],
          "sizemode": "area",
          "sizeref": 260492.1525,
          "symbol": "circle"
         },
         "mode": "markers",
         "name": "India",
         "showlegend": true,
         "type": "scattergeo"
        },
        {
         "geo": "geo",
         "hovertemplate": "Country=%{location}<br>Total Cases=%{marker.size}<extra></extra>",
         "legendgroup": "France",
         "locationmode": "country names",
         "locations": [
          "France"
         ],
         "marker": {
          "color": "#00cc96",
          "size": [
           39524311
          ],
          "sizemode": "area",
          "sizeref": 260492.1525,
          "symbol": "circle"
         },
         "mode": "markers",
         "name": "France",
         "showlegend": true,
         "type": "scattergeo"
        },
        {
         "geo": "geo",
         "hovertemplate": "Country=%{location}<br>Total Cases=%{marker.size}<extra></extra>",
         "legendgroup": "Germany",
         "locationmode": "country names",
         "locations": [
          "Germany"
         ],
         "marker": {
          "color": "#ab63fa",
          "size": [
           37779833
          ],
          "sizemode": "area",
          "sizeref": 260492.1525,
          "symbol": "circle"
         },
         "mode": "markers",
         "name": "Germany",
         "showlegend": true,
         "type": "scattergeo"
        },
        {
         "geo": "geo",
         "hovertemplate": "Country=%{location}<br>Total Cases=%{marker.size}<extra></extra>",
         "legendgroup": "Brazil",
         "locationmode": "country names",
         "locations": [
          "Brazil"
         ],
         "marker": {
          "color": "#FFA15A",
          "size": [
           36824580
          ],
          "sizemode": "area",
          "sizeref": 260492.1525,
          "symbol": "circle"
         },
         "mode": "markers",
         "name": "Brazil",
         "showlegend": true,
         "type": "scattergeo"
        },
        {
         "geo": "geo",
         "hovertemplate": "Country=%{location}<br>Total Cases=%{marker.size}<extra></extra>",
         "legendgroup": "Japan",
         "locationmode": "country names",
         "locations": [
          "Japan"
         ],
         "marker": {
          "color": "#19d3f3",
          "size": [
           32588442
          ],
          "sizemode": "area",
          "sizeref": 260492.1525,
          "symbol": "circle"
         },
         "mode": "markers",
         "name": "Japan",
         "showlegend": true,
         "type": "scattergeo"
        },
        {
         "geo": "geo",
         "hovertemplate": "Country=%{location}<br>Total Cases=%{marker.size}<extra></extra>",
         "legendgroup": "S. Korea",
         "locationmode": "country names",
         "locations": [
          "S. Korea"
         ],
         "marker": {
          "color": "#FF6692",
          "size": [
           30197066
          ],
          "sizemode": "area",
          "sizeref": 260492.1525,
          "symbol": "circle"
         },
         "mode": "markers",
         "name": "S. Korea",
         "showlegend": true,
         "type": "scattergeo"
        },
        {
         "geo": "geo",
         "hovertemplate": "Country=%{location}<br>Total Cases=%{marker.size}<extra></extra>",
         "legendgroup": "Italy",
         "locationmode": "country names",
         "locations": [
          "Italy"
         ],
         "marker": {
          "color": "#B6E880",
          "size": [
           25453789
          ],
          "sizemode": "area",
          "sizeref": 260492.1525,
          "symbol": "circle"
         },
         "mode": "markers",
         "name": "Italy",
         "showlegend": true,
         "type": "scattergeo"
        },
        {
         "geo": "geo",
         "hovertemplate": "Country=%{location}<br>Total Cases=%{marker.size}<extra></extra>",
         "legendgroup": "UK",
         "locationmode": "country names",
         "locations": [
          "UK"
         ],
         "marker": {
          "color": "#FF97FF",
          "size": [
           24274361
          ],
          "sizemode": "area",
          "sizeref": 260492.1525,
          "symbol": "circle"
         },
         "mode": "markers",
         "name": "UK",
         "showlegend": true,
         "type": "scattergeo"
        },
        {
         "geo": "geo",
         "hovertemplate": "Country=%{location}<br>Total Cases=%{marker.size}<extra></extra>",
         "legendgroup": "Russia",
         "locationmode": "country names",
         "locations": [
          "Russia"
         ],
         "marker": {
          "color": "#FECB52",
          "size": [
           21958696
          ],
          "sizemode": "area",
          "sizeref": 260492.1525,
          "symbol": "circle"
         },
         "mode": "markers",
         "name": "Russia",
         "showlegend": true,
         "type": "scattergeo"
        },
        {
         "geo": "geo",
         "hovertemplate": "Country=%{location}<br>Total Cases=%{marker.size}<extra></extra>",
         "legendgroup": "Turkey",
         "locationmode": "country names",
         "locations": [
          "Turkey"
         ],
         "marker": {
          "color": "#636efa",
          "size": [
           17042722
          ],
          "sizemode": "area",
          "sizeref": 260492.1525,
          "symbol": "circle"
         },
         "mode": "markers",
         "name": "Turkey",
         "showlegend": true,
         "type": "scattergeo"
        },
        {
         "geo": "geo",
         "hovertemplate": "Country=%{location}<br>Total Cases=%{marker.size}<extra></extra>",
         "legendgroup": "Spain",
         "locationmode": "country names",
         "locations": [
          "Spain"
         ],
         "marker": {
          "color": "#EF553B",
          "size": [
           13731478
          ],
          "sizemode": "area",
          "sizeref": 260492.1525,
          "symbol": "circle"
         },
         "mode": "markers",
         "name": "Spain",
         "showlegend": true,
         "type": "scattergeo"
        },
        {
         "geo": "geo",
         "hovertemplate": "Country=%{location}<br>Total Cases=%{marker.size}<extra></extra>",
         "legendgroup": "Vietnam",
         "locationmode": "country names",
         "locations": [
          "Vietnam"
         ],
         "marker": {
          "color": "#00cc96",
          "size": [
           11526508
          ],
          "sizemode": "area",
          "sizeref": 260492.1525,
          "symbol": "circle"
         },
         "mode": "markers",
         "name": "Vietnam",
         "showlegend": true,
         "type": "scattergeo"
        },
        {
         "geo": "geo",
         "hovertemplate": "Country=%{location}<br>Total Cases=%{marker.size}<extra></extra>",
         "legendgroup": "Australia",
         "locationmode": "country names",
         "locations": [
          "Australia"
         ],
         "marker": {
          "color": "#ab63fa",
          "size": [
           11295446
          ],
          "sizemode": "area",
          "sizeref": 260492.1525,
          "symbol": "circle"
         },
         "mode": "markers",
         "name": "Australia",
         "showlegend": true,
         "type": "scattergeo"
        },
        {
         "geo": "geo",
         "hovertemplate": "Country=%{location}<br>Total Cases=%{marker.size}<extra></extra>",
         "legendgroup": "Argentina",
         "locationmode": "country names",
         "locations": [
          "Argentina"
         ],
         "marker": {
          "color": "#FFA15A",
          "size": [
           10037135
          ],
          "sizemode": "area",
          "sizeref": 260492.1525,
          "symbol": "circle"
         },
         "mode": "markers",
         "name": "Argentina",
         "showlegend": true,
         "type": "scattergeo"
        },
        {
         "geo": "geo",
         "hovertemplate": "Country=%{location}<br>Total Cases=%{marker.size}<extra></extra>",
         "legendgroup": "Taiwan",
         "locationmode": "country names",
         "locations": [
          "Taiwan"
         ],
         "marker": {
          "color": "#19d3f3",
          "size": [
           9569611
          ],
          "sizemode": "area",
          "sizeref": 260492.1525,
          "symbol": "circle"
         },
         "mode": "markers",
         "name": "Taiwan",
         "showlegend": true,
         "type": "scattergeo"
        },
        {
         "geo": "geo",
         "hovertemplate": "Country=%{location}<br>Total Cases=%{marker.size}<extra></extra>",
         "legendgroup": "Netherlands",
         "locationmode": "country names",
         "locations": [
          "Netherlands"
         ],
         "marker": {
          "color": "#FF6692",
          "size": [
           8582500
          ],
          "sizemode": "area",
          "sizeref": 260492.1525,
          "symbol": "circle"
         },
         "mode": "markers",
         "name": "Netherlands",
         "showlegend": true,
         "type": "scattergeo"
        },
        {
         "geo": "geo",
         "hovertemplate": "Country=%{location}<br>Total Cases=%{marker.size}<extra></extra>",
         "legendgroup": "Iran",
         "locationmode": "country names",
         "locations": [
          "Iran"
         ],
         "marker": {
          "color": "#B6E880",
          "size": [
           7564350
          ],
          "sizemode": "area",
          "sizeref": 260492.1525,
          "symbol": "circle"
         },
         "mode": "markers",
         "name": "Iran",
         "showlegend": true,
         "type": "scattergeo"
        },
        {
         "geo": "geo",
         "hovertemplate": "Country=%{location}<br>Total Cases=%{marker.size}<extra></extra>",
         "legendgroup": "Mexico",
         "locationmode": "country names",
         "locations": [
          "Mexico"
         ],
         "marker": {
          "color": "#FF97FF",
          "size": [
           7368252
          ],
          "sizemode": "area",
          "sizeref": 260492.1525,
          "symbol": "circle"
         },
         "mode": "markers",
         "name": "Mexico",
         "showlegend": true,
         "type": "scattergeo"
        },
        {
         "geo": "geo",
         "hovertemplate": "Country=%{location}<br>Total Cases=%{marker.size}<extra></extra>",
         "legendgroup": "Indonesia",
         "locationmode": "country names",
         "locations": [
          "Indonesia"
         ],
         "marker": {
          "color": "#FECB52",
          "size": [
           6730289
          ],
          "sizemode": "area",
          "sizeref": 260492.1525,
          "symbol": "circle"
         },
         "mode": "markers",
         "name": "Indonesia",
         "showlegend": true,
         "type": "scattergeo"
        },
        {
         "geo": "geo",
         "hovertemplate": "Country=%{location}<br>Total Cases=%{marker.size}<extra></extra>",
         "legendgroup": "Poland",
         "locationmode": "country names",
         "locations": [
          "Poland"
         ],
         "marker": {
          "color": "#636efa",
          "size": [
           6380225
          ],
          "sizemode": "area",
          "sizeref": 260492.1525,
          "symbol": "circle"
         },
         "mode": "markers",
         "name": "Poland",
         "showlegend": true,
         "type": "scattergeo"
        },
        {
         "geo": "geo",
         "hovertemplate": "Country=%{location}<br>Total Cases=%{marker.size}<extra></extra>",
         "legendgroup": "Colombia",
         "locationmode": "country names",
         "locations": [
          "Colombia"
         ],
         "marker": {
          "color": "#EF553B",
          "size": [
           6356309
          ],
          "sizemode": "area",
          "sizeref": 260492.1525,
          "symbol": "circle"
         },
         "mode": "markers",
         "name": "Colombia",
         "showlegend": true,
         "type": "scattergeo"
        },
        {
         "geo": "geo",
         "hovertemplate": "Country=%{location}<br>Total Cases=%{marker.size}<extra></extra>",
         "legendgroup": "Austria",
         "locationmode": "country names",
         "locations": [
          "Austria"
         ],
         "marker": {
          "color": "#00cc96",
          "size": [
           5780229
          ],
          "sizemode": "area",
          "sizeref": 260492.1525,
          "symbol": "circle"
         },
         "mode": "markers",
         "name": "Austria",
         "showlegend": true,
         "type": "scattergeo"
        },
        {
         "geo": "geo",
         "hovertemplate": "Country=%{location}<br>Total Cases=%{marker.size}<extra></extra>",
         "legendgroup": "Greece",
         "locationmode": "country names",
         "locations": [
          "Greece"
         ],
         "marker": {
          "color": "#ab63fa",
          "size": [
           5708301
          ],
          "sizemode": "area",
          "sizeref": 260492.1525,
          "symbol": "circle"
         },
         "mode": "markers",
         "name": "Greece",
         "showlegend": true,
         "type": "scattergeo"
        },
        {
         "geo": "geo",
         "hovertemplate": "Country=%{location}<br>Total Cases=%{marker.size}<extra></extra>",
         "legendgroup": "Portugal",
         "locationmode": "country names",
         "locations": [
          "Portugal"
         ],
         "marker": {
          "color": "#FFA15A",
          "size": [
           5563907
          ],
          "sizemode": "area",
          "sizeref": 260492.1525,
          "symbol": "circle"
         },
         "mode": "markers",
         "name": "Portugal",
         "showlegend": true,
         "type": "scattergeo"
        },
        {
         "geo": "geo",
         "hovertemplate": "Country=%{location}<br>Total Cases=%{marker.size}<extra></extra>",
         "legendgroup": "Ukraine",
         "locationmode": "country names",
         "locations": [
          "Ukraine"
         ],
         "marker": {
          "color": "#19d3f3",
          "size": [
           5370131
          ],
          "sizemode": "area",
          "sizeref": 260492.1525,
          "symbol": "circle"
         },
         "mode": "markers",
         "name": "Ukraine",
         "showlegend": true,
         "type": "scattergeo"
        },
        {
         "geo": "geo",
         "hovertemplate": "Country=%{location}<br>Total Cases=%{marker.size}<extra></extra>",
         "legendgroup": "Chile",
         "locationmode": "country names",
         "locations": [
          "Chile"
         ],
         "marker": {
          "color": "#FF6692",
          "size": [
           5118981
          ],
          "sizemode": "area",
          "sizeref": 260492.1525,
          "symbol": "circle"
         },
         "mode": "markers",
         "name": "Chile",
         "showlegend": true,
         "type": "scattergeo"
        },
        {
         "geo": "geo",
         "hovertemplate": "Country=%{location}<br>Total Cases=%{marker.size}<extra></extra>",
         "legendgroup": "Malaysia",
         "locationmode": "country names",
         "locations": [
          "Malaysia"
         ],
         "marker": {
          "color": "#B6E880",
          "size": [
           5036593
          ],
          "sizemode": "area",
          "sizeref": 260492.1525,
          "symbol": "circle"
         },
         "mode": "markers",
         "name": "Malaysia",
         "showlegend": true,
         "type": "scattergeo"
        },
        {
         "geo": "geo",
         "hovertemplate": "Country=%{location}<br>Total Cases=%{marker.size}<extra></extra>",
         "legendgroup": "Israel",
         "locationmode": "country names",
         "locations": [
          "Israel"
         ],
         "marker": {
          "color": "#FF97FF",
          "size": [
           4786189
          ],
          "sizemode": "area",
          "sizeref": 260492.1525,
          "symbol": "circle"
         },
         "mode": "markers",
         "name": "Israel",
         "showlegend": true,
         "type": "scattergeo"
        },
        {
         "geo": "geo",
         "hovertemplate": "Country=%{location}<br>Total Cases=%{marker.size}<extra></extra>",
         "legendgroup": "DPRK",
         "locationmode": "country names",
         "locations": [
          "DPRK"
         ],
         "marker": {
          "color": "#FECB52",
          "size": [
           4772813
          ],
          "sizemode": "area",
          "sizeref": 260492.1525,
          "symbol": "circle"
         },
         "mode": "markers",
         "name": "DPRK",
         "showlegend": true,
         "type": "scattergeo"
        },
        {
         "geo": "geo",
         "hovertemplate": "Country=%{location}<br>Total Cases=%{marker.size}<extra></extra>",
         "legendgroup": "Thailand",
         "locationmode": "country names",
         "locations": [
          "Thailand"
         ],
         "marker": {
          "color": "#636efa",
          "size": [
           4726984
          ],
          "sizemode": "area",
          "sizeref": 260492.1525,
          "symbol": "circle"
         },
         "mode": "markers",
         "name": "Thailand",
         "showlegend": true,
         "type": "scattergeo"
        },
        {
         "geo": "geo",
         "hovertemplate": "Country=%{location}<br>Total Cases=%{marker.size}<extra></extra>",
         "legendgroup": "Belgium",
         "locationmode": "country names",
         "locations": [
          "Belgium"
         ],
         "marker": {
          "color": "#EF553B",
          "size": [
           4691499
          ],
          "sizemode": "area",
          "sizeref": 260492.1525,
          "symbol": "circle"
         },
         "mode": "markers",
         "name": "Belgium",
         "showlegend": true,
         "type": "scattergeo"
        },
        {
         "geo": "geo",
         "hovertemplate": "Country=%{location}<br>Total Cases=%{marker.size}<extra></extra>",
         "legendgroup": "Czechia",
         "locationmode": "country names",
         "locations": [
          "Czechia"
         ],
         "marker": {
          "color": "#00cc96",
          "size": [
           4590019
          ],
          "sizemode": "area",
          "sizeref": 260492.1525,
          "symbol": "circle"
         },
         "mode": "markers",
         "name": "Czechia",
         "showlegend": true,
         "type": "scattergeo"
        },
        {
         "geo": "geo",
         "hovertemplate": "Country=%{location}<br>Total Cases=%{marker.size}<extra></extra>",
         "legendgroup": "Canada",
         "locationmode": "country names",
         "locations": [
          "Canada"
         ],
         "marker": {
          "color": "#ab63fa",
          "size": [
           4550256
          ],
          "sizemode": "area",
          "sizeref": 260492.1525,
          "symbol": "circle"
         },
         "mode": "markers",
         "name": "Canada",
         "showlegend": true,
         "type": "scattergeo"
        },
        {
         "geo": "geo",
         "hovertemplate": "Country=%{location}<br>Total Cases=%{marker.size}<extra></extra>",
         "legendgroup": "Peru",
         "locationmode": "country names",
         "locations": [
          "Peru"
         ],
         "marker": {
          "color": "#FFA15A",
          "size": [
           4481621
          ],
          "sizemode": "area",
          "sizeref": 260492.1525,
          "symbol": "circle"
         },
         "mode": "markers",
         "name": "Peru",
         "showlegend": true,
         "type": "scattergeo"
        },
        {
         "geo": "geo",
         "hovertemplate": "Country=%{location}<br>Total Cases=%{marker.size}<extra></extra>",
         "legendgroup": "Switzerland",
         "locationmode": "country names",
         "locations": [
          "Switzerland"
         ],
         "marker": {
          "color": "#19d3f3",
          "size": [
           4385701
          ],
          "sizemode": "area",
          "sizeref": 260492.1525,
          "symbol": "circle"
         },
         "mode": "markers",
         "name": "Switzerland",
         "showlegend": true,
         "type": "scattergeo"
        },
        {
         "geo": "geo",
         "hovertemplate": "Country=%{location}<br>Total Cases=%{marker.size}<extra></extra>",
         "legendgroup": "Philippines",
         "locationmode": "country names",
         "locations": [
          "Philippines"
         ],
         "marker": {
          "color": "#FF6692",
          "size": [
           4073454
          ],
          "sizemode": "area",
          "sizeref": 260492.1525,
          "symbol": "circle"
         },
         "mode": "markers",
         "name": "Philippines",
         "showlegend": true,
         "type": "scattergeo"
        },
        {
         "geo": "geo",
         "hovertemplate": "Country=%{location}<br>Total Cases=%{marker.size}<extra></extra>",
         "legendgroup": "South Africa",
         "locationmode": "country names",
         "locations": [
          "South Africa"
         ],
         "marker": {
          "color": "#B6E880",
          "size": [
           4055966
          ],
          "sizemode": "area",
          "sizeref": 260492.1525,
          "symbol": "circle"
         },
         "mode": "markers",
         "name": "South Africa",
         "showlegend": true,
         "type": "scattergeo"
        },
        {
         "geo": "geo",
         "hovertemplate": "Country=%{location}<br>Total Cases=%{marker.size}<extra></extra>",
         "legendgroup": "Romania",
         "locationmode": "country names",
         "locations": [
          "Romania"
         ],
         "marker": {
          "color": "#FF97FF",
          "size": [
           3325006
          ],
          "sizemode": "area",
          "sizeref": 260492.1525,
          "symbol": "circle"
         },
         "mode": "markers",
         "name": "Romania",
         "showlegend": true,
         "type": "scattergeo"
        },
        {
         "geo": "geo",
         "hovertemplate": "Country=%{location}<br>Total Cases=%{marker.size}<extra></extra>",
         "legendgroup": "Denmark",
         "locationmode": "country names",
         "locations": [
          "Denmark"
         ],
         "marker": {
          "color": "#FECB52",
          "size": [
           3173247
          ],
          "sizemode": "area",
          "sizeref": 260492.1525,
          "symbol": "circle"
         },
         "mode": "markers",
         "name": "Denmark",
         "showlegend": true,
         "type": "scattergeo"
        },
        {
         "geo": "geo",
         "hovertemplate": "Country=%{location}<br>Total Cases=%{marker.size}<extra></extra>",
         "legendgroup": "Hong Kong",
         "locationmode": "country names",
         "locations": [
          "Hong Kong"
         ],
         "marker": {
          "color": "#636efa",
          "size": [
           2877280
          ],
          "sizemode": "area",
          "sizeref": 260492.1525,
          "symbol": "circle"
         },
         "mode": "markers",
         "name": "Hong Kong",
         "showlegend": true,
         "type": "scattergeo"
        },
        {
         "geo": "geo",
         "hovertemplate": "Country=%{location}<br>Total Cases=%{marker.size}<extra></extra>",
         "legendgroup": "Sweden",
         "locationmode": "country names",
         "locations": [
          "Sweden"
         ],
         "marker": {
          "color": "#EF553B",
          "size": [
           2693458
          ],
          "sizemode": "area",
          "sizeref": 260492.1525,
          "symbol": "circle"
         },
         "mode": "markers",
         "name": "Sweden",
         "showlegend": true,
         "type": "scattergeo"
        },
        {
         "geo": "geo",
         "hovertemplate": "Country=%{location}<br>Total Cases=%{marker.size}<extra></extra>",
         "legendgroup": "Serbia",
         "locationmode": "country names",
         "locations": [
          "Serbia"
         ],
         "marker": {
          "color": "#00cc96",
          "size": [
           2471198
          ],
          "sizemode": "area",
          "sizeref": 260492.1525,
          "symbol": "circle"
         },
         "mode": "markers",
         "name": "Serbia",
         "showlegend": true,
         "type": "scattergeo"
        },
        {
         "geo": "geo",
         "hovertemplate": "Country=%{location}<br>Total Cases=%{marker.size}<extra></extra>",
         "legendgroup": "Iraq",
         "locationmode": "country names",
         "locations": [
          "Iraq"
         ],
         "marker": {
          "color": "#ab63fa",
          "size": [
           2465545
          ],
          "sizemode": "area",
          "sizeref": 260492.1525,
          "symbol": "circle"
         },
         "mode": "markers",
         "name": "Iraq",
         "showlegend": true,
         "type": "scattergeo"
        },
        {
         "geo": "geo",
         "hovertemplate": "Country=%{location}<br>Total Cases=%{marker.size}<extra></extra>",
         "legendgroup": "Singapore",
         "locationmode": "country names",
         "locations": [
          "Singapore"
         ],
         "marker": {
          "color": "#FFA15A",
          "size": [
           2217110
          ],
          "sizemode": "area",
          "sizeref": 260492.1525,
          "symbol": "circle"
         },
         "mode": "markers",
         "name": "Singapore",
         "showlegend": true,
         "type": "scattergeo"
        },
        {
         "geo": "geo",
         "hovertemplate": "Country=%{location}<br>Total Cases=%{marker.size}<extra></extra>",
         "legendgroup": "Hungary",
         "locationmode": "country names",
         "locations": [
          "Hungary"
         ],
         "marker": {
          "color": "#19d3f3",
          "size": [
           2192447
          ],
          "sizemode": "area",
          "sizeref": 260492.1525,
          "symbol": "circle"
         },
         "mode": "markers",
         "name": "Hungary",
         "showlegend": true,
         "type": "scattergeo"
        },
        {
         "geo": "geo",
         "hovertemplate": "Country=%{location}<br>Total Cases=%{marker.size}<extra></extra>",
         "legendgroup": "New Zealand",
         "locationmode": "country names",
         "locations": [
          "New Zealand"
         ],
         "marker": {
          "color": "#FF6692",
          "size": [
           2182355
          ],
          "sizemode": "area",
          "sizeref": 260492.1525,
          "symbol": "circle"
         },
         "mode": "markers",
         "name": "New Zealand",
         "showlegend": true,
         "type": "scattergeo"
        },
        {
         "geo": "geo",
         "hovertemplate": "Country=%{location}<br>Total Cases=%{marker.size}<extra></extra>",
         "legendgroup": "Bangladesh",
         "locationmode": "country names",
         "locations": [
          "Bangladesh"
         ],
         "marker": {
          "color": "#B6E880",
          "size": [
           2037556
          ],
          "sizemode": "area",
          "sizeref": 260492.1525,
          "symbol": "circle"
         },
         "mode": "markers",
         "name": "Bangladesh",
         "showlegend": true,
         "type": "scattergeo"
        },
        {
         "geo": "geo",
         "hovertemplate": "Country=%{location}<br>Total Cases=%{marker.size}<extra></extra>",
         "legendgroup": "Slovakia",
         "locationmode": "country names",
         "locations": [
          "Slovakia"
         ],
         "marker": {
          "color": "#FF97FF",
          "size": [
           1860893
          ],
          "sizemode": "area",
          "sizeref": 260492.1525,
          "symbol": "circle"
         },
         "mode": "markers",
         "name": "Slovakia",
         "showlegend": true,
         "type": "scattergeo"
        },
        {
         "geo": "geo",
         "hovertemplate": "Country=%{location}<br>Total Cases=%{marker.size}<extra></extra>",
         "legendgroup": "Georgia",
         "locationmode": "country names",
         "locations": [
          "Georgia"
         ],
         "marker": {
          "color": "#FECB52",
          "size": [
           1814180
          ],
          "sizemode": "area",
          "sizeref": 260492.1525,
          "symbol": "circle"
         },
         "mode": "markers",
         "name": "Georgia",
         "showlegend": true,
         "type": "scattergeo"
        },
        {
         "geo": "geo",
         "hovertemplate": "Country=%{location}<br>Total Cases=%{marker.size}<extra></extra>",
         "legendgroup": "Jordan",
         "locationmode": "country names",
         "locations": [
          "Jordan"
         ],
         "marker": {
          "color": "#636efa",
          "size": [
           1746997
          ],
          "sizemode": "area",
          "sizeref": 260492.1525,
          "symbol": "circle"
         },
         "mode": "markers",
         "name": "Jordan",
         "showlegend": true,
         "type": "scattergeo"
        },
        {
         "geo": "geo",
         "hovertemplate": "Country=%{location}<br>Total Cases=%{marker.size}<extra></extra>",
         "legendgroup": "Ireland",
         "locationmode": "country names",
         "locations": [
          "Ireland"
         ],
         "marker": {
          "color": "#EF553B",
          "size": [
           1700253
          ],
          "sizemode": "area",
          "sizeref": 260492.1525,
          "symbol": "circle"
         },
         "mode": "markers",
         "name": "Ireland",
         "showlegend": true,
         "type": "scattergeo"
        },
        {
         "geo": "geo",
         "hovertemplate": "Country=%{location}<br>Total Cases=%{marker.size}<extra></extra>",
         "legendgroup": "Pakistan",
         "locationmode": "country names",
         "locations": [
          "Pakistan"
         ],
         "marker": {
          "color": "#00cc96",
          "size": [
           1576313
          ],
          "sizemode": "area",
          "sizeref": 260492.1525,
          "symbol": "circle"
         },
         "mode": "markers",
         "name": "Pakistan",
         "showlegend": true,
         "type": "scattergeo"
        },
        {
         "geo": "geo",
         "hovertemplate": "Country=%{location}<br>Total Cases=%{marker.size}<extra></extra>",
         "legendgroup": "Norway",
         "locationmode": "country names",
         "locations": [
          "Norway"
         ],
         "marker": {
          "color": "#ab63fa",
          "size": [
           1477856
          ],
          "sizemode": "area",
          "sizeref": 260492.1525,
          "symbol": "circle"
         },
         "mode": "markers",
         "name": "Norway",
         "showlegend": true,
         "type": "scattergeo"
        },
        {
         "geo": "geo",
         "hovertemplate": "Country=%{location}<br>Total Cases=%{marker.size}<extra></extra>",
         "legendgroup": "Finland",
         "locationmode": "country names",
         "locations": [
          "Finland"
         ],
         "marker": {
          "color": "#FFA15A",
          "size": [
           1458619
          ],
          "sizemode": "area",
          "sizeref": 260492.1525,
          "symbol": "circle"
         },
         "mode": "markers",
         "name": "Finland",
         "showlegend": true,
         "type": "scattergeo"
        },
        {
         "geo": "geo",
         "hovertemplate": "Country=%{location}<br>Total Cases=%{marker.size}<extra></extra>",
         "legendgroup": "Kazakhstan",
         "locationmode": "country names",
         "locations": [
          "Kazakhstan"
         ],
         "marker": {
          "color": "#19d3f3",
          "size": [
           1405917
          ],
          "sizemode": "area",
          "sizeref": 260492.1525,
          "symbol": "circle"
         },
         "mode": "markers",
         "name": "Kazakhstan",
         "showlegend": true,
         "type": "scattergeo"
        },
        {
         "geo": "geo",
         "hovertemplate": "Country=%{location}<br>Total Cases=%{marker.size}<extra></extra>",
         "legendgroup": "Slovenia",
         "locationmode": "country names",
         "locations": [
          "Slovenia"
         ],
         "marker": {
          "color": "#FF6692",
          "size": [
           1321852
          ],
          "sizemode": "area",
          "sizeref": 260492.1525,
          "symbol": "circle"
         },
         "mode": "markers",
         "name": "Slovenia",
         "showlegend": true,
         "type": "scattergeo"
        },
        {
         "geo": "geo",
         "hovertemplate": "Country=%{location}<br>Total Cases=%{marker.size}<extra></extra>",
         "legendgroup": "Lithuania",
         "locationmode": "country names",
         "locations": [
          "Lithuania"
         ],
         "marker": {
          "color": "#B6E880",
          "size": [
           1296865
          ],
          "sizemode": "area",
          "sizeref": 260492.1525,
          "symbol": "circle"
         },
         "mode": "markers",
         "name": "Lithuania",
         "showlegend": true,
         "type": "scattergeo"
        },
        {
         "geo": "geo",
         "hovertemplate": "Country=%{location}<br>Total Cases=%{marker.size}<extra></extra>",
         "legendgroup": "Bulgaria",
         "locationmode": "country names",
         "locations": [
          "Bulgaria"
         ],
         "marker": {
          "color": "#FF97FF",
          "size": [
           1295426
          ],
          "sizemode": "area",
          "sizeref": 260492.1525,
          "symbol": "circle"
         },
         "mode": "markers",
         "name": "Bulgaria",
         "showlegend": true,
         "type": "scattergeo"
        },
        {
         "geo": "geo",
         "hovertemplate": "Country=%{location}<br>Total Cases=%{marker.size}<extra></extra>",
         "legendgroup": "Morocco",
         "locationmode": "country names",
         "locations": [
          "Morocco"
         ],
         "marker": {
          "color": "#FECB52",
          "size": [
           1272240
          ],
          "sizemode": "area",
          "sizeref": 260492.1525,
          "symbol": "circle"
         },
         "mode": "markers",
         "name": "Morocco",
         "showlegend": true,
         "type": "scattergeo"
        },
        {
         "geo": "geo",
         "hovertemplate": "Country=%{location}<br>Total Cases=%{marker.size}<extra></extra>",
         "legendgroup": "Croatia",
         "locationmode": "country names",
         "locations": [
          "Croatia"
         ],
         "marker": {
          "color": "#636efa",
          "size": [
           1267580
          ],
          "sizemode": "area",
          "sizeref": 260492.1525,
          "symbol": "circle"
         },
         "mode": "markers",
         "name": "Croatia",
         "showlegend": true,
         "type": "scattergeo"
        },
        {
         "geo": "geo",
         "hovertemplate": "Country=%{location}<br>Total Cases=%{marker.size}<extra></extra>",
         "legendgroup": "Lebanon",
         "locationmode": "country names",
         "locations": [
          "Lebanon"
         ],
         "marker": {
          "color": "#EF553B",
          "size": [
           1228639
          ],
          "sizemode": "area",
          "sizeref": 260492.1525,
          "symbol": "circle"
         },
         "mode": "markers",
         "name": "Lebanon",
         "showlegend": true,
         "type": "scattergeo"
        },
        {
         "geo": "geo",
         "hovertemplate": "Country=%{location}<br>Total Cases=%{marker.size}<extra></extra>",
         "legendgroup": "Guatemala",
         "locationmode": "country names",
         "locations": [
          "Guatemala"
         ],
         "marker": {
          "color": "#00cc96",
          "size": [
           1227853
          ],
          "sizemode": "area",
          "sizeref": 260492.1525,
          "symbol": "circle"
         },
         "mode": "markers",
         "name": "Guatemala",
         "showlegend": true,
         "type": "scattergeo"
        },
        {
         "geo": "geo",
         "hovertemplate": "Country=%{location}<br>Total Cases=%{marker.size}<extra></extra>",
         "legendgroup": "Bolivia",
         "locationmode": "country names",
         "locations": [
          "Bolivia"
         ],
         "marker": {
          "color": "#ab63fa",
          "size": [
           1187986
          ],
          "sizemode": "area",
          "sizeref": 260492.1525,
          "symbol": "circle"
         },
         "mode": "markers",
         "name": "Bolivia",
         "showlegend": true,
         "type": "scattergeo"
        },
        {
         "geo": "geo",
         "hovertemplate": "Country=%{location}<br>Total Cases=%{marker.size}<extra></extra>",
         "legendgroup": "Costa Rica",
         "locationmode": "country names",
         "locations": [
          "Costa Rica"
         ],
         "marker": {
          "color": "#FFA15A",
          "size": [
           1186176
          ],
          "sizemode": "area",
          "sizeref": 260492.1525,
          "symbol": "circle"
         },
         "mode": "markers",
         "name": "Costa Rica",
         "showlegend": true,
         "type": "scattergeo"
        },
        {
         "geo": "geo",
         "hovertemplate": "Country=%{location}<br>Total Cases=%{marker.size}<extra></extra>",
         "legendgroup": "Tunisia",
         "locationmode": "country names",
         "locations": [
          "Tunisia"
         ],
         "marker": {
          "color": "#19d3f3",
          "size": [
           1150356
          ],
          "sizemode": "area",
          "sizeref": 260492.1525,
          "symbol": "circle"
         },
         "mode": "markers",
         "name": "Tunisia",
         "showlegend": true,
         "type": "scattergeo"
        },
        {
         "geo": "geo",
         "hovertemplate": "Country=%{location}<br>Total Cases=%{marker.size}<extra></extra>",
         "legendgroup": "Cuba",
         "locationmode": "country names",
         "locations": [
          "Cuba"
         ],
         "marker": {
          "color": "#FF6692",
          "size": [
           1112438
          ],
          "sizemode": "area",
          "sizeref": 260492.1525,
          "symbol": "circle"
         },
         "mode": "markers",
         "name": "Cuba",
         "showlegend": true,
         "type": "scattergeo"
        },
        {
         "geo": "geo",
         "hovertemplate": "Country=%{location}<br>Total Cases=%{marker.size}<extra></extra>",
         "legendgroup": "Ecuador",
         "locationmode": "country names",
         "locations": [
          "Ecuador"
         ],
         "marker": {
          "color": "#B6E880",
          "size": [
           1051239
          ],
          "sizemode": "area",
          "sizeref": 260492.1525,
          "symbol": "circle"
         },
         "mode": "markers",
         "name": "Ecuador",
         "showlegend": true,
         "type": "scattergeo"
        },
        {
         "geo": "geo",
         "hovertemplate": "Country=%{location}<br>Total Cases=%{marker.size}<extra></extra>",
         "legendgroup": "UAE",
         "locationmode": "country names",
         "locations": [
          "UAE"
         ],
         "marker": {
          "color": "#FF97FF",
          "size": [
           1049409
          ],
          "sizemode": "area",
          "sizeref": 260492.1525,
          "symbol": "circle"
         },
         "mode": "markers",
         "name": "UAE",
         "showlegend": true,
         "type": "scattergeo"
        },
        {
         "geo": "geo",
         "hovertemplate": "Country=%{location}<br>Total Cases=%{marker.size}<extra></extra>",
         "legendgroup": "Uruguay",
         "locationmode": "country names",
         "locations": [
          "Uruguay"
         ],
         "marker": {
          "color": "#FECB52",
          "size": [
           1032710
          ],
          "sizemode": "area",
          "sizeref": 260492.1525,
          "symbol": "circle"
         },
         "mode": "markers",
         "name": "Uruguay",
         "showlegend": true,
         "type": "scattergeo"
        },
        {
         "geo": "geo",
         "hovertemplate": "Country=%{location}<br>Total Cases=%{marker.size}<extra></extra>",
         "legendgroup": "Panama",
         "locationmode": "country names",
         "locations": [
          "Panama"
         ],
         "marker": {
          "color": "#636efa",
          "size": [
           1029701
          ],
          "sizemode": "area",
          "sizeref": 260492.1525,
          "symbol": "circle"
         },
         "mode": "markers",
         "name": "Panama",
         "showlegend": true,
         "type": "scattergeo"
        },
        {
         "geo": "geo",
         "hovertemplate": "Country=%{location}<br>Total Cases=%{marker.size}<extra></extra>",
         "legendgroup": "Mongolia",
         "locationmode": "country names",
         "locations": [
          "Mongolia"
         ],
         "marker": {
          "color": "#EF553B",
          "size": [
           1007871
          ],
          "sizemode": "area",
          "sizeref": 260492.1525,
          "symbol": "circle"
         },
         "mode": "markers",
         "name": "Mongolia",
         "showlegend": true,
         "type": "scattergeo"
        },
        {
         "geo": "geo",
         "hovertemplate": "Country=%{location}<br>Total Cases=%{marker.size}<extra></extra>",
         "legendgroup": "Nepal",
         "locationmode": "country names",
         "locations": [
          "Nepal"
         ],
         "marker": {
          "color": "#00cc96",
          "size": [
           1001102
          ],
          "sizemode": "area",
          "sizeref": 260492.1525,
          "symbol": "circle"
         },
         "mode": "markers",
         "name": "Nepal",
         "showlegend": true,
         "type": "scattergeo"
        },
        {
         "geo": "geo",
         "hovertemplate": "Country=%{location}<br>Total Cases=%{marker.size}<extra></extra>",
         "legendgroup": "Belarus",
         "locationmode": "country names",
         "locations": [
          "Belarus"
         ],
         "marker": {
          "color": "#ab63fa",
          "size": [
           994037
          ],
          "sizemode": "area",
          "sizeref": 260492.1525,
          "symbol": "circle"
         },
         "mode": "markers",
         "name": "Belarus",
         "showlegend": true,
         "type": "scattergeo"
        },
        {
         "geo": "geo",
         "hovertemplate": "Country=%{location}<br>Total Cases=%{marker.size}<extra></extra>",
         "legendgroup": "Latvia",
         "locationmode": "country names",
         "locations": [
          "Latvia"
         ],
         "marker": {
          "color": "#FFA15A",
          "size": [
           975355
          ],
          "sizemode": "area",
          "sizeref": 260492.1525,
          "symbol": "circle"
         },
         "mode": "markers",
         "name": "Latvia",
         "showlegend": true,
         "type": "scattergeo"
        },
        {
         "geo": "geo",
         "hovertemplate": "Country=%{location}<br>Total Cases=%{marker.size}<extra></extra>",
         "legendgroup": "Saudi Arabia",
         "locationmode": "country names",
         "locations": [
          "Saudi Arabia"
         ],
         "marker": {
          "color": "#19d3f3",
          "size": [
           827962
          ],
          "sizemode": "area",
          "sizeref": 260492.1525,
          "symbol": "circle"
         },
         "mode": "markers",
         "name": "Saudi Arabia",
         "showlegend": true,
         "type": "scattergeo"
        },
        {
         "geo": "geo",
         "hovertemplate": "Country=%{location}<br>Total Cases=%{marker.size}<extra></extra>",
         "legendgroup": "Azerbaijan",
         "locationmode": "country names",
         "locations": [
          "Azerbaijan"
         ],
         "marker": {
          "color": "#FF6692",
          "size": [
           827944
          ],
          "sizemode": "area",
          "sizeref": 260492.1525,
          "symbol": "circle"
         },
         "mode": "markers",
         "name": "Azerbaijan",
         "showlegend": true,
         "type": "scattergeo"
        },
        {
         "geo": "geo",
         "hovertemplate": "Country=%{location}<br>Total Cases=%{marker.size}<extra></extra>",
         "legendgroup": "Paraguay",
         "locationmode": "country names",
         "locations": [
          "Paraguay"
         ],
         "marker": {
          "color": "#B6E880",
          "size": [
           806256
          ],
          "sizemode": "area",
          "sizeref": 260492.1525,
          "symbol": "circle"
         },
         "mode": "markers",
         "name": "Paraguay",
         "showlegend": true,
         "type": "scattergeo"
        },
        {
         "geo": "geo",
         "hovertemplate": "Country=%{location}<br>Total Cases=%{marker.size}<extra></extra>",
         "legendgroup": "Bahrain",
         "locationmode": "country names",
         "locations": [
          "Bahrain"
         ],
         "marker": {
          "color": "#FF97FF",
          "size": [
           700452
          ],
          "sizemode": "area",
          "sizeref": 260492.1525,
          "symbol": "circle"
         },
         "mode": "markers",
         "name": "Bahrain",
         "showlegend": true,
         "type": "scattergeo"
        },
        {
         "geo": "geo",
         "hovertemplate": "Country=%{location}<br>Total Cases=%{marker.size}<extra></extra>",
         "legendgroup": "Sri Lanka",
         "locationmode": "country names",
         "locations": [
          "Sri Lanka"
         ],
         "marker": {
          "color": "#FECB52",
          "size": [
           671989
          ],
          "sizemode": "area",
          "sizeref": 260492.1525,
          "symbol": "circle"
         },
         "mode": "markers",
         "name": "Sri Lanka",
         "showlegend": true,
         "type": "scattergeo"
        },
        {
         "geo": "geo",
         "hovertemplate": "Country=%{location}<br>Total Cases=%{marker.size}<extra></extra>",
         "legendgroup": "Kuwait",
         "locationmode": "country names",
         "locations": [
          "Kuwait"
         ],
         "marker": {
          "color": "#636efa",
          "size": [
           662858
          ],
          "sizemode": "area",
          "sizeref": 260492.1525,
          "symbol": "circle"
         },
         "mode": "markers",
         "name": "Kuwait",
         "showlegend": true,
         "type": "scattergeo"
        },
        {
         "geo": "geo",
         "hovertemplate": "Country=%{location}<br>Total Cases=%{marker.size}<extra></extra>",
         "legendgroup": "Dominican Republic",
         "locationmode": "country names",
         "locations": [
          "Dominican Republic"
         ],
         "marker": {
          "color": "#EF553B",
          "size": [
           660095
          ],
          "sizemode": "area",
          "sizeref": 260492.1525,
          "symbol": "circle"
         },
         "mode": "markers",
         "name": "Dominican Republic",
         "showlegend": true,
         "type": "scattergeo"
        },
        {
         "geo": "geo",
         "hovertemplate": "Country=%{location}<br>Total Cases=%{marker.size}<extra></extra>",
         "legendgroup": "Cyprus",
         "locationmode": "country names",
         "locations": [
          "Cyprus"
         ],
         "marker": {
          "color": "#00cc96",
          "size": [
           642663
          ],
          "sizemode": "area",
          "sizeref": 260492.1525,
          "symbol": "circle"
         },
         "mode": "markers",
         "name": "Cyprus",
         "showlegend": true,
         "type": "scattergeo"
        },
        {
         "geo": "geo",
         "hovertemplate": "Country=%{location}<br>Total Cases=%{marker.size}<extra></extra>",
         "legendgroup": "Myanmar",
         "locationmode": "country names",
         "locations": [
          "Myanmar"
         ],
         "marker": {
          "color": "#ab63fa",
          "size": [
           633820
          ],
          "sizemode": "area",
          "sizeref": 260492.1525,
          "symbol": "circle"
         },
         "mode": "markers",
         "name": "Myanmar",
         "showlegend": true,
         "type": "scattergeo"
        },
        {
         "geo": "geo",
         "hovertemplate": "Country=%{location}<br>Total Cases=%{marker.size}<extra></extra>",
         "legendgroup": "Palestine",
         "locationmode": "country names",
         "locations": [
          "Palestine"
         ],
         "marker": {
          "color": "#FFA15A",
          "size": [
           621008
          ],
          "sizemode": "area",
          "sizeref": 260492.1525,
          "symbol": "circle"
         },
         "mode": "markers",
         "name": "Palestine",
         "showlegend": true,
         "type": "scattergeo"
        },
        {
         "geo": "geo",
         "hovertemplate": "Country=%{location}<br>Total Cases=%{marker.size}<extra></extra>",
         "legendgroup": "Estonia",
         "locationmode": "country names",
         "locations": [
          "Estonia"
         ],
         "marker": {
          "color": "#19d3f3",
          "size": [
           613891
          ],
          "sizemode": "area",
          "sizeref": 260492.1525,
          "symbol": "circle"
         },
         "mode": "markers",
         "name": "Estonia",
         "showlegend": true,
         "type": "scattergeo"
        },
        {
         "geo": "geo",
         "hovertemplate": "Country=%{location}<br>Total Cases=%{marker.size}<extra></extra>",
         "legendgroup": "Moldova",
         "locationmode": "country names",
         "locations": [
          "Moldova"
         ],
         "marker": {
          "color": "#FF6692",
          "size": [
           598673
          ],
          "sizemode": "area",
          "sizeref": 260492.1525,
          "symbol": "circle"
         },
         "mode": "markers",
         "name": "Moldova",
         "showlegend": true,
         "type": "scattergeo"
        },
        {
         "geo": "geo",
         "hovertemplate": "Country=%{location}<br>Total Cases=%{marker.size}<extra></extra>",
         "legendgroup": "Venezuela",
         "locationmode": "country names",
         "locations": [
          "Venezuela"
         ],
         "marker": {
          "color": "#B6E880",
          "size": [
           551587
          ],
          "sizemode": "area",
          "sizeref": 260492.1525,
          "symbol": "circle"
         },
         "mode": "markers",
         "name": "Venezuela",
         "showlegend": true,
         "type": "scattergeo"
        },
        {
         "geo": "geo",
         "hovertemplate": "Country=%{location}<br>Total Cases=%{marker.size}<extra></extra>",
         "legendgroup": "Egypt",
         "locationmode": "country names",
         "locations": [
          "Egypt"
         ],
         "marker": {
          "color": "#FF97FF",
          "size": [
           515645
          ],
          "sizemode": "area",
          "sizeref": 260492.1525,
          "symbol": "circle"
         },
         "mode": "markers",
         "name": "Egypt",
         "showlegend": true,
         "type": "scattergeo"
        },
        {
         "geo": "geo",
         "hovertemplate": "Country=%{location}<br>Total Cases=%{marker.size}<extra></extra>",
         "legendgroup": "Libya",
         "locationmode": "country names",
         "locations": [
          "Libya"
         ],
         "marker": {
          "color": "#FECB52",
          "size": [
           507162
          ],
          "sizemode": "area",
          "sizeref": 260492.1525,
          "symbol": "circle"
         },
         "mode": "markers",
         "name": "Libya",
         "showlegend": true,
         "type": "scattergeo"
        },
        {
         "geo": "geo",
         "hovertemplate": "Country=%{location}<br>Total Cases=%{marker.size}<extra></extra>",
         "legendgroup": "China",
         "locationmode": "country names",
         "locations": [
          "China"
         ],
         "marker": {
          "color": "#636efa",
          "size": [
           503302
          ],
          "sizemode": "area",
          "sizeref": 260492.1525,
          "symbol": "circle"
         },
         "mode": "markers",
         "name": "China",
         "showlegend": true,
         "type": "scattergeo"
        },
        {
         "geo": "geo",
         "hovertemplate": "Country=%{location}<br>Total Cases=%{marker.size}<extra></extra>",
         "legendgroup": "Ethiopia",
         "locationmode": "country names",
         "locations": [
          "Ethiopia"
         ],
         "marker": {
          "color": "#EF553B",
          "size": [
           499531
          ],
          "sizemode": "area",
          "sizeref": 260492.1525,
          "symbol": "circle"
         },
         "mode": "markers",
         "name": "Ethiopia",
         "showlegend": true,
         "type": "scattergeo"
        },
        {
         "geo": "geo",
         "hovertemplate": "Country=%{location}<br>Total Cases=%{marker.size}<extra></extra>",
         "legendgroup": "Qatar",
         "locationmode": "country names",
         "locations": [
          "Qatar"
         ],
         "marker": {
          "color": "#00cc96",
          "size": [
           492534
          ],
          "sizemode": "area",
          "sizeref": 260492.1525,
          "symbol": "circle"
         },
         "mode": "markers",
         "name": "Qatar",
         "showlegend": true,
         "type": "scattergeo"
        },
        {
         "geo": "geo",
         "hovertemplate": "Country=%{location}<br>Total Cases=%{marker.size}<extra></extra>",
         "legendgroup": "Réunion",
         "locationmode": "country names",
         "locations": [
          "Réunion"
         ],
         "marker": {
          "color": "#ab63fa",
          "size": [
           485895
          ],
          "sizemode": "area",
          "sizeref": 260492.1525,
          "symbol": "circle"
         },
         "mode": "markers",
         "name": "Réunion",
         "showlegend": true,
         "type": "scattergeo"
        },
        {
         "geo": "geo",
         "hovertemplate": "Country=%{location}<br>Total Cases=%{marker.size}<extra></extra>",
         "legendgroup": "Honduras",
         "locationmode": "country names",
         "locations": [
          "Honduras"
         ],
         "marker": {
          "color": "#FFA15A",
          "size": [
           470757
          ],
          "sizemode": "area",
          "sizeref": 260492.1525,
          "symbol": "circle"
         },
         "mode": "markers",
         "name": "Honduras",
         "showlegend": true,
         "type": "scattergeo"
        },
        {
         "geo": "geo",
         "hovertemplate": "Country=%{location}<br>Total Cases=%{marker.size}<extra></extra>",
         "legendgroup": "Armenia",
         "locationmode": "country names",
         "locations": [
          "Armenia"
         ],
         "marker": {
          "color": "#19d3f3",
          "size": [
           446008
          ],
          "sizemode": "area",
          "sizeref": 260492.1525,
          "symbol": "circle"
         },
         "mode": "markers",
         "name": "Armenia",
         "showlegend": true,
         "type": "scattergeo"
        },
        {
         "geo": "geo",
         "hovertemplate": "Country=%{location}<br>Total Cases=%{marker.size}<extra></extra>",
         "legendgroup": "Bosnia and Herzegovina",
         "locationmode": "country names",
         "locations": [
          "Bosnia and Herzegovina"
         ],
         "marker": {
          "color": "#FF6692",
          "size": [
           401384
          ],
          "sizemode": "area",
          "sizeref": 260492.1525,
          "symbol": "circle"
         },
         "mode": "markers",
         "name": "Bosnia and Herzegovina",
         "showlegend": true,
         "type": "scattergeo"
        },
        {
         "geo": "geo",
         "hovertemplate": "Country=%{location}<br>Total Cases=%{marker.size}<extra></extra>",
         "legendgroup": "Oman",
         "locationmode": "country names",
         "locations": [
          "Oman"
         ],
         "marker": {
          "color": "#B6E880",
          "size": [
           399449
          ],
          "sizemode": "area",
          "sizeref": 260492.1525,
          "symbol": "circle"
         },
         "mode": "markers",
         "name": "Oman",
         "showlegend": true,
         "type": "scattergeo"
        },
        {
         "geo": "geo",
         "hovertemplate": "Country=%{location}<br>Total Cases=%{marker.size}<extra></extra>",
         "legendgroup": "North Macedonia",
         "locationmode": "country names",
         "locations": [
          "North Macedonia"
         ],
         "marker": {
          "color": "#FF97FF",
          "size": [
           346428
          ],
          "sizemode": "area",
          "sizeref": 260492.1525,
          "symbol": "circle"
         },
         "mode": "markers",
         "name": "North Macedonia",
         "showlegend": true,
         "type": "scattergeo"
        },
        {
         "geo": "geo",
         "hovertemplate": "Country=%{location}<br>Total Cases=%{marker.size}<extra></extra>",
         "legendgroup": "Kenya",
         "locationmode": "country names",
         "locations": [
          "Kenya"
         ],
         "marker": {
          "color": "#FECB52",
          "size": [
           342810
          ],
          "sizemode": "area",
          "sizeref": 260492.1525,
          "symbol": "circle"
         },
         "mode": "markers",
         "name": "Kenya",
         "showlegend": true,
         "type": "scattergeo"
        },
        {
         "geo": "geo",
         "hovertemplate": "Country=%{location}<br>Total Cases=%{marker.size}<extra></extra>",
         "legendgroup": "Zambia",
         "locationmode": "country names",
         "locations": [
          "Zambia"
         ],
         "marker": {
          "color": "#636efa",
          "size": [
           340763
          ],
          "sizemode": "area",
          "sizeref": 260492.1525,
          "symbol": "circle"
         },
         "mode": "markers",
         "name": "Zambia",
         "showlegend": true,
         "type": "scattergeo"
        },
        {
         "geo": "geo",
         "hovertemplate": "Country=%{location}<br>Total Cases=%{marker.size}<extra></extra>",
         "legendgroup": "Albania",
         "locationmode": "country names",
         "locations": [
          "Albania"
         ],
         "marker": {
          "color": "#EF553B",
          "size": [
           334167
          ],
          "sizemode": "area",
          "sizeref": 260492.1525,
          "symbol": "circle"
         },
         "mode": "markers",
         "name": "Albania",
         "showlegend": true,
         "type": "scattergeo"
        },
        {
         "geo": "geo",
         "hovertemplate": "Country=%{location}<br>Total Cases=%{marker.size}<extra></extra>",
         "legendgroup": "Botswana",
         "locationmode": "country names",
         "locations": [
          "Botswana"
         ],
         "marker": {
          "color": "#00cc96",
          "size": [
           329227
          ],
          "sizemode": "area",
          "sizeref": 260492.1525,
          "symbol": "circle"
         },
         "mode": "markers",
         "name": "Botswana",
         "showlegend": true,
         "type": "scattergeo"
        },
        {
         "geo": "geo",
         "hovertemplate": "Country=%{location}<br>Total Cases=%{marker.size}<extra></extra>",
         "legendgroup": "Luxembourg",
         "locationmode": "country names",
         "locations": [
          "Luxembourg"
         ],
         "marker": {
          "color": "#ab63fa",
          "size": [
           297757
          ],
          "sizemode": "area",
          "sizeref": 260492.1525,
          "symbol": "circle"
         },
         "mode": "markers",
         "name": "Luxembourg",
         "showlegend": true,
         "type": "scattergeo"
        },
        {
         "geo": "geo",
         "hovertemplate": "Country=%{location}<br>Total Cases=%{marker.size}<extra></extra>",
         "legendgroup": "Montenegro",
         "locationmode": "country names",
         "locations": [
          "Montenegro"
         ],
         "marker": {
          "color": "#FFA15A",
          "size": [
           286355
          ],
          "sizemode": "area",
          "sizeref": 260492.1525,
          "symbol": "circle"
         },
         "mode": "markers",
         "name": "Montenegro",
         "showlegend": true,
         "type": "scattergeo"
        },
        {
         "geo": "geo",
         "hovertemplate": "Country=%{location}<br>Total Cases=%{marker.size}<extra></extra>",
         "legendgroup": "Brunei",
         "locationmode": "country names",
         "locations": [
          "Brunei"
         ],
         "marker": {
          "color": "#19d3f3",
          "size": [
           275220
          ],
          "sizemode": "area",
          "sizeref": 260492.1525,
          "symbol": "circle"
         },
         "mode": "markers",
         "name": "Brunei",
         "showlegend": true,
         "type": "scattergeo"
        },
        {
         "geo": "geo",
         "hovertemplate": "Country=%{location}<br>Total Cases=%{marker.size}<extra></extra>",
         "legendgroup": "Algeria",
         "locationmode": "country names",
         "locations": [
          "Algeria"
         ],
         "marker": {
          "color": "#FF6692",
          "size": [
           271378
          ],
          "sizemode": "area",
          "sizeref": 260492.1525,
          "symbol": "circle"
         },
         "mode": "markers",
         "name": "Algeria",
         "showlegend": true,
         "type": "scattergeo"
        },
        {
         "geo": "geo",
         "hovertemplate": "Country=%{location}<br>Total Cases=%{marker.size}<extra></extra>",
         "legendgroup": "Nigeria",
         "locationmode": "country names",
         "locations": [
          "Nigeria"
         ],
         "marker": {
          "color": "#B6E880",
          "size": [
           266463
          ],
          "sizemode": "area",
          "sizeref": 260492.1525,
          "symbol": "circle"
         },
         "mode": "markers",
         "name": "Nigeria",
         "showlegend": true,
         "type": "scattergeo"
        },
        {
         "geo": "geo",
         "hovertemplate": "Country=%{location}<br>Total Cases=%{marker.size}<extra></extra>",
         "legendgroup": "Zimbabwe",
         "locationmode": "country names",
         "locations": [
          "Zimbabwe"
         ],
         "marker": {
          "color": "#FF97FF",
          "size": [
           261606
          ],
          "sizemode": "area",
          "sizeref": 260492.1525,
          "symbol": "circle"
         },
         "mode": "markers",
         "name": "Zimbabwe",
         "showlegend": true,
         "type": "scattergeo"
        },
        {
         "geo": "geo",
         "hovertemplate": "Country=%{location}<br>Total Cases=%{marker.size}<extra></extra>",
         "legendgroup": "Uzbekistan",
         "locationmode": "country names",
         "locations": [
          "Uzbekistan"
         ],
         "marker": {
          "color": "#FECB52",
          "size": [
           250567
          ],
          "sizemode": "area",
          "sizeref": 260492.1525,
          "symbol": "circle"
         },
         "mode": "markers",
         "name": "Uzbekistan",
         "showlegend": true,
         "type": "scattergeo"
        },
        {
         "geo": "geo",
         "hovertemplate": "Country=%{location}<br>Total Cases=%{marker.size}<extra></extra>",
         "legendgroup": "Mozambique",
         "locationmode": "country names",
         "locations": [
          "Mozambique"
         ],
         "marker": {
          "color": "#636efa",
          "size": [
           231994
          ],
          "sizemode": "area",
          "sizeref": 260492.1525,
          "symbol": "circle"
         },
         "mode": "markers",
         "name": "Mozambique",
         "showlegend": true,
         "type": "scattergeo"
        },
        {
         "geo": "geo",
         "hovertemplate": "Country=%{location}<br>Total Cases=%{marker.size}<extra></extra>",
         "legendgroup": "Martinique",
         "locationmode": "country names",
         "locations": [
          "Martinique"
         ],
         "marker": {
          "color": "#EF553B",
          "size": [
           229687
          ],
          "sizemode": "area",
          "sizeref": 260492.1525,
          "symbol": "circle"
         },
         "mode": "markers",
         "name": "Martinique",
         "showlegend": true,
         "type": "scattergeo"
        },
        {
         "geo": "geo",
         "hovertemplate": "Country=%{location}<br>Total Cases=%{marker.size}<extra></extra>",
         "legendgroup": "Laos",
         "locationmode": "country names",
         "locations": [
          "Laos"
         ],
         "marker": {
          "color": "#00cc96",
          "size": [
           217973
          ],
          "sizemode": "area",
          "sizeref": 260492.1525,
          "symbol": "circle"
         },
         "mode": "markers",
         "name": "Laos",
         "showlegend": true,
         "type": "scattergeo"
        },
        {
         "geo": "geo",
         "hovertemplate": "Country=%{location}<br>Total Cases=%{marker.size}<extra></extra>",
         "legendgroup": "Iceland",
         "locationmode": "country names",
         "locations": [
          "Iceland"
         ],
         "marker": {
          "color": "#ab63fa",
          "size": [
           208688
          ],
          "sizemode": "area",
          "sizeref": 260492.1525,
          "symbol": "circle"
         },
         "mode": "markers",
         "name": "Iceland",
         "showlegend": true,
         "type": "scattergeo"
        },
        {
         "geo": "geo",
         "hovertemplate": "Country=%{location}<br>Total Cases=%{marker.size}<extra></extra>",
         "legendgroup": "Afghanistan",
         "locationmode": "country names",
         "locations": [
          "Afghanistan"
         ],
         "marker": {
          "color": "#FFA15A",
          "size": [
           208545
          ],
          "sizemode": "area",
          "sizeref": 260492.1525,
          "symbol": "circle"
         },
         "mode": "markers",
         "name": "Afghanistan",
         "showlegend": true,
         "type": "scattergeo"
        },
        {
         "geo": "geo",
         "hovertemplate": "Country=%{location}<br>Total Cases=%{marker.size}<extra></extra>",
         "legendgroup": "Kyrgyzstan",
         "locationmode": "country names",
         "locations": [
          "Kyrgyzstan"
         ],
         "marker": {
          "color": "#19d3f3",
          "size": [
           206592
          ],
          "sizemode": "area",
          "sizeref": 260492.1525,
          "symbol": "circle"
         },
         "mode": "markers",
         "name": "Kyrgyzstan",
         "showlegend": true,
         "type": "scattergeo"
        },
        {
         "geo": "geo",
         "hovertemplate": "Country=%{location}<br>Total Cases=%{marker.size}<extra></extra>",
         "legendgroup": "El Salvador",
         "locationmode": "country names",
         "locations": [
          "El Salvador"
         ],
         "marker": {
          "color": "#FF6692",
          "size": [
           201785
          ],
          "sizemode": "area",
          "sizeref": 260492.1525,
          "symbol": "circle"
         },
         "mode": "markers",
         "name": "El Salvador",
         "showlegend": true,
         "type": "scattergeo"
        },
        {
         "geo": "geo",
         "hovertemplate": "Country=%{location}<br>Total Cases=%{marker.size}<extra></extra>",
         "legendgroup": "Guadeloupe",
         "locationmode": "country names",
         "locations": [
          "Guadeloupe"
         ],
         "marker": {
          "color": "#B6E880",
          "size": [
           201394
          ],
          "sizemode": "area",
          "sizeref": 260492.1525,
          "symbol": "circle"
         },
         "mode": "markers",
         "name": "Guadeloupe",
         "showlegend": true,
         "type": "scattergeo"
        },
        {
         "geo": "geo",
         "hovertemplate": "Country=%{location}<br>Total Cases=%{marker.size}<extra></extra>",
         "legendgroup": "Trinidad and Tobago",
         "locationmode": "country names",
         "locations": [
          "Trinidad and Tobago"
         ],
         "marker": {
          "color": "#FF97FF",
          "size": [
           187908
          ],
          "sizemode": "area",
          "sizeref": 260492.1525,
          "symbol": "circle"
         },
         "mode": "markers",
         "name": "Trinidad and Tobago",
         "showlegend": true,
         "type": "scattergeo"
        },
        {
         "geo": "geo",
         "hovertemplate": "Country=%{location}<br>Total Cases=%{marker.size}<extra></extra>",
         "legendgroup": "Maldives",
         "locationmode": "country names",
         "locations": [
          "Maldives"
         ],
         "marker": {
          "color": "#FECB52",
          "size": [
           185715
          ],
          "sizemode": "area",
          "sizeref": 260492.1525,
          "symbol": "circle"
         },
         "mode": "markers",
         "name": "Maldives",
         "showlegend": true,
         "type": "scattergeo"
        },
        {
         "geo": "geo",
         "hovertemplate": "Country=%{location}<br>Total Cases=%{marker.size}<extra></extra>",
         "legendgroup": "Ghana",
         "locationmode": "country names",
         "locations": [
          "Ghana"
         ],
         "marker": {
          "color": "#636efa",
          "size": [
           171112
          ],
          "sizemode": "area",
          "sizeref": 260492.1525,
          "symbol": "circle"
         },
         "mode": "markers",
         "name": "Ghana",
         "showlegend": true,
         "type": "scattergeo"
        },
        {
         "geo": "geo",
         "hovertemplate": "Country=%{location}<br>Total Cases=%{marker.size}<extra></extra>",
         "legendgroup": "Namibia",
         "locationmode": "country names",
         "locations": [
          "Namibia"
         ],
         "marker": {
          "color": "#EF553B",
          "size": [
           170741
          ],
          "sizemode": "area",
          "sizeref": 260492.1525,
          "symbol": "circle"
         },
         "mode": "markers",
         "name": "Namibia",
         "showlegend": true,
         "type": "scattergeo"
        },
        {
         "geo": "geo",
         "hovertemplate": "Country=%{location}<br>Total Cases=%{marker.size}<extra></extra>",
         "legendgroup": "Uganda",
         "locationmode": "country names",
         "locations": [
          "Uganda"
         ],
         "marker": {
          "color": "#00cc96",
          "size": [
           170400
          ],
          "sizemode": "area",
          "sizeref": 260492.1525,
          "symbol": "circle"
         },
         "mode": "markers",
         "name": "Uganda",
         "showlegend": true,
         "type": "scattergeo"
        },
        {
         "geo": "geo",
         "hovertemplate": "Country=%{location}<br>Total Cases=%{marker.size}<extra></extra>",
         "legendgroup": "Jamaica",
         "locationmode": "country names",
         "locations": [
          "Jamaica"
         ],
         "marker": {
          "color": "#ab63fa",
          "size": [
           153407
          ],
          "sizemode": "area",
          "sizeref": 260492.1525,
          "symbol": "circle"
         },
         "mode": "markers",
         "name": "Jamaica",
         "showlegend": true,
         "type": "scattergeo"
        },
        {
         "geo": "geo",
         "hovertemplate": "Country=%{location}<br>Total Cases=%{marker.size}<extra></extra>",
         "legendgroup": "Cambodia",
         "locationmode": "country names",
         "locations": [
          "Cambodia"
         ],
         "marker": {
          "color": "#FFA15A",
          "size": [
           138693
          ],
          "sizemode": "area",
          "sizeref": 260492.1525,
          "symbol": "circle"
         },
         "mode": "markers",
         "name": "Cambodia",
         "showlegend": true,
         "type": "scattergeo"
        },
        {
         "geo": "geo",
         "hovertemplate": "Country=%{location}<br>Total Cases=%{marker.size}<extra></extra>",
         "legendgroup": "Rwanda",
         "locationmode": "country names",
         "locations": [
          "Rwanda"
         ],
         "marker": {
          "color": "#19d3f3",
          "size": [
           133090
          ],
          "sizemode": "area",
          "sizeref": 260492.1525,
          "symbol": "circle"
         },
         "mode": "markers",
         "name": "Rwanda",
         "showlegend": true,
         "type": "scattergeo"
        },
        {
         "geo": "geo",
         "hovertemplate": "Country=%{location}<br>Total Cases=%{marker.size}<extra></extra>",
         "legendgroup": "Cameroon",
         "locationmode": "country names",
         "locations": [
          "Cameroon"
         ],
         "marker": {
          "color": "#FF6692",
          "size": [
           123993
          ],
          "sizemode": "area",
          "sizeref": 260492.1525,
          "symbol": "circle"
         },
         "mode": "markers",
         "name": "Cameroon",
         "showlegend": true,
         "type": "scattergeo"
        },
        {
         "geo": "geo",
         "hovertemplate": "Country=%{location}<br>Total Cases=%{marker.size}<extra></extra>",
         "legendgroup": "Malta",
         "locationmode": "country names",
         "locations": [
          "Malta"
         ],
         "marker": {
          "color": "#B6E880",
          "size": [
           117062
          ],
          "sizemode": "area",
          "sizeref": 260492.1525,
          "symbol": "circle"
         },
         "mode": "markers",
         "name": "Malta",
         "showlegend": true,
         "type": "scattergeo"
        },
        {
         "geo": "geo",
         "hovertemplate": "Country=%{location}<br>Total Cases=%{marker.size}<extra></extra>",
         "legendgroup": "Barbados",
         "locationmode": "country names",
         "locations": [
          "Barbados"
         ],
         "marker": {
          "color": "#FF97FF",
          "size": [
           106157
          ],
          "sizemode": "area",
          "sizeref": 260492.1525,
          "symbol": "circle"
         },
         "mode": "markers",
         "name": "Barbados",
         "showlegend": true,
         "type": "scattergeo"
        },
        {
         "geo": "geo",
         "hovertemplate": "Country=%{location}<br>Total Cases=%{marker.size}<extra></extra>",
         "legendgroup": "Angola",
         "locationmode": "country names",
         "locations": [
          "Angola"
         ],
         "marker": {
          "color": "#FECB52",
          "size": [
           105184
          ],
          "sizemode": "area",
          "sizeref": 260492.1525,
          "symbol": "circle"
         },
         "mode": "markers",
         "name": "Angola",
         "showlegend": true,
         "type": "scattergeo"
        },
        {
         "geo": "geo",
         "hovertemplate": "Country=%{location}<br>Total Cases=%{marker.size}<extra></extra>",
         "legendgroup": "Channel Islands",
         "locationmode": "country names",
         "locations": [
          "Channel Islands"
         ],
         "marker": {
          "color": "#636efa",
          "size": [
           101116
          ],
          "sizemode": "area",
          "sizeref": 260492.1525,
          "symbol": "circle"
         },
         "mode": "markers",
         "name": "Channel Islands",
         "showlegend": true,
         "type": "scattergeo"
        },
        {
         "geo": "geo",
         "hovertemplate": "Country=%{location}<br>Total Cases=%{marker.size}<extra></extra>",
         "legendgroup": "French Guiana",
         "locationmode": "country names",
         "locations": [
          "French Guiana"
         ],
         "marker": {
          "color": "#EF553B",
          "size": [
           98028
          ],
          "sizemode": "area",
          "sizeref": 260492.1525,
          "symbol": "circle"
         },
         "mode": "markers",
         "name": "French Guiana",
         "showlegend": true,
         "type": "scattergeo"
        },
        {
         "geo": "geo",
         "hovertemplate": "Country=%{location}<br>Total Cases=%{marker.size}<extra></extra>",
         "legendgroup": "DRC",
         "locationmode": "country names",
         "locations": [
          "DRC"
         ],
         "marker": {
          "color": "#00cc96",
          "size": [
           95514
          ],
          "sizemode": "area",
          "sizeref": 260492.1525,
          "symbol": "circle"
         },
         "mode": "markers",
         "name": "DRC",
         "showlegend": true,
         "type": "scattergeo"
        },
        {
         "geo": "geo",
         "hovertemplate": "Country=%{location}<br>Total Cases=%{marker.size}<extra></extra>",
         "legendgroup": "Senegal",
         "locationmode": "country names",
         "locations": [
          "Senegal"
         ],
         "marker": {
          "color": "#ab63fa",
          "size": [
           88902
          ],
          "sizemode": "area",
          "sizeref": 260492.1525,
          "symbol": "circle"
         },
         "mode": "markers",
         "name": "Senegal",
         "showlegend": true,
         "type": "scattergeo"
        },
        {
         "geo": "geo",
         "hovertemplate": "Country=%{location}<br>Total Cases=%{marker.size}<extra></extra>",
         "legendgroup": "Malawi",
         "locationmode": "country names",
         "locations": [
          "Malawi"
         ],
         "marker": {
          "color": "#FFA15A",
          "size": [
           88559
          ],
          "sizemode": "area",
          "sizeref": 260492.1525,
          "symbol": "circle"
         },
         "mode": "markers",
         "name": "Malawi",
         "showlegend": true,
         "type": "scattergeo"
        },
        {
         "geo": "geo",
         "hovertemplate": "Country=%{location}<br>Total Cases=%{marker.size}<extra></extra>",
         "legendgroup": "Ivory Coast",
         "locationmode": "country names",
         "locations": [
          "Ivory Coast"
         ],
         "marker": {
          "color": "#19d3f3",
          "size": [
           87982
          ],
          "sizemode": "area",
          "sizeref": 260492.1525,
          "symbol": "circle"
         },
         "mode": "markers",
         "name": "Ivory Coast",
         "showlegend": true,
         "type": "scattergeo"
        },
        {
         "geo": "geo",
         "hovertemplate": "Country=%{location}<br>Total Cases=%{marker.size}<extra></extra>",
         "legendgroup": "Suriname",
         "locationmode": "country names",
         "locations": [
          "Suriname"
         ],
         "marker": {
          "color": "#FF6692",
          "size": [
           82020
          ],
          "sizemode": "area",
          "sizeref": 260492.1525,
          "symbol": "circle"
         },
         "mode": "markers",
         "name": "Suriname",
         "showlegend": true,
         "type": "scattergeo"
        },
        {
         "geo": "geo",
         "hovertemplate": "Country=%{location}<br>Total Cases=%{marker.size}<extra></extra>",
         "legendgroup": "New Caledonia",
         "locationmode": "country names",
         "locations": [
          "New Caledonia"
         ],
         "marker": {
          "color": "#B6E880",
          "size": [
           79845
          ],
          "sizemode": "area",
          "sizeref": 260492.1525,
          "symbol": "circle"
         },
         "mode": "markers",
         "name": "New Caledonia",
         "showlegend": true,
         "type": "scattergeo"
        },
        {
         "geo": "geo",
         "hovertemplate": "Country=%{location}<br>Total Cases=%{marker.size}<extra></extra>",
         "legendgroup": "French Polynesia",
         "locationmode": "country names",
         "locations": [
          "French Polynesia"
         ],
         "marker": {
          "color": "#FF97FF",
          "size": [
           77957
          ],
          "sizemode": "area",
          "sizeref": 260492.1525,
          "symbol": "circle"
         },
         "mode": "markers",
         "name": "French Polynesia",
         "showlegend": true,
         "type": "scattergeo"
        },
        {
         "geo": "geo",
         "hovertemplate": "Country=%{location}<br>Total Cases=%{marker.size}<extra></extra>",
         "legendgroup": "Eswatini",
         "locationmode": "country names",
         "locations": [
          "Eswatini"
         ],
         "marker": {
          "color": "#FECB52",
          "size": [
           74133
          ],
          "sizemode": "area",
          "sizeref": 260492.1525,
          "symbol": "circle"
         },
         "mode": "markers",
         "name": "Eswatini",
         "showlegend": true,
         "type": "scattergeo"
        },
        {
         "geo": "geo",
         "hovertemplate": "Country=%{location}<br>Total Cases=%{marker.size}<extra></extra>",
         "legendgroup": "Guyana",
         "locationmode": "country names",
         "locations": [
          "Guyana"
         ],
         "marker": {
          "color": "#636efa",
          "size": [
           72950
          ],
          "sizemode": "area",
          "sizeref": 260492.1525,
          "symbol": "circle"
         },
         "mode": "markers",
         "name": "Guyana",
         "showlegend": true,
         "type": "scattergeo"
        },
        {
         "geo": "geo",
         "hovertemplate": "Country=%{location}<br>Total Cases=%{marker.size}<extra></extra>",
         "legendgroup": "Belize",
         "locationmode": "country names",
         "locations": [
          "Belize"
         ],
         "marker": {
          "color": "#EF553B",
          "size": [
           70660
          ],
          "sizemode": "area",
          "sizeref": 260492.1525,
          "symbol": "circle"
         },
         "mode": "markers",
         "name": "Belize",
         "showlegend": true,
         "type": "scattergeo"
        },
        {
         "geo": "geo",
         "hovertemplate": "Country=%{location}<br>Total Cases=%{marker.size}<extra></extra>",
         "legendgroup": "Fiji",
         "locationmode": "country names",
         "locations": [
          "Fiji"
         ],
         "marker": {
          "color": "#00cc96",
          "size": [
           68820
          ],
          "sizemode": "area",
          "sizeref": 260492.1525,
          "symbol": "circle"
         },
         "mode": "markers",
         "name": "Fiji",
         "showlegend": true,
         "type": "scattergeo"
        },
        {
         "geo": "geo",
         "hovertemplate": "Country=%{location}<br>Total Cases=%{marker.size}<extra></extra>",
         "legendgroup": "Madagascar",
         "locationmode": "country names",
         "locations": [
          "Madagascar"
         ],
         "marker": {
          "color": "#ab63fa",
          "size": [
           67827
          ],
          "sizemode": "area",
          "sizeref": 260492.1525,
          "symbol": "circle"
         },
         "mode": "markers",
         "name": "Madagascar",
         "showlegend": true,
         "type": "scattergeo"
        },
        {
         "geo": "geo",
         "hovertemplate": "Country=%{location}<br>Total Cases=%{marker.size}<extra></extra>",
         "legendgroup": "Sudan",
         "locationmode": "country names",
         "locations": [
          "Sudan"
         ],
         "marker": {
          "color": "#FFA15A",
          "size": [
           63742
          ],
          "sizemode": "area",
          "sizeref": 260492.1525,
          "symbol": "circle"
         },
         "mode": "markers",
         "name": "Sudan",
         "showlegend": true,
         "type": "scattergeo"
        },
        {
         "geo": "geo",
         "hovertemplate": "Country=%{location}<br>Total Cases=%{marker.size}<extra></extra>",
         "legendgroup": "Mauritania",
         "locationmode": "country names",
         "locations": [
          "Mauritania"
         ],
         "marker": {
          "color": "#19d3f3",
          "size": [
           63665
          ],
          "sizemode": "area",
          "sizeref": 260492.1525,
          "symbol": "circle"
         },
         "mode": "markers",
         "name": "Mauritania",
         "showlegend": true,
         "type": "scattergeo"
        },
        {
         "geo": "geo",
         "hovertemplate": "Country=%{location}<br>Total Cases=%{marker.size}<extra></extra>",
         "legendgroup": "Cabo Verde",
         "locationmode": "country names",
         "locations": [
          "Cabo Verde"
         ],
         "marker": {
          "color": "#FF6692",
          "size": [
           63229
          ],
          "sizemode": "area",
          "sizeref": 260492.1525,
          "symbol": "circle"
         },
         "mode": "markers",
         "name": "Cabo Verde",
         "showlegend": true,
         "type": "scattergeo"
        },
        {
         "geo": "geo",
         "hovertemplate": "Country=%{location}<br>Total Cases=%{marker.size}<extra></extra>",
         "legendgroup": "Bhutan",
         "locationmode": "country names",
         "locations": [
          "Bhutan"
         ],
         "marker": {
          "color": "#B6E880",
          "size": [
           62605
          ],
          "sizemode": "area",
          "sizeref": 260492.1525,
          "symbol": "circle"
         },
         "mode": "markers",
         "name": "Bhutan",
         "showlegend": true,
         "type": "scattergeo"
        },
        {
         "geo": "geo",
         "hovertemplate": "Country=%{location}<br>Total Cases=%{marker.size}<extra></extra>",
         "legendgroup": "Syria",
         "locationmode": "country names",
         "locations": [
          "Syria"
         ],
         "marker": {
          "color": "#FF97FF",
          "size": [
           57453
          ],
          "sizemode": "area",
          "sizeref": 260492.1525,
          "symbol": "circle"
         },
         "mode": "markers",
         "name": "Syria",
         "showlegend": true,
         "type": "scattergeo"
        },
        {
         "geo": "geo",
         "hovertemplate": "Country=%{location}<br>Total Cases=%{marker.size}<extra></extra>",
         "legendgroup": "Burundi",
         "locationmode": "country names",
         "locations": [
          "Burundi"
         ],
         "marker": {
          "color": "#FECB52",
          "size": [
           53492
          ],
          "sizemode": "area",
          "sizeref": 260492.1525,
          "symbol": "circle"
         },
         "mode": "markers",
         "name": "Burundi",
         "showlegend": true,
         "type": "scattergeo"
        },
        {
         "geo": "geo",
         "hovertemplate": "Country=%{location}<br>Total Cases=%{marker.size}<extra></extra>",
         "legendgroup": "Seychelles",
         "locationmode": "country names",
         "locations": [
          "Seychelles"
         ],
         "marker": {
          "color": "#636efa",
          "size": [
           50665
          ],
          "sizemode": "area",
          "sizeref": 260492.1525,
          "symbol": "circle"
         },
         "mode": "markers",
         "name": "Seychelles",
         "showlegend": true,
         "type": "scattergeo"
        },
        {
         "geo": "geo",
         "hovertemplate": "Country=%{location}<br>Total Cases=%{marker.size}<extra></extra>",
         "legendgroup": "Gabon",
         "locationmode": "country names",
         "locations": [
          "Gabon"
         ],
         "marker": {
          "color": "#EF553B",
          "size": [
           48981
          ],
          "sizemode": "area",
          "sizeref": 260492.1525,
          "symbol": "circle"
         },
         "mode": "markers",
         "name": "Gabon",
         "showlegend": true,
         "type": "scattergeo"
        },
        {
         "geo": "geo",
         "hovertemplate": "Country=%{location}<br>Total Cases=%{marker.size}<extra></extra>",
         "legendgroup": "Andorra",
         "locationmode": "country names",
         "locations": [
          "Andorra"
         ],
         "marker": {
          "color": "#00cc96",
          "size": [
           47839
          ],
          "sizemode": "area",
          "sizeref": 260492.1525,
          "symbol": "circle"
         },
         "mode": "markers",
         "name": "Andorra",
         "showlegend": true,
         "type": "scattergeo"
        },
        {
         "geo": "geo",
         "hovertemplate": "Country=%{location}<br>Total Cases=%{marker.size}<extra></extra>",
         "legendgroup": "Papua New Guinea",
         "locationmode": "country names",
         "locations": [
          "Papua New Guinea"
         ],
         "marker": {
          "color": "#ab63fa",
          "size": [
           46750
          ],
          "sizemode": "area",
          "sizeref": 260492.1525,
          "symbol": "circle"
         },
         "mode": "markers",
         "name": "Papua New Guinea",
         "showlegend": true,
         "type": "scattergeo"
        },
        {
         "geo": "geo",
         "hovertemplate": "Country=%{location}<br>Total Cases=%{marker.size}<extra></extra>",
         "legendgroup": "Curaçao",
         "locationmode": "country names",
         "locations": [
          "Curaçao"
         ],
         "marker": {
          "color": "#FFA15A",
          "size": [
           45986
          ],
          "sizemode": "area",
          "sizeref": 260492.1525,
          "symbol": "circle"
         },
         "mode": "markers",
         "name": "Curaçao",
         "showlegend": true,
         "type": "scattergeo"
        },
        {
         "geo": "geo",
         "hovertemplate": "Country=%{location}<br>Total Cases=%{marker.size}<extra></extra>",
         "legendgroup": "Aruba",
         "locationmode": "country names",
         "locations": [
          "Aruba"
         ],
         "marker": {
          "color": "#19d3f3",
          "size": [
           43993
          ],
          "sizemode": "area",
          "sizeref": 260492.1525,
          "symbol": "circle"
         },
         "mode": "markers",
         "name": "Aruba",
         "showlegend": true,
         "type": "scattergeo"
        },
        {
         "geo": "geo",
         "hovertemplate": "Country=%{location}<br>Total Cases=%{marker.size}<extra></extra>",
         "legendgroup": "Tanzania",
         "locationmode": "country names",
         "locations": [
          "Tanzania"
         ],
         "marker": {
          "color": "#FF6692",
          "size": [
           42664
          ],
          "sizemode": "area",
          "sizeref": 260492.1525,
          "symbol": "circle"
         },
         "mode": "markers",
         "name": "Tanzania",
         "showlegend": true,
         "type": "scattergeo"
        },
        {
         "geo": "geo",
         "hovertemplate": "Country=%{location}<br>Total Cases=%{marker.size}<extra></extra>",
         "legendgroup": "Mayotte",
         "locationmode": "country names",
         "locations": [
          "Mayotte"
         ],
         "marker": {
          "color": "#B6E880",
          "size": [
           42002
          ],
          "sizemode": "area",
          "sizeref": 260492.1525,
          "symbol": "circle"
         },
         "mode": "markers",
         "name": "Mayotte",
         "showlegend": true,
         "type": "scattergeo"
        },
        {
         "geo": "geo",
         "hovertemplate": "Country=%{location}<br>Total Cases=%{marker.size}<extra></extra>",
         "legendgroup": "Mauritius",
         "locationmode": "country names",
         "locations": [
          "Mauritius"
         ],
         "marker": {
          "color": "#FF97FF",
          "size": [
           41652
          ],
          "sizemode": "area",
          "sizeref": 260492.1525,
          "symbol": "circle"
         },
         "mode": "markers",
         "name": "Mauritius",
         "showlegend": true,
         "type": "scattergeo"
        },
        {
         "geo": "geo",
         "hovertemplate": "Country=%{location}<br>Total Cases=%{marker.size}<extra></extra>",
         "legendgroup": "Togo",
         "locationmode": "country names",
         "locations": [
          "Togo"
         ],
         "marker": {
          "color": "#FECB52",
          "size": [
           39354
          ],
          "sizemode": "area",
          "sizeref": 260492.1525,
          "symbol": "circle"
         },
         "mode": "markers",
         "name": "Togo",
         "showlegend": true,
         "type": "scattergeo"
        },
        {
         "geo": "geo",
         "hovertemplate": "Country=%{location}<br>Total Cases=%{marker.size}<extra></extra>",
         "legendgroup": "Guinea",
         "locationmode": "country names",
         "locations": [
          "Guinea"
         ],
         "marker": {
          "color": "#636efa",
          "size": [
           38240
          ],
          "sizemode": "area",
          "sizeref": 260492.1525,
          "symbol": "circle"
         },
         "mode": "markers",
         "name": "Guinea",
         "showlegend": true,
         "type": "scattergeo"
        },
        {
         "geo": "geo",
         "hovertemplate": "Country=%{location}<br>Total Cases=%{marker.size}<extra></extra>",
         "legendgroup": "Isle of Man",
         "locationmode": "country names",
         "locations": [
          "Isle of Man"
         ],
         "marker": {
          "color": "#EF553B",
          "size": [
           38008
          ],
          "sizemode": "area",
          "sizeref": 260492.1525,
          "symbol": "circle"
         },
         "mode": "markers",
         "name": "Isle of Man",
         "showlegend": true,
         "type": "scattergeo"
        },
        {
         "geo": "geo",
         "hovertemplate": "Country=%{location}<br>Total Cases=%{marker.size}<extra></extra>",
         "legendgroup": "Bahamas",
         "locationmode": "country names",
         "locations": [
          "Bahamas"
         ],
         "marker": {
          "color": "#00cc96",
          "size": [
           37491
          ],
          "sizemode": "area",
          "sizeref": 260492.1525,
          "symbol": "circle"
         },
         "mode": "markers",
         "name": "Bahamas",
         "showlegend": true,
         "type": "scattergeo"
        },
        {
         "geo": "geo",
         "hovertemplate": "Country=%{location}<br>Total Cases=%{marker.size}<extra></extra>",
         "legendgroup": "Lesotho",
         "locationmode": "country names",
         "locations": [
          "Lesotho"
         ],
         "marker": {
          "color": "#ab63fa",
          "size": [
           34790
          ],
          "sizemode": "area",
          "sizeref": 260492.1525,
          "symbol": "circle"
         },
         "mode": "markers",
         "name": "Lesotho",
         "showlegend": true,
         "type": "scattergeo"
        },
        {
         "geo": "geo",
         "hovertemplate": "Country=%{location}<br>Total Cases=%{marker.size}<extra></extra>",
         "legendgroup": "Faeroe Islands",
         "locationmode": "country names",
         "locations": [
          "Faeroe Islands"
         ],
         "marker": {
          "color": "#FFA15A",
          "size": [
           34658
          ],
          "sizemode": "area",
          "sizeref": 260492.1525,
          "symbol": "circle"
         },
         "mode": "markers",
         "name": "Faeroe Islands",
         "showlegend": true,
         "type": "scattergeo"
        },
        {
         "geo": "geo",
         "hovertemplate": "Country=%{location}<br>Total Cases=%{marker.size}<extra></extra>",
         "legendgroup": "Haiti",
         "locationmode": "country names",
         "locations": [
          "Haiti"
         ],
         "marker": {
          "color": "#19d3f3",
          "size": [
           34076
          ],
          "sizemode": "area",
          "sizeref": 260492.1525,
          "symbol": "circle"
         },
         "mode": "markers",
         "name": "Haiti",
         "showlegend": true,
         "type": "scattergeo"
        },
        {
         "geo": "geo",
         "hovertemplate": "Country=%{location}<br>Total Cases=%{marker.size}<extra></extra>",
         "legendgroup": "Mali",
         "locationmode": "country names",
         "locations": [
          "Mali"
         ],
         "marker": {
          "color": "#FF6692",
          "size": [
           32783
          ],
          "sizemode": "area",
          "sizeref": 260492.1525,
          "symbol": "circle"
         },
         "mode": "markers",
         "name": "Mali",
         "showlegend": true,
         "type": "scattergeo"
        },
        {
         "geo": "geo",
         "hovertemplate": "Country=%{location}<br>Total Cases=%{marker.size}<extra></extra>",
         "legendgroup": "Cayman Islands",
         "locationmode": "country names",
         "locations": [
          "Cayman Islands"
         ],
         "marker": {
          "color": "#B6E880",
          "size": [
           31472
          ],
          "sizemode": "area",
          "sizeref": 260492.1525,
          "symbol": "circle"
         },
         "mode": "markers",
         "name": "Cayman Islands",
         "showlegend": true,
         "type": "scattergeo"
        },
        {
         "geo": "geo",
         "hovertemplate": "Country=%{location}<br>Total Cases=%{marker.size}<extra></extra>",
         "legendgroup": "Saint Lucia",
         "locationmode": "country names",
         "locations": [
          "Saint Lucia"
         ],
         "marker": {
          "color": "#FF97FF",
          "size": [
           29803
          ],
          "sizemode": "area",
          "sizeref": 260492.1525,
          "symbol": "circle"
         },
         "mode": "markers",
         "name": "Saint Lucia",
         "showlegend": true,
         "type": "scattergeo"
        },
        {
         "geo": "geo",
         "hovertemplate": "Country=%{location}<br>Total Cases=%{marker.size}<extra></extra>",
         "legendgroup": "Benin",
         "locationmode": "country names",
         "locations": [
          "Benin"
         ],
         "marker": {
          "color": "#FECB52",
          "size": [
           27989
          ],
          "sizemode": "area",
          "sizeref": 260492.1525,
          "symbol": "circle"
         },
         "mode": "markers",
         "name": "Benin",
         "showlegend": true,
         "type": "scattergeo"
        },
        {
         "geo": "geo",
         "hovertemplate": "Country=%{location}<br>Total Cases=%{marker.size}<extra></extra>",
         "legendgroup": "Somalia",
         "locationmode": "country names",
         "locations": [
          "Somalia"
         ],
         "marker": {
          "color": "#636efa",
          "size": [
           27318
          ],
          "sizemode": "area",
          "sizeref": 260492.1525,
          "symbol": "circle"
         },
         "mode": "markers",
         "name": "Somalia",
         "showlegend": true,
         "type": "scattergeo"
        },
        {
         "geo": "geo",
         "hovertemplate": "Country=%{location}<br>Total Cases=%{marker.size}<extra></extra>",
         "legendgroup": "Congo",
         "locationmode": "country names",
         "locations": [
          "Congo"
         ],
         "marker": {
          "color": "#EF553B",
          "size": [
           25375
          ],
          "sizemode": "area",
          "sizeref": 260492.1525,
          "symbol": "circle"
         },
         "mode": "markers",
         "name": "Congo",
         "showlegend": true,
         "type": "scattergeo"
        },
        {
         "geo": "geo",
         "hovertemplate": "Country=%{location}<br>Total Cases=%{marker.size}<extra></extra>",
         "legendgroup": "Solomon Islands",
         "locationmode": "country names",
         "locations": [
          "Solomon Islands"
         ],
         "marker": {
          "color": "#00cc96",
          "size": [
           24575
          ],
          "sizemode": "area",
          "sizeref": 260492.1525,
          "symbol": "circle"
         },
         "mode": "markers",
         "name": "Solomon Islands",
         "showlegend": true,
         "type": "scattergeo"
        },
        {
         "geo": "geo",
         "hovertemplate": "Country=%{location}<br>Total Cases=%{marker.size}<extra></extra>",
         "legendgroup": "San Marino",
         "locationmode": "country names",
         "locations": [
          "San Marino"
         ],
         "marker": {
          "color": "#ab63fa",
          "size": [
           23427
          ],
          "sizemode": "area",
          "sizeref": 260492.1525,
          "symbol": "circle"
         },
         "mode": "markers",
         "name": "San Marino",
         "showlegend": true,
         "type": "scattergeo"
        },
        {
         "geo": "geo",
         "hovertemplate": "Country=%{location}<br>Total Cases=%{marker.size}<extra></extra>",
         "legendgroup": "Timor-Leste",
         "locationmode": "country names",
         "locations": [
          "Timor-Leste"
         ],
         "marker": {
          "color": "#FFA15A",
          "size": [
           23415
          ],
          "sizemode": "area",
          "sizeref": 260492.1525,
          "symbol": "circle"
         },
         "mode": "markers",
         "name": "Timor-Leste",
         "showlegend": true,
         "type": "scattergeo"
        },
        {
         "geo": "geo",
         "hovertemplate": "Country=%{location}<br>Total Cases=%{marker.size}<extra></extra>",
         "legendgroup": "Micronesia",
         "locationmode": "country names",
         "locations": [
          "Micronesia"
         ],
         "marker": {
          "color": "#19d3f3",
          "size": [
           22676
          ],
          "sizemode": "area",
          "sizeref": 260492.1525,
          "symbol": "circle"
         },
         "mode": "markers",
         "name": "Micronesia",
         "showlegend": true,
         "type": "scattergeo"
        },
        {
         "geo": "geo",
         "hovertemplate": "Country=%{location}<br>Total Cases=%{marker.size}<extra></extra>",
         "legendgroup": "Burkina Faso",
         "locationmode": "country names",
         "locations": [
          "Burkina Faso"
         ],
         "marker": {
          "color": "#FF6692",
          "size": [
           22025
          ],
          "sizemode": "area",
          "sizeref": 260492.1525,
          "symbol": "circle"
         },
         "mode": "markers",
         "name": "Burkina Faso",
         "showlegend": true,
         "type": "scattergeo"
        },
        {
         "geo": "geo",
         "hovertemplate": "Country=%{location}<br>Total Cases=%{marker.size}<extra></extra>",
         "legendgroup": "Liechtenstein",
         "locationmode": "country names",
         "locations": [
          "Liechtenstein"
         ],
         "marker": {
          "color": "#B6E880",
          "size": [
           21340
          ],
          "sizemode": "area",
          "sizeref": 260492.1525,
          "symbol": "circle"
         },
         "mode": "markers",
         "name": "Liechtenstein",
         "showlegend": true,
         "type": "scattergeo"
        },
        {
         "geo": "geo",
         "hovertemplate": "Country=%{location}<br>Total Cases=%{marker.size}<extra></extra>",
         "legendgroup": "Gibraltar",
         "locationmode": "country names",
         "locations": [
          "Gibraltar"
         ],
         "marker": {
          "color": "#FF97FF",
          "size": [
           20399
          ],
          "sizemode": "area",
          "sizeref": 260492.1525,
          "symbol": "circle"
         },
         "mode": "markers",
         "name": "Gibraltar",
         "showlegend": true,
         "type": "scattergeo"
        },
        {
         "geo": "geo",
         "hovertemplate": "Country=%{location}<br>Total Cases=%{marker.size}<extra></extra>",
         "legendgroup": "Grenada",
         "locationmode": "country names",
         "locations": [
          "Grenada"
         ],
         "marker": {
          "color": "#FECB52",
          "size": [
           19680
          ],
          "sizemode": "area",
          "sizeref": 260492.1525,
          "symbol": "circle"
         },
         "mode": "markers",
         "name": "Grenada",
         "showlegend": true,
         "type": "scattergeo"
        },
        {
         "geo": "geo",
         "hovertemplate": "Country=%{location}<br>Total Cases=%{marker.size}<extra></extra>",
         "legendgroup": "Bermuda",
         "locationmode": "country names",
         "locations": [
          "Bermuda"
         ],
         "marker": {
          "color": "#636efa",
          "size": [
           18766
          ],
          "sizemode": "area",
          "sizeref": 260492.1525,
          "symbol": "circle"
         },
         "mode": "markers",
         "name": "Bermuda",
         "showlegend": true,
         "type": "scattergeo"
        },
        {
         "geo": "geo",
         "hovertemplate": "Country=%{location}<br>Total Cases=%{marker.size}<extra></extra>",
         "legendgroup": "Nicaragua",
         "locationmode": "country names",
         "locations": [
          "Nicaragua"
         ],
         "marker": {
          "color": "#EF553B",
          "size": [
           18491
          ],
          "sizemode": "area",
          "sizeref": 260492.1525,
          "symbol": "circle"
         },
         "mode": "markers",
         "name": "Nicaragua",
         "showlegend": true,
         "type": "scattergeo"
        },
        {
         "geo": "geo",
         "hovertemplate": "Country=%{location}<br>Total Cases=%{marker.size}<extra></extra>",
         "legendgroup": "South Sudan",
         "locationmode": "country names",
         "locations": [
          "South Sudan"
         ],
         "marker": {
          "color": "#00cc96",
          "size": [
           18368
          ],
          "sizemode": "area",
          "sizeref": 260492.1525,
          "symbol": "circle"
         },
         "mode": "markers",
         "name": "South Sudan",
         "showlegend": true,
         "type": "scattergeo"
        },
        {
         "geo": "geo",
         "hovertemplate": "Country=%{location}<br>Total Cases=%{marker.size}<extra></extra>",
         "legendgroup": "Tajikistan",
         "locationmode": "country names",
         "locations": [
          "Tajikistan"
         ],
         "marker": {
          "color": "#ab63fa",
          "size": [
           17786
          ],
          "sizemode": "area",
          "sizeref": 260492.1525,
          "symbol": "circle"
         },
         "mode": "markers",
         "name": "Tajikistan",
         "showlegend": true,
         "type": "scattergeo"
        },
        {
         "geo": "geo",
         "hovertemplate": "Country=%{location}<br>Total Cases=%{marker.size}<extra></extra>",
         "legendgroup": "Equatorial Guinea",
         "locationmode": "country names",
         "locations": [
          "Equatorial Guinea"
         ],
         "marker": {
          "color": "#FFA15A",
          "size": [
           17190
          ],
          "sizemode": "area",
          "sizeref": 260492.1525,
          "symbol": "circle"
         },
         "mode": "markers",
         "name": "Equatorial Guinea",
         "showlegend": true,
         "type": "scattergeo"
        },
        {
         "geo": "geo",
         "hovertemplate": "Country=%{location}<br>Total Cases=%{marker.size}<extra></extra>",
         "legendgroup": "Tonga",
         "locationmode": "country names",
         "locations": [
          "Tonga"
         ],
         "marker": {
          "color": "#19d3f3",
          "size": [
           16734
          ],
          "sizemode": "area",
          "sizeref": 260492.1525,
          "symbol": "circle"
         },
         "mode": "markers",
         "name": "Tonga",
         "showlegend": true,
         "type": "scattergeo"
        },
        {
         "geo": "geo",
         "hovertemplate": "Country=%{location}<br>Total Cases=%{marker.size}<extra></extra>",
         "legendgroup": "Samoa",
         "locationmode": "country names",
         "locations": [
          "Samoa"
         ],
         "marker": {
          "color": "#FF6692",
          "size": [
           16087
          ],
          "sizemode": "area",
          "sizeref": 260492.1525,
          "symbol": "circle"
         },
         "mode": "markers",
         "name": "Samoa",
         "showlegend": true,
         "type": "scattergeo"
        },
        {
         "geo": "geo",
         "hovertemplate": "Country=%{location}<br>Total Cases=%{marker.size}<extra></extra>",
         "legendgroup": "Monaco",
         "locationmode": "country names",
         "locations": [
          "Monaco"
         ],
         "marker": {
          "color": "#B6E880",
          "size": [
           16056
          ],
          "sizemode": "area",
          "sizeref": 260492.1525,
          "symbol": "circle"
         },
         "mode": "markers",
         "name": "Monaco",
         "showlegend": true,
         "type": "scattergeo"
        },
        {
         "geo": "geo",
         "hovertemplate": "Country=%{location}<br>Total Cases=%{marker.size}<extra></extra>",
         "legendgroup": "Dominica",
         "locationmode": "country names",
         "locations": [
          "Dominica"
         ],
         "marker": {
          "color": "#FF97FF",
          "size": [
           15760
          ],
          "sizemode": "area",
          "sizeref": 260492.1525,
          "symbol": "circle"
         },
         "mode": "markers",
         "name": "Dominica",
         "showlegend": true,
         "type": "scattergeo"
        },
        {
         "geo": "geo",
         "hovertemplate": "Country=%{location}<br>Total Cases=%{marker.size}<extra></extra>",
         "legendgroup": "Djibouti",
         "locationmode": "country names",
         "locations": [
          "Djibouti"
         ],
         "marker": {
          "color": "#FECB52",
          "size": [
           15690
          ],
          "sizemode": "area",
          "sizeref": 260492.1525,
          "symbol": "circle"
         },
         "mode": "markers",
         "name": "Djibouti",
         "showlegend": true,
         "type": "scattergeo"
        },
        {
         "geo": "geo",
         "hovertemplate": "Country=%{location}<br>Total Cases=%{marker.size}<extra></extra>",
         "legendgroup": "Marshall Islands",
         "locationmode": "country names",
         "locations": [
          "Marshall Islands"
         ],
         "marker": {
          "color": "#636efa",
          "size": [
           15584
          ],
          "sizemode": "area",
          "sizeref": 260492.1525,
          "symbol": "circle"
         },
         "mode": "markers",
         "name": "Marshall Islands",
         "showlegend": true,
         "type": "scattergeo"
        },
        {
         "geo": "geo",
         "hovertemplate": "Country=%{location}<br>Total Cases=%{marker.size}<extra></extra>",
         "legendgroup": "CAR",
         "locationmode": "country names",
         "locations": [
          "CAR"
         ],
         "marker": {
          "color": "#EF553B",
          "size": [
           15368
          ],
          "sizemode": "area",
          "sizeref": 260492.1525,
          "symbol": "circle"
         },
         "mode": "markers",
         "name": "CAR",
         "showlegend": true,
         "type": "scattergeo"
        },
        {
         "geo": "geo",
         "hovertemplate": "Country=%{location}<br>Total Cases=%{marker.size}<extra></extra>",
         "legendgroup": "Gambia",
         "locationmode": "country names",
         "locations": [
          "Gambia"
         ],
         "marker": {
          "color": "#00cc96",
          "size": [
           12586
          ],
          "sizemode": "area",
          "sizeref": 260492.1525,
          "symbol": "circle"
         },
         "mode": "markers",
         "name": "Gambia",
         "showlegend": true,
         "type": "scattergeo"
        },
        {
         "geo": "geo",
         "hovertemplate": "Country=%{location}<br>Total Cases=%{marker.size}<extra></extra>",
         "legendgroup": "Saint Martin",
         "locationmode": "country names",
         "locations": [
          "Saint Martin"
         ],
         "marker": {
          "color": "#ab63fa",
          "size": [
           12233
          ],
          "sizemode": "area",
          "sizeref": 260492.1525,
          "symbol": "circle"
         },
         "mode": "markers",
         "name": "Saint Martin",
         "showlegend": true,
         "type": "scattergeo"
        },
        {
         "geo": "geo",
         "hovertemplate": "Country=%{location}<br>Total Cases=%{marker.size}<extra></extra>",
         "legendgroup": "Vanuatu",
         "locationmode": "country names",
         "locations": [
          "Vanuatu"
         ],
         "marker": {
          "color": "#FFA15A",
          "size": [
           12014
          ],
          "sizemode": "area",
          "sizeref": 260492.1525,
          "symbol": "circle"
         },
         "mode": "markers",
         "name": "Vanuatu",
         "showlegend": true,
         "type": "scattergeo"
        },
        {
         "geo": "geo",
         "hovertemplate": "Country=%{location}<br>Total Cases=%{marker.size}<extra></extra>",
         "legendgroup": "Greenland",
         "locationmode": "country names",
         "locations": [
          "Greenland"
         ],
         "marker": {
          "color": "#19d3f3",
          "size": [
           11971
          ],
          "sizemode": "area",
          "sizeref": 260492.1525,
          "symbol": "circle"
         },
         "mode": "markers",
         "name": "Greenland",
         "showlegend": true,
         "type": "scattergeo"
        },
        {
         "geo": "geo",
         "hovertemplate": "Country=%{location}<br>Total Cases=%{marker.size}<extra></extra>",
         "legendgroup": "Yemen",
         "locationmode": "country names",
         "locations": [
          "Yemen"
         ],
         "marker": {
          "color": "#FF6692",
          "size": [
           11945
          ],
          "sizemode": "area",
          "sizeref": 260492.1525,
          "symbol": "circle"
         },
         "mode": "markers",
         "name": "Yemen",
         "showlegend": true,
         "type": "scattergeo"
        },
        {
         "geo": "geo",
         "hovertemplate": "Country=%{location}<br>Total Cases=%{marker.size}<extra></extra>",
         "legendgroup": "Caribbean Netherlands",
         "locationmode": "country names",
         "locations": [
          "Caribbean Netherlands"
         ],
         "marker": {
          "color": "#B6E880",
          "size": [
           11661
          ],
          "sizemode": "area",
          "sizeref": 260492.1525,
          "symbol": "circle"
         },
         "mode": "markers",
         "name": "Caribbean Netherlands",
         "showlegend": true,
         "type": "scattergeo"
        },
        {
         "geo": "geo",
         "hovertemplate": "Country=%{location}<br>Total Cases=%{marker.size}<extra></extra>",
         "legendgroup": "Sint Maarten",
         "locationmode": "country names",
         "locations": [
          "Sint Maarten"
         ],
         "marker": {
          "color": "#FF97FF",
          "size": [
           11010
          ],
          "sizemode": "area",
          "sizeref": 260492.1525,
          "symbol": "circle"
         },
         "mode": "markers",
         "name": "Sint Maarten",
         "showlegend": true,
         "type": "scattergeo"
        },
        {
         "geo": "geo",
         "hovertemplate": "Country=%{location}<br>Total Cases=%{marker.size}<extra></extra>",
         "legendgroup": "Eritrea",
         "locationmode": "country names",
         "locations": [
          "Eritrea"
         ],
         "marker": {
          "color": "#FECB52",
          "size": [
           10189
          ],
          "sizemode": "area",
          "sizeref": 260492.1525,
          "symbol": "circle"
         },
         "mode": "markers",
         "name": "Eritrea",
         "showlegend": true,
         "type": "scattergeo"
        },
        {
         "geo": "geo",
         "hovertemplate": "Country=%{location}<br>Total Cases=%{marker.size}<extra></extra>",
         "legendgroup": "Niger",
         "locationmode": "country names",
         "locations": [
          "Niger"
         ],
         "marker": {
          "color": "#636efa",
          "size": [
           9931
          ],
          "sizemode": "area",
          "sizeref": 260492.1525,
          "symbol": "circle"
         },
         "mode": "markers",
         "name": "Niger",
         "showlegend": true,
         "type": "scattergeo"
        },
        {
         "geo": "geo",
         "hovertemplate": "Country=%{location}<br>Total Cases=%{marker.size}<extra></extra>",
         "legendgroup": "St. Vincent Grenadines",
         "locationmode": "country names",
         "locations": [
          "St. Vincent Grenadines"
         ],
         "marker": {
          "color": "#EF553B",
          "size": [
           9585
          ],
          "sizemode": "area",
          "sizeref": 260492.1525,
          "symbol": "circle"
         },
         "mode": "markers",
         "name": "St. Vincent Grenadines",
         "showlegend": true,
         "type": "scattergeo"
        },
        {
         "geo": "geo",
         "hovertemplate": "Country=%{location}<br>Total Cases=%{marker.size}<extra></extra>",
         "legendgroup": "Antigua and Barbuda",
         "locationmode": "country names",
         "locations": [
          "Antigua and Barbuda"
         ],
         "marker": {
          "color": "#00cc96",
          "size": [
           9106
          ],
          "sizemode": "area",
          "sizeref": 260492.1525,
          "symbol": "circle"
         },
         "mode": "markers",
         "name": "Antigua and Barbuda",
         "showlegend": true,
         "type": "scattergeo"
        },
        {
         "geo": "geo",
         "hovertemplate": "Country=%{location}<br>Total Cases=%{marker.size}<extra></extra>",
         "legendgroup": "Comoros",
         "locationmode": "country names",
         "locations": [
          "Comoros"
         ],
         "marker": {
          "color": "#ab63fa",
          "size": [
           8992
          ],
          "sizemode": "area",
          "sizeref": 260492.1525,
          "symbol": "circle"
         },
         "mode": "markers",
         "name": "Comoros",
         "showlegend": true,
         "type": "scattergeo"
        },
        {
         "geo": "geo",
         "hovertemplate": "Country=%{location}<br>Total Cases=%{marker.size}<extra></extra>",
         "legendgroup": "Guinea-Bissau",
         "locationmode": "country names",
         "locations": [
          "Guinea-Bissau"
         ],
         "marker": {
          "color": "#FFA15A",
          "size": [
           8947
          ],
          "sizemode": "area",
          "sizeref": 260492.1525,
          "symbol": "circle"
         },
         "mode": "markers",
         "name": "Guinea-Bissau",
         "showlegend": true,
         "type": "scattergeo"
        },
        {
         "geo": "geo",
         "hovertemplate": "Country=%{location}<br>Total Cases=%{marker.size}<extra></extra>",
         "legendgroup": "Liberia",
         "locationmode": "country names",
         "locations": [
          "Liberia"
         ],
         "marker": {
          "color": "#19d3f3",
          "size": [
           8062
          ],
          "sizemode": "area",
          "sizeref": 260492.1525,
          "symbol": "circle"
         },
         "mode": "markers",
         "name": "Liberia",
         "showlegend": true,
         "type": "scattergeo"
        },
        {
         "geo": "geo",
         "hovertemplate": "Country=%{location}<br>Total Cases=%{marker.size}<extra></extra>",
         "legendgroup": "Sierra Leone",
         "locationmode": "country names",
         "locations": [
          "Sierra Leone"
         ],
         "marker": {
          "color": "#FF6692",
          "size": [
           7760
          ],
          "sizemode": "area",
          "sizeref": 260492.1525,
          "symbol": "circle"
         },
         "mode": "markers",
         "name": "Sierra Leone",
         "showlegend": true,
         "type": "scattergeo"
        },
        {
         "geo": "geo",
         "hovertemplate": "Country=%{location}<br>Total Cases=%{marker.size}<extra></extra>",
         "legendgroup": "Chad",
         "locationmode": "country names",
         "locations": [
          "Chad"
         ],
         "marker": {
          "color": "#B6E880",
          "size": [
           7652
          ],
          "sizemode": "area",
          "sizeref": 260492.1525,
          "symbol": "circle"
         },
         "mode": "markers",
         "name": "Chad",
         "showlegend": true,
         "type": "scattergeo"
        },
        {
         "geo": "geo",
         "hovertemplate": "Country=%{location}<br>Total Cases=%{marker.size}<extra></extra>",
         "legendgroup": "British Virgin Islands",
         "locationmode": "country names",
         "locations": [
          "British Virgin Islands"
         ],
         "marker": {
          "color": "#FF97FF",
          "size": [
           7305
          ],
          "sizemode": "area",
          "sizeref": 260492.1525,
          "symbol": "circle"
         },
         "mode": "markers",
         "name": "British Virgin Islands",
         "showlegend": true,
         "type": "scattergeo"
        },
        {
         "geo": "geo",
         "hovertemplate": "Country=%{location}<br>Total Cases=%{marker.size}<extra></extra>",
         "legendgroup": "Cook Islands",
         "locationmode": "country names",
         "locations": [
          "Cook Islands"
         ],
         "marker": {
          "color": "#FECB52",
          "size": [
           7011
          ],
          "sizemode": "area",
          "sizeref": 260492.1525,
          "symbol": "circle"
         },
         "mode": "markers",
         "name": "Cook Islands",
         "showlegend": true,
         "type": "scattergeo"
        },
        {
         "geo": "geo",
         "hovertemplate": "Country=%{location}<br>Total Cases=%{marker.size}<extra></extra>",
         "legendgroup": "Saint Kitts and Nevis",
         "locationmode": "country names",
         "locations": [
          "Saint Kitts and Nevis"
         ],
         "marker": {
          "color": "#636efa",
          "size": [
           6592
          ],
          "sizemode": "area",
          "sizeref": 260492.1525,
          "symbol": "circle"
         },
         "mode": "markers",
         "name": "Saint Kitts and Nevis",
         "showlegend": true,
         "type": "scattergeo"
        },
        {
         "geo": "geo",
         "hovertemplate": "Country=%{location}<br>Total Cases=%{marker.size}<extra></extra>",
         "legendgroup": "Turks and Caicos",
         "locationmode": "country names",
         "locations": [
          "Turks and Caicos"
         ],
         "marker": {
          "color": "#EF553B",
          "size": [
           6522
          ],
          "sizemode": "area",
          "sizeref": 260492.1525,
          "symbol": "circle"
         },
         "mode": "markers",
         "name": "Turks and Caicos",
         "showlegend": true,
         "type": "scattergeo"
        },
        {
         "geo": "geo",
         "hovertemplate": "Country=%{location}<br>Total Cases=%{marker.size}<extra></extra>",
         "legendgroup": "Sao Tome and Principe",
         "locationmode": "country names",
         "locations": [
          "Sao Tome and Principe"
         ],
         "marker": {
          "color": "#00cc96",
          "size": [
           6280
          ],
          "sizemode": "area",
          "sizeref": 260492.1525,
          "symbol": "circle"
         },
         "mode": "markers",
         "name": "Sao Tome and Principe",
         "showlegend": true,
         "type": "scattergeo"
        },
        {
         "geo": "geo",
         "hovertemplate": "Country=%{location}<br>Total Cases=%{marker.size}<extra></extra>",
         "legendgroup": "Palau",
         "locationmode": "country names",
         "locations": [
          "Palau"
         ],
         "marker": {
          "color": "#ab63fa",
          "size": [
           5986
          ],
          "sizemode": "area",
          "sizeref": 260492.1525,
          "symbol": "circle"
         },
         "mode": "markers",
         "name": "Palau",
         "showlegend": true,
         "type": "scattergeo"
        },
        {
         "geo": "geo",
         "hovertemplate": "Country=%{location}<br>Total Cases=%{marker.size}<extra></extra>",
         "legendgroup": "St. Barth",
         "locationmode": "country names",
         "locations": [
          "St. Barth"
         ],
         "marker": {
          "color": "#FFA15A",
          "size": [
           5420
          ],
          "sizemode": "area",
          "sizeref": 260492.1525,
          "symbol": "circle"
         },
         "mode": "markers",
         "name": "St. Barth",
         "showlegend": true,
         "type": "scattergeo"
        },
        {
         "geo": "geo",
         "hovertemplate": "Country=%{location}<br>Total Cases=%{marker.size}<extra></extra>",
         "legendgroup": "Kiribati",
         "locationmode": "country names",
         "locations": [
          "Kiribati"
         ],
         "marker": {
          "color": "#19d3f3",
          "size": [
           5008
          ],
          "sizemode": "area",
          "sizeref": 260492.1525,
          "symbol": "circle"
         },
         "mode": "markers",
         "name": "Kiribati",
         "showlegend": true,
         "type": "scattergeo"
        },
        {
         "geo": "geo",
         "hovertemplate": "Country=%{location}<br>Total Cases=%{marker.size}<extra></extra>",
         "legendgroup": "Nauru",
         "locationmode": "country names",
         "locations": [
          "Nauru"
         ],
         "marker": {
          "color": "#FF6692",
          "size": [
           4621
          ],
          "sizemode": "area",
          "sizeref": 260492.1525,
          "symbol": "circle"
         },
         "mode": "markers",
         "name": "Nauru",
         "showlegend": true,
         "type": "scattergeo"
        },
        {
         "geo": "geo",
         "hovertemplate": "Country=%{location}<br>Total Cases=%{marker.size}<extra></extra>",
         "legendgroup": "Anguilla",
         "locationmode": "country names",
         "locations": [
          "Anguilla"
         ],
         "marker": {
          "color": "#B6E880",
          "size": [
           3904
          ],
          "sizemode": "area",
          "sizeref": 260492.1525,
          "symbol": "circle"
         },
         "mode": "markers",
         "name": "Anguilla",
         "showlegend": true,
         "type": "scattergeo"
        },
        {
         "geo": "geo",
         "hovertemplate": "Country=%{location}<br>Total Cases=%{marker.size}<extra></extra>",
         "legendgroup": "Macao",
         "locationmode": "country names",
         "locations": [
          "Macao"
         ],
         "marker": {
          "color": "#FF97FF",
          "size": [
           3488
          ],
          "sizemode": "area",
          "sizeref": 260492.1525,
          "symbol": "circle"
         },
         "mode": "markers",
         "name": "Macao",
         "showlegend": true,
         "type": "scattergeo"
        },
        {
         "geo": "geo",
         "hovertemplate": "Country=%{location}<br>Total Cases=%{marker.size}<extra></extra>",
         "legendgroup": "Saint Pierre Miquelon",
         "locationmode": "country names",
         "locations": [
          "Saint Pierre Miquelon"
         ],
         "marker": {
          "color": "#FECB52",
          "size": [
           3452
          ],
          "sizemode": "area",
          "sizeref": 260492.1525,
          "symbol": "circle"
         },
         "mode": "markers",
         "name": "Saint Pierre Miquelon",
         "showlegend": true,
         "type": "scattergeo"
        },
        {
         "geo": "geo",
         "hovertemplate": "Country=%{location}<br>Total Cases=%{marker.size}<extra></extra>",
         "legendgroup": "Wallis and Futuna",
         "locationmode": "country names",
         "locations": [
          "Wallis and Futuna"
         ],
         "marker": {
          "color": "#636efa",
          "size": [
           3427
          ],
          "sizemode": "area",
          "sizeref": 260492.1525,
          "symbol": "circle"
         },
         "mode": "markers",
         "name": "Wallis and Futuna",
         "showlegend": true,
         "type": "scattergeo"
        },
        {
         "geo": "geo",
         "hovertemplate": "Country=%{location}<br>Total Cases=%{marker.size}<extra></extra>",
         "legendgroup": "Tuvalu",
         "locationmode": "country names",
         "locations": [
          "Tuvalu"
         ],
         "marker": {
          "color": "#EF553B",
          "size": [
           2805
          ],
          "sizemode": "area",
          "sizeref": 260492.1525,
          "symbol": "circle"
         },
         "mode": "markers",
         "name": "Tuvalu",
         "showlegend": true,
         "type": "scattergeo"
        },
        {
         "geo": "geo",
         "hovertemplate": "Country=%{location}<br>Total Cases=%{marker.size}<extra></extra>",
         "legendgroup": "Saint Helena",
         "locationmode": "country names",
         "locations": [
          "Saint Helena"
         ],
         "marker": {
          "color": "#00cc96",
          "size": [
           2166
          ],
          "sizemode": "area",
          "sizeref": 260492.1525,
          "symbol": "circle"
         },
         "mode": "markers",
         "name": "Saint Helena",
         "showlegend": true,
         "type": "scattergeo"
        },
        {
         "geo": "geo",
         "hovertemplate": "Country=%{location}<br>Total Cases=%{marker.size}<extra></extra>",
         "legendgroup": "Falkland Islands",
         "locationmode": "country names",
         "locations": [
          "Falkland Islands"
         ],
         "marker": {
          "color": "#ab63fa",
          "size": [
           1930
          ],
          "sizemode": "area",
          "sizeref": 260492.1525,
          "symbol": "circle"
         },
         "mode": "markers",
         "name": "Falkland Islands",
         "showlegend": true,
         "type": "scattergeo"
        },
        {
         "geo": "geo",
         "hovertemplate": "Country=%{location}<br>Total Cases=%{marker.size}<extra></extra>",
         "legendgroup": "Montserrat",
         "locationmode": "country names",
         "locations": [
          "Montserrat"
         ],
         "marker": {
          "color": "#FFA15A",
          "size": [
           1403
          ],
          "sizemode": "area",
          "sizeref": 260492.1525,
          "symbol": "circle"
         },
         "mode": "markers",
         "name": "Montserrat",
         "showlegend": true,
         "type": "scattergeo"
        },
        {
         "geo": "geo",
         "hovertemplate": "Country=%{location}<br>Total Cases=%{marker.size}<extra></extra>",
         "legendgroup": "Niue",
         "locationmode": "country names",
         "locations": [
          "Niue"
         ],
         "marker": {
          "color": "#19d3f3",
          "size": [
           747
          ],
          "sizemode": "area",
          "sizeref": 260492.1525,
          "symbol": "circle"
         },
         "mode": "markers",
         "name": "Niue",
         "showlegend": true,
         "type": "scattergeo"
        },
        {
         "geo": "geo",
         "hovertemplate": "Country=%{location}<br>Total Cases=%{marker.size}<extra></extra>",
         "legendgroup": "Diamond Princess",
         "locationmode": "country names",
         "locations": [
          "Diamond Princess"
         ],
         "marker": {
          "color": "#FF6692",
          "size": [
           712
          ],
          "sizemode": "area",
          "sizeref": 260492.1525,
          "symbol": "circle"
         },
         "mode": "markers",
         "name": "Diamond Princess",
         "showlegend": true,
         "type": "scattergeo"
        },
        {
         "geo": "geo",
         "hovertemplate": "Country=%{location}<br>Total Cases=%{marker.size}<extra></extra>",
         "legendgroup": "Vatican City",
         "locationmode": "country names",
         "locations": [
          "Vatican City"
         ],
         "marker": {
          "color": "#B6E880",
          "size": [
           29
          ],
          "sizemode": "area",
          "sizeref": 260492.1525,
          "symbol": "circle"
         },
         "mode": "markers",
         "name": "Vatican City",
         "showlegend": true,
         "type": "scattergeo"
        },
        {
         "geo": "geo",
         "hovertemplate": "Country=%{location}<br>Total Cases=%{marker.size}<extra></extra>",
         "legendgroup": "Western Sahara",
         "locationmode": "country names",
         "locations": [
          "Western Sahara"
         ],
         "marker": {
          "color": "#FF97FF",
          "size": [
           10
          ],
          "sizemode": "area",
          "sizeref": 260492.1525,
          "symbol": "circle"
         },
         "mode": "markers",
         "name": "Western Sahara",
         "showlegend": true,
         "type": "scattergeo"
        },
        {
         "geo": "geo",
         "hovertemplate": "Country=%{location}<br>Total Cases=%{marker.size}<extra></extra>",
         "legendgroup": "MS Zaandam",
         "locationmode": "country names",
         "locations": [
          "MS Zaandam"
         ],
         "marker": {
          "color": "#FECB52",
          "size": [
           9
          ],
          "sizemode": "area",
          "sizeref": 260492.1525,
          "symbol": "circle"
         },
         "mode": "markers",
         "name": "MS Zaandam",
         "showlegend": true,
         "type": "scattergeo"
        },
        {
         "geo": "geo",
         "hovertemplate": "Country=%{location}<br>Total Cases=%{marker.size}<extra></extra>",
         "legendgroup": "Tokelau",
         "locationmode": "country names",
         "locations": [
          "Tokelau"
         ],
         "marker": {
          "color": "#636efa",
          "size": [
           5
          ],
          "sizemode": "area",
          "sizeref": 260492.1525,
          "symbol": "circle"
         },
         "mode": "markers",
         "name": "Tokelau",
         "showlegend": true,
         "type": "scattergeo"
        }
       ],
       "layout": {
        "geo": {
         "center": {},
         "domain": {
          "x": [
           0,
           1
          ],
          "y": [
           0,
           1
          ]
         }
        },
        "legend": {
         "itemsizing": "constant",
         "title": {
          "text": "Country"
         },
         "tracegroupgap": 0
        },
        "margin": {
         "t": 60
        },
        "template": {
         "data": {
          "bar": [
           {
            "error_x": {
             "color": "#2a3f5f"
            },
            "error_y": {
             "color": "#2a3f5f"
            },
            "marker": {
             "line": {
              "color": "#E5ECF6",
              "width": 0.5
             },
             "pattern": {
              "fillmode": "overlay",
              "size": 10,
              "solidity": 0.2
             }
            },
            "type": "bar"
           }
          ],
          "barpolar": [
           {
            "marker": {
             "line": {
              "color": "#E5ECF6",
              "width": 0.5
             },
             "pattern": {
              "fillmode": "overlay",
              "size": 10,
              "solidity": 0.2
             }
            },
            "type": "barpolar"
           }
          ],
          "carpet": [
           {
            "aaxis": {
             "endlinecolor": "#2a3f5f",
             "gridcolor": "white",
             "linecolor": "white",
             "minorgridcolor": "white",
             "startlinecolor": "#2a3f5f"
            },
            "baxis": {
             "endlinecolor": "#2a3f5f",
             "gridcolor": "white",
             "linecolor": "white",
             "minorgridcolor": "white",
             "startlinecolor": "#2a3f5f"
            },
            "type": "carpet"
           }
          ],
          "choropleth": [
           {
            "colorbar": {
             "outlinewidth": 0,
             "ticks": ""
            },
            "type": "choropleth"
           }
          ],
          "contour": [
           {
            "colorbar": {
             "outlinewidth": 0,
             "ticks": ""
            },
            "colorscale": [
             [
              0,
              "#0d0887"
             ],
             [
              0.1111111111111111,
              "#46039f"
             ],
             [
              0.2222222222222222,
              "#7201a8"
             ],
             [
              0.3333333333333333,
              "#9c179e"
             ],
             [
              0.4444444444444444,
              "#bd3786"
             ],
             [
              0.5555555555555556,
              "#d8576b"
             ],
             [
              0.6666666666666666,
              "#ed7953"
             ],
             [
              0.7777777777777778,
              "#fb9f3a"
             ],
             [
              0.8888888888888888,
              "#fdca26"
             ],
             [
              1,
              "#f0f921"
             ]
            ],
            "type": "contour"
           }
          ],
          "contourcarpet": [
           {
            "colorbar": {
             "outlinewidth": 0,
             "ticks": ""
            },
            "type": "contourcarpet"
           }
          ],
          "heatmap": [
           {
            "colorbar": {
             "outlinewidth": 0,
             "ticks": ""
            },
            "colorscale": [
             [
              0,
              "#0d0887"
             ],
             [
              0.1111111111111111,
              "#46039f"
             ],
             [
              0.2222222222222222,
              "#7201a8"
             ],
             [
              0.3333333333333333,
              "#9c179e"
             ],
             [
              0.4444444444444444,
              "#bd3786"
             ],
             [
              0.5555555555555556,
              "#d8576b"
             ],
             [
              0.6666666666666666,
              "#ed7953"
             ],
             [
              0.7777777777777778,
              "#fb9f3a"
             ],
             [
              0.8888888888888888,
              "#fdca26"
             ],
             [
              1,
              "#f0f921"
             ]
            ],
            "type": "heatmap"
           }
          ],
          "heatmapgl": [
           {
            "colorbar": {
             "outlinewidth": 0,
             "ticks": ""
            },
            "colorscale": [
             [
              0,
              "#0d0887"
             ],
             [
              0.1111111111111111,
              "#46039f"
             ],
             [
              0.2222222222222222,
              "#7201a8"
             ],
             [
              0.3333333333333333,
              "#9c179e"
             ],
             [
              0.4444444444444444,
              "#bd3786"
             ],
             [
              0.5555555555555556,
              "#d8576b"
             ],
             [
              0.6666666666666666,
              "#ed7953"
             ],
             [
              0.7777777777777778,
              "#fb9f3a"
             ],
             [
              0.8888888888888888,
              "#fdca26"
             ],
             [
              1,
              "#f0f921"
             ]
            ],
            "type": "heatmapgl"
           }
          ],
          "histogram": [
           {
            "marker": {
             "pattern": {
              "fillmode": "overlay",
              "size": 10,
              "solidity": 0.2
             }
            },
            "type": "histogram"
           }
          ],
          "histogram2d": [
           {
            "colorbar": {
             "outlinewidth": 0,
             "ticks": ""
            },
            "colorscale": [
             [
              0,
              "#0d0887"
             ],
             [
              0.1111111111111111,
              "#46039f"
             ],
             [
              0.2222222222222222,
              "#7201a8"
             ],
             [
              0.3333333333333333,
              "#9c179e"
             ],
             [
              0.4444444444444444,
              "#bd3786"
             ],
             [
              0.5555555555555556,
              "#d8576b"
             ],
             [
              0.6666666666666666,
              "#ed7953"
             ],
             [
              0.7777777777777778,
              "#fb9f3a"
             ],
             [
              0.8888888888888888,
              "#fdca26"
             ],
             [
              1,
              "#f0f921"
             ]
            ],
            "type": "histogram2d"
           }
          ],
          "histogram2dcontour": [
           {
            "colorbar": {
             "outlinewidth": 0,
             "ticks": ""
            },
            "colorscale": [
             [
              0,
              "#0d0887"
             ],
             [
              0.1111111111111111,
              "#46039f"
             ],
             [
              0.2222222222222222,
              "#7201a8"
             ],
             [
              0.3333333333333333,
              "#9c179e"
             ],
             [
              0.4444444444444444,
              "#bd3786"
             ],
             [
              0.5555555555555556,
              "#d8576b"
             ],
             [
              0.6666666666666666,
              "#ed7953"
             ],
             [
              0.7777777777777778,
              "#fb9f3a"
             ],
             [
              0.8888888888888888,
              "#fdca26"
             ],
             [
              1,
              "#f0f921"
             ]
            ],
            "type": "histogram2dcontour"
           }
          ],
          "mesh3d": [
           {
            "colorbar": {
             "outlinewidth": 0,
             "ticks": ""
            },
            "type": "mesh3d"
           }
          ],
          "parcoords": [
           {
            "line": {
             "colorbar": {
              "outlinewidth": 0,
              "ticks": ""
             }
            },
            "type": "parcoords"
           }
          ],
          "pie": [
           {
            "automargin": true,
            "type": "pie"
           }
          ],
          "scatter": [
           {
            "fillpattern": {
             "fillmode": "overlay",
             "size": 10,
             "solidity": 0.2
            },
            "type": "scatter"
           }
          ],
          "scatter3d": [
           {
            "line": {
             "colorbar": {
              "outlinewidth": 0,
              "ticks": ""
             }
            },
            "marker": {
             "colorbar": {
              "outlinewidth": 0,
              "ticks": ""
             }
            },
            "type": "scatter3d"
           }
          ],
          "scattercarpet": [
           {
            "marker": {
             "colorbar": {
              "outlinewidth": 0,
              "ticks": ""
             }
            },
            "type": "scattercarpet"
           }
          ],
          "scattergeo": [
           {
            "marker": {
             "colorbar": {
              "outlinewidth": 0,
              "ticks": ""
             }
            },
            "type": "scattergeo"
           }
          ],
          "scattergl": [
           {
            "marker": {
             "colorbar": {
              "outlinewidth": 0,
              "ticks": ""
             }
            },
            "type": "scattergl"
           }
          ],
          "scattermapbox": [
           {
            "marker": {
             "colorbar": {
              "outlinewidth": 0,
              "ticks": ""
             }
            },
            "type": "scattermapbox"
           }
          ],
          "scatterpolar": [
           {
            "marker": {
             "colorbar": {
              "outlinewidth": 0,
              "ticks": ""
             }
            },
            "type": "scatterpolar"
           }
          ],
          "scatterpolargl": [
           {
            "marker": {
             "colorbar": {
              "outlinewidth": 0,
              "ticks": ""
             }
            },
            "type": "scatterpolargl"
           }
          ],
          "scatterternary": [
           {
            "marker": {
             "colorbar": {
              "outlinewidth": 0,
              "ticks": ""
             }
            },
            "type": "scatterternary"
           }
          ],
          "surface": [
           {
            "colorbar": {
             "outlinewidth": 0,
             "ticks": ""
            },
            "colorscale": [
             [
              0,
              "#0d0887"
             ],
             [
              0.1111111111111111,
              "#46039f"
             ],
             [
              0.2222222222222222,
              "#7201a8"
             ],
             [
              0.3333333333333333,
              "#9c179e"
             ],
             [
              0.4444444444444444,
              "#bd3786"
             ],
             [
              0.5555555555555556,
              "#d8576b"
             ],
             [
              0.6666666666666666,
              "#ed7953"
             ],
             [
              0.7777777777777778,
              "#fb9f3a"
             ],
             [
              0.8888888888888888,
              "#fdca26"
             ],
             [
              1,
              "#f0f921"
             ]
            ],
            "type": "surface"
           }
          ],
          "table": [
           {
            "cells": {
             "fill": {
              "color": "#EBF0F8"
             },
             "line": {
              "color": "white"
             }
            },
            "header": {
             "fill": {
              "color": "#C8D4E3"
             },
             "line": {
              "color": "white"
             }
            },
            "type": "table"
           }
          ]
         },
         "layout": {
          "annotationdefaults": {
           "arrowcolor": "#2a3f5f",
           "arrowhead": 0,
           "arrowwidth": 1
          },
          "autotypenumbers": "strict",
          "coloraxis": {
           "colorbar": {
            "outlinewidth": 0,
            "ticks": ""
           }
          },
          "colorscale": {
           "diverging": [
            [
             0,
             "#8e0152"
            ],
            [
             0.1,
             "#c51b7d"
            ],
            [
             0.2,
             "#de77ae"
            ],
            [
             0.3,
             "#f1b6da"
            ],
            [
             0.4,
             "#fde0ef"
            ],
            [
             0.5,
             "#f7f7f7"
            ],
            [
             0.6,
             "#e6f5d0"
            ],
            [
             0.7,
             "#b8e186"
            ],
            [
             0.8,
             "#7fbc41"
            ],
            [
             0.9,
             "#4d9221"
            ],
            [
             1,
             "#276419"
            ]
           ],
           "sequential": [
            [
             0,
             "#0d0887"
            ],
            [
             0.1111111111111111,
             "#46039f"
            ],
            [
             0.2222222222222222,
             "#7201a8"
            ],
            [
             0.3333333333333333,
             "#9c179e"
            ],
            [
             0.4444444444444444,
             "#bd3786"
            ],
            [
             0.5555555555555556,
             "#d8576b"
            ],
            [
             0.6666666666666666,
             "#ed7953"
            ],
            [
             0.7777777777777778,
             "#fb9f3a"
            ],
            [
             0.8888888888888888,
             "#fdca26"
            ],
            [
             1,
             "#f0f921"
            ]
           ],
           "sequentialminus": [
            [
             0,
             "#0d0887"
            ],
            [
             0.1111111111111111,
             "#46039f"
            ],
            [
             0.2222222222222222,
             "#7201a8"
            ],
            [
             0.3333333333333333,
             "#9c179e"
            ],
            [
             0.4444444444444444,
             "#bd3786"
            ],
            [
             0.5555555555555556,
             "#d8576b"
            ],
            [
             0.6666666666666666,
             "#ed7953"
            ],
            [
             0.7777777777777778,
             "#fb9f3a"
            ],
            [
             0.8888888888888888,
             "#fdca26"
            ],
            [
             1,
             "#f0f921"
            ]
           ]
          },
          "colorway": [
           "#636efa",
           "#EF553B",
           "#00cc96",
           "#ab63fa",
           "#FFA15A",
           "#19d3f3",
           "#FF6692",
           "#B6E880",
           "#FF97FF",
           "#FECB52"
          ],
          "font": {
           "color": "#2a3f5f"
          },
          "geo": {
           "bgcolor": "white",
           "lakecolor": "white",
           "landcolor": "#E5ECF6",
           "showlakes": true,
           "showland": true,
           "subunitcolor": "white"
          },
          "hoverlabel": {
           "align": "left"
          },
          "hovermode": "closest",
          "mapbox": {
           "style": "light"
          },
          "paper_bgcolor": "white",
          "plot_bgcolor": "#E5ECF6",
          "polar": {
           "angularaxis": {
            "gridcolor": "white",
            "linecolor": "white",
            "ticks": ""
           },
           "bgcolor": "#E5ECF6",
           "radialaxis": {
            "gridcolor": "white",
            "linecolor": "white",
            "ticks": ""
           }
          },
          "scene": {
           "xaxis": {
            "backgroundcolor": "#E5ECF6",
            "gridcolor": "white",
            "gridwidth": 2,
            "linecolor": "white",
            "showbackground": true,
            "ticks": "",
            "zerolinecolor": "white"
           },
           "yaxis": {
            "backgroundcolor": "#E5ECF6",
            "gridcolor": "white",
            "gridwidth": 2,
            "linecolor": "white",
            "showbackground": true,
            "ticks": "",
            "zerolinecolor": "white"
           },
           "zaxis": {
            "backgroundcolor": "#E5ECF6",
            "gridcolor": "white",
            "gridwidth": 2,
            "linecolor": "white",
            "showbackground": true,
            "ticks": "",
            "zerolinecolor": "white"
           }
          },
          "shapedefaults": {
           "line": {
            "color": "#2a3f5f"
           }
          },
          "ternary": {
           "aaxis": {
            "gridcolor": "white",
            "linecolor": "white",
            "ticks": ""
           },
           "baxis": {
            "gridcolor": "white",
            "linecolor": "white",
            "ticks": ""
           },
           "bgcolor": "#E5ECF6",
           "caxis": {
            "gridcolor": "white",
            "linecolor": "white",
            "ticks": ""
           }
          },
          "title": {
           "x": 0.05
          },
          "xaxis": {
           "automargin": true,
           "gridcolor": "white",
           "linecolor": "white",
           "ticks": "",
           "title": {
            "standoff": 15
           },
           "zerolinecolor": "white",
           "zerolinewidth": 2
          },
          "yaxis": {
           "automargin": true,
           "gridcolor": "white",
           "linecolor": "white",
           "ticks": "",
           "title": {
            "standoff": 15
           },
           "zerolinecolor": "white",
           "zerolinewidth": 2
          }
         }
        }
       }
      }
     },
     "metadata": {},
     "output_type": "display_data"
    }
   ],
   "source": [
    "tmp_covid = df_copy_th.dropna(subset='Total Cases')\n",
    "tmp_covid['Total Cases'] = tmp_covid['Total Cases'].astype(int)\n",
    "\n",
    "px.scatter_geo(tmp_covid, locations='Country',\n",
    "               locationmode='country names', size='Total Cases', color='Country')\n"
   ]
  }
 ],
 "metadata": {
  "kernelspec": {
   "display_name": "Python 3 (ipykernel)",
   "language": "python",
   "name": "python3"
  },
  "language_info": {
   "codemirror_mode": {
    "name": "ipython",
    "version": 3
   },
   "file_extension": ".py",
   "mimetype": "text/x-python",
   "name": "python",
   "nbconvert_exporter": "python",
   "pygments_lexer": "ipython3",
   "version": "3.9.13"
  }
 },
 "nbformat": 4,
 "nbformat_minor": 2
}
