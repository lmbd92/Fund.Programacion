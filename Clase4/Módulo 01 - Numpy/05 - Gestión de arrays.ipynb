{
 "cells": [
  {
   "cell_type": "markdown",
   "id": "7fc2ca25",
   "metadata": {},
   "source": [
    "# Manejo de arrays"
   ]
  },
  {
   "cell_type": "markdown",
   "id": "b29561a3",
   "metadata": {},
   "source": [
    "## Índices\n",
    "\n",
    "En la programación cuando trabajamos con colecciones de datos uno de los conceptos más importante es el `índice`."
   ]
  },
  {
   "cell_type": "code",
   "execution_count": null,
   "id": "9e1a514c",
   "metadata": {},
   "outputs": [],
   "source": [
    "import numpy as np\n",
    "\n",
    "arr = np.arange(0, 50, 5)"
   ]
  },
  {
   "cell_type": "code",
   "execution_count": null,
   "id": "5c108259",
   "metadata": {},
   "outputs": [],
   "source": [
    "arr"
   ]
  },
  {
   "cell_type": "markdown",
   "id": "c8ed7415",
   "metadata": {},
   "source": [
    "El índice en los arrays funciona exactamente igual que en las listas, es simplemente un número que hace referencia a la posición que queremos consultar o modificar, empezando éste a contarse en 0:"
   ]
  },
  {
   "cell_type": "code",
   "execution_count": null,
   "id": "46917893",
   "metadata": {},
   "outputs": [],
   "source": [
    "# primera posición\n",
    "arr[0]"
   ]
  },
  {
   "cell_type": "code",
   "execution_count": null,
   "id": "941f13c7",
   "metadata": {},
   "outputs": [],
   "source": [
    "# quinta posición\n",
    "arr[4]"
   ]
  },
  {
   "cell_type": "code",
   "execution_count": null,
   "id": "13916007",
   "metadata": {},
   "outputs": [],
   "source": [
    "# última posición\n",
    "arr[-1]  "
   ]
  },
  {
   "cell_type": "code",
   "execution_count": null,
   "id": "8dad2faf",
   "metadata": {},
   "outputs": [],
   "source": [
    "# asignación de un valor\n",
    "arr[-1] = 99  "
   ]
  },
  {
   "cell_type": "code",
   "execution_count": null,
   "id": "e00f9ec9",
   "metadata": {},
   "outputs": [],
   "source": [
    "arr"
   ]
  },
  {
   "cell_type": "markdown",
   "id": "7f059bb0",
   "metadata": {},
   "source": [
    "## Slicing\n",
    "\n",
    "Igual con las listas, el slicing nos permite acceder y modificar un rango en base a dos índices, uno de inicio y otro de fin separados por dos puntos. Si dejamos los índices vacíos se toman por defecto el principio y el final:"
   ]
  },
  {
   "cell_type": "code",
   "execution_count": null,
   "id": "ff93b01b",
   "metadata": {},
   "outputs": [],
   "source": [
    "# copia completa de principio a fin\n",
    "arr[:]"
   ]
  },
  {
   "cell_type": "code",
   "execution_count": null,
   "id": "6bfcf9e0",
   "metadata": {},
   "outputs": [],
   "source": [
    "# subarray de los 3 primers elementos\n",
    "arr[:3]"
   ]
  },
  {
   "cell_type": "code",
   "execution_count": null,
   "id": "d0b25424",
   "metadata": {},
   "outputs": [],
   "source": [
    "# modificar rango de forma masiva menos primero y último\n",
    "arr[1:-1] = 50"
   ]
  },
  {
   "cell_type": "code",
   "execution_count": null,
   "id": "d4a281d4",
   "metadata": {},
   "outputs": [],
   "source": [
    "arr"
   ]
  },
  {
   "cell_type": "markdown",
   "id": "568fe0a2",
   "metadata": {},
   "source": [
    "## Consideraciones importantes\n",
    "\n",
    "Los arrays son objetos y por tanto se encuentran referenciados en la memoria.\n",
    "\n",
    "A la hora de trabajar con subarrays todos los cambios que hagamos en ellos se verán reflejados en el array original:"
   ]
  },
  {
   "cell_type": "code",
   "execution_count": null,
   "id": "7e833f03",
   "metadata": {},
   "outputs": [],
   "source": [
    "# cremos un nuevo array\n",
    "arr = np.arange(0, 30, 3)"
   ]
  },
  {
   "cell_type": "code",
   "execution_count": null,
   "id": "0ce0a0d9",
   "metadata": {},
   "outputs": [],
   "source": [
    "arr"
   ]
  },
  {
   "cell_type": "code",
   "execution_count": null,
   "id": "4fea455c",
   "metadata": {},
   "outputs": [],
   "source": [
    "# extraemos un subarray\n",
    "sub_arr = arr[0:4]"
   ]
  },
  {
   "cell_type": "code",
   "execution_count": null,
   "id": "d7d07761",
   "metadata": {},
   "outputs": [],
   "source": [
    "sub_arr"
   ]
  },
  {
   "cell_type": "code",
   "execution_count": null,
   "id": "3b4f91d6",
   "metadata": {},
   "outputs": [],
   "source": [
    "# lo modificamos\n",
    "sub_arr[:] = 99"
   ]
  },
  {
   "cell_type": "code",
   "execution_count": null,
   "id": "90973fa1",
   "metadata": {},
   "outputs": [],
   "source": [
    "# veamos el array original...\n",
    "arr"
   ]
  },
  {
   "cell_type": "markdown",
   "id": "f654d2ab",
   "metadata": {},
   "source": [
    "## Copia de arrays\n",
    "\n",
    "Mediante el método `copy` podemos crear una copia, de manera que tengamos dos objetos y los cambios del subarray ya no afecten al original:"
   ]
  },
  {
   "cell_type": "code",
   "execution_count": null,
   "id": "1f39bf9e",
   "metadata": {},
   "outputs": [],
   "source": [
    "# cremos un nuevo array\n",
    "arr = np.arange(0, 30, 3)"
   ]
  },
  {
   "cell_type": "code",
   "execution_count": null,
   "id": "bc9e3b54",
   "metadata": {},
   "outputs": [],
   "source": [
    "# extraemos el subarray pero de una copia\n",
    "sub_arr = arr[0:4].copy()"
   ]
  },
  {
   "cell_type": "code",
   "execution_count": null,
   "id": "0afdb64b",
   "metadata": {},
   "outputs": [],
   "source": [
    "# lo modificamos\n",
    "sub_arr[:] = 99"
   ]
  },
  {
   "cell_type": "code",
   "execution_count": null,
   "id": "4c55bf38",
   "metadata": {},
   "outputs": [],
   "source": [
    "sub_arr"
   ]
  },
  {
   "cell_type": "code",
   "execution_count": null,
   "id": "92d5914d",
   "metadata": {},
   "outputs": [],
   "source": [
    "# veamos el array original...\n",
    "arr"
   ]
  },
  {
   "cell_type": "code",
   "execution_count": null,
   "id": "b001eea0",
   "metadata": {},
   "outputs": [],
   "source": []
  }
 ],
 "metadata": {
  "kernelspec": {
   "display_name": "Python 3 (ipykernel)",
   "language": "python",
   "name": "python3"
  },
  "language_info": {
   "codemirror_mode": {
    "name": "ipython",
    "version": 3
   },
   "file_extension": ".py",
   "mimetype": "text/x-python",
   "name": "python",
   "nbconvert_exporter": "python",
   "pygments_lexer": "ipython3",
   "version": "3.10.5"
  }
 },
 "nbformat": 4,
 "nbformat_minor": 5
}
