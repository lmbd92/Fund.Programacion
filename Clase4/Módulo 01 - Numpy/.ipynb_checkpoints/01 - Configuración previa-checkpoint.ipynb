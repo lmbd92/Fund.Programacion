{
 "cells": [
  {
   "cell_type": "markdown",
   "id": "b6181a16",
   "metadata": {},
   "source": [
    "# Configuración previa\n",
    "\n",
    "El análisis de datos básico en Python se realiza utilizando tres bibliotecas que se complementan perfectamente entre ellas:\n",
    "\n",
    "- **NumPy**: Para manejar **arrays**.\n",
    "- **Pandas**: Para manejar **dataframes**.\n",
    "- **Matplotlib**: Para visualizar **gráficos**.\n",
    "\n",
    "Son externas a Python por lo que tenemos que instalarlas para poder utilizarlas:\n",
    "\n",
    "```bash\n",
    "pip install numpy pandas matplotlib\n",
    "```\n",
    "\n",
    "También se puede instalar desde el propio `Jupyter Notebook` con una exclamación delante:\n",
    "\n",
    "```bash\n",
    "!pip install numpy pandas matplotlib\n",
    "```\n",
    "\n",
    "Tardará un rato en ejecutar la celda pero veremos el resultado:"
   ]
  },
  {
   "cell_type": "code",
   "execution_count": 1,
   "id": "a5143f90",
   "metadata": {},
   "outputs": [
    {
     "name": "stdout",
     "output_type": "stream",
     "text": [
      "Requirement already satisfied: numpy in c:\\users\\administrador\\anaconda3\\envs\\bd_prueba\\lib\\site-packages (1.23.5)\n",
      "Requirement already satisfied: pandas in c:\\users\\administrador\\anaconda3\\envs\\bd_prueba\\lib\\site-packages (1.5.2)\n",
      "Requirement already satisfied: matplotlib in c:\\users\\administrador\\anaconda3\\envs\\bd_prueba\\lib\\site-packages (3.7.0)\n",
      "Requirement already satisfied: pytz>=2020.1 in c:\\users\\administrador\\anaconda3\\envs\\bd_prueba\\lib\\site-packages (from pandas) (2022.7)\n",
      "Requirement already satisfied: python-dateutil>=2.8.1 in c:\\users\\administrador\\anaconda3\\envs\\bd_prueba\\lib\\site-packages (from pandas) (2.8.2)\n",
      "Requirement already satisfied: pyparsing>=2.3.1 in c:\\users\\administrador\\anaconda3\\envs\\bd_prueba\\lib\\site-packages (from matplotlib) (3.0.9)\n",
      "Requirement already satisfied: kiwisolver>=1.0.1 in c:\\users\\administrador\\anaconda3\\envs\\bd_prueba\\lib\\site-packages (from matplotlib) (1.4.4)\n",
      "Requirement already satisfied: importlib-resources>=3.2.0 in c:\\users\\administrador\\anaconda3\\envs\\bd_prueba\\lib\\site-packages (from matplotlib) (5.2.0)\n",
      "Requirement already satisfied: contourpy>=1.0.1 in c:\\users\\administrador\\anaconda3\\envs\\bd_prueba\\lib\\site-packages (from matplotlib) (1.0.5)\n",
      "Requirement already satisfied: cycler>=0.10 in c:\\users\\administrador\\anaconda3\\envs\\bd_prueba\\lib\\site-packages (from matplotlib) (0.11.0)\n",
      "Requirement already satisfied: packaging>=20.0 in c:\\users\\administrador\\anaconda3\\envs\\bd_prueba\\lib\\site-packages (from matplotlib) (22.0)\n",
      "Requirement already satisfied: pillow>=6.2.0 in c:\\users\\administrador\\anaconda3\\envs\\bd_prueba\\lib\\site-packages (from matplotlib) (9.4.0)\n",
      "Requirement already satisfied: fonttools>=4.22.0 in c:\\users\\administrador\\anaconda3\\envs\\bd_prueba\\lib\\site-packages (from matplotlib) (4.25.0)\n",
      "Requirement already satisfied: zipp>=3.1.0 in c:\\users\\administrador\\anaconda3\\envs\\bd_prueba\\lib\\site-packages (from importlib-resources>=3.2.0->matplotlib) (3.11.0)\n",
      "Requirement already satisfied: six>=1.5 in c:\\users\\administrador\\anaconda3\\envs\\bd_prueba\\lib\\site-packages (from python-dateutil>=2.8.1->pandas) (1.16.0)\n"
     ]
    }
   ],
   "source": [
    "!pip install numpy pandas matplotlib"
   ]
  },
  {
   "cell_type": "code",
   "execution_count": null,
   "id": "1d1fb471",
   "metadata": {},
   "outputs": [],
   "source": []
  }
 ],
 "metadata": {
  "kernelspec": {
   "display_name": "Python 3 (ipykernel)",
   "language": "python",
   "name": "python3"
  },
  "language_info": {
   "codemirror_mode": {
    "name": "ipython",
    "version": 3
   },
   "file_extension": ".py",
   "mimetype": "text/x-python",
   "name": "python",
   "nbconvert_exporter": "python",
   "pygments_lexer": "ipython3",
   "version": "3.9.16"
  }
 },
 "nbformat": 4,
 "nbformat_minor": 5
}
