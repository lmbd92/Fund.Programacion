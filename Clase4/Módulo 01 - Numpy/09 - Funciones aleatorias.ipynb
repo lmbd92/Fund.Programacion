{
 "cells": [
  {
   "cell_type": "markdown",
   "id": "cf5d45f9",
   "metadata": {},
   "source": [
    "# Funciones aleatorias\n",
    "\n",
    "Hablando de funciones no podemos olvidar las funciones aleatorias encontradas en el módulo `random`. [En la documentación oficial](https://numpy.org/doc/stable/reference/random/index.html) encontraréis el listado completo con ejemplos de uso.\n",
    "\n",
    "Tenemos funciones para generar arrays con `datos aleatorios` y `permutaciones`. También hay muchas enfocadas a generar muestras de distribuciones de probabilidad pensadas para visualizar estadística.\n",
    "\n",
    "Vamos a practicar algunas de las dos primeras.\n",
    "\n",
    "## Datos aleatorios"
   ]
  },
  {
   "cell_type": "code",
   "execution_count": null,
   "id": "d6d5857a",
   "metadata": {},
   "outputs": [],
   "source": [
    "import numpy as np"
   ]
  },
  {
   "cell_type": "code",
   "execution_count": null,
   "id": "7959ffbb",
   "metadata": {},
   "outputs": [],
   "source": [
    "# número decimal entre 0 y 1\n",
    "np.random.rand()"
   ]
  },
  {
   "cell_type": "code",
   "execution_count": null,
   "id": "df6d6818",
   "metadata": {},
   "outputs": [],
   "source": [
    "# array 1D de decimales entre 0 y 1\n",
    "np.random.rand(4)"
   ]
  },
  {
   "cell_type": "code",
   "execution_count": null,
   "id": "2963980d",
   "metadata": {},
   "outputs": [],
   "source": [
    "# array 2D de decimales entre 0 y 1\n",
    "np.random.rand(4,2)"
   ]
  },
  {
   "cell_type": "code",
   "execution_count": null,
   "id": "0b38a3ae",
   "metadata": {},
   "outputs": [],
   "source": [
    "# array 3D de decimales entre 0 y N\n",
    "np.random.uniform(10, size=[2,2,2])"
   ]
  },
  {
   "cell_type": "code",
   "execution_count": null,
   "id": "095c18e5",
   "metadata": {},
   "outputs": [],
   "source": [
    "# array 4D de decimales entre -N y M\n",
    "np.random.uniform(-10, 10, size=[2,2,2,2])"
   ]
  },
  {
   "cell_type": "code",
   "execution_count": null,
   "id": "9039ccb1",
   "metadata": {},
   "outputs": [],
   "source": [
    "# número entero entre 0 y N\n",
    "np.random.randint(10)"
   ]
  },
  {
   "cell_type": "code",
   "execution_count": null,
   "id": "ecfbc054",
   "metadata": {},
   "outputs": [],
   "source": [
    "# array de enteros entre 0 y N\n",
    "np.random.randint(10, size=[3,2])"
   ]
  },
  {
   "cell_type": "code",
   "execution_count": null,
   "id": "7fb65934",
   "metadata": {},
   "outputs": [],
   "source": [
    "# array de enteros entre -N y M\n",
    "np.random.randint(-10, 10, size=[3,2])"
   ]
  },
  {
   "cell_type": "code",
   "execution_count": null,
   "id": "e860ee65",
   "metadata": {},
   "outputs": [],
   "source": [
    "# array uniforme con curva gaussiana\n",
    "np.random.normal(size=20)"
   ]
  },
  {
   "cell_type": "markdown",
   "id": "538d5c41",
   "metadata": {},
   "source": [
    "## Permutaciones"
   ]
  },
  {
   "cell_type": "code",
   "execution_count": null,
   "id": "487b5ff0",
   "metadata": {},
   "outputs": [],
   "source": [
    "arr = np.arange(10)\n",
    "\n",
    "arr"
   ]
  },
  {
   "cell_type": "code",
   "execution_count": null,
   "id": "428c472c",
   "metadata": {},
   "outputs": [],
   "source": [
    "# desordenar un array\n",
    "np.random.shuffle(arr)\n",
    "\n",
    "arr"
   ]
  },
  {
   "cell_type": "code",
   "execution_count": null,
   "id": "6cb45b00",
   "metadata": {},
   "outputs": [],
   "source": [
    "# generar secuencia permutada a partir de un número\n",
    "np.random.permutation(15)"
   ]
  },
  {
   "cell_type": "code",
   "execution_count": null,
   "id": "94750164",
   "metadata": {},
   "outputs": [],
   "source": []
  }
 ],
 "metadata": {
  "kernelspec": {
   "display_name": "Python 3 (ipykernel)",
   "language": "python",
   "name": "python3"
  },
  "language_info": {
   "codemirror_mode": {
    "name": "ipython",
    "version": 3
   },
   "file_extension": ".py",
   "mimetype": "text/x-python",
   "name": "python",
   "nbconvert_exporter": "python",
   "pygments_lexer": "ipython3",
   "version": "3.10.5"
  }
 },
 "nbformat": 4,
 "nbformat_minor": 5
}
