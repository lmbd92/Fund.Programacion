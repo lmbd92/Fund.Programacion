{
 "cells": [
  {
   "cell_type": "code",
   "execution_count": 14,
   "metadata": {},
   "outputs": [],
   "source": [
    "import sqlite3\n",
    "import psycopg2"
   ]
  },
  {
   "cell_type": "code",
   "execution_count": 15,
   "metadata": {},
   "outputs": [],
   "source": [
    "conexion = sqlite3.connect('clase5.db')\n",
    "#conexion.close()"
   ]
  },
  {
   "cell_type": "code",
   "execution_count": 16,
   "metadata": {},
   "outputs": [],
   "source": [
    "cursor = conexion.cursor()\n",
    "\n",
    "cursor.execute('CREATE TABLE IF NOT EXISTS usuarios' \\\n",
    "               '(nombre VARCHAR(100), edad INTEGER, mail VARCHAR(50))') \n",
    "conexion.commit()\n",
    "#conexion.close()\n"
   ]
  },
  {
   "cell_type": "code",
   "execution_count": 17,
   "metadata": {},
   "outputs": [],
   "source": [
    "cursor.execute('INSERT INTO usuarios VALUES' \\\n",
    "               \"('Hector', 27, 'hector@mail.com')\")\n",
    "\n",
    "conexion.commit()\n"
   ]
  },
  {
   "cell_type": "code",
   "execution_count": 26,
   "metadata": {},
   "outputs": [
    {
     "name": "stdout",
     "output_type": "stream",
     "text": [
      "<sqlite3.Cursor object at 0x7f98e4339b90>\n",
      "('Hector', 27, 'hector@mail.com')\n"
     ]
    }
   ],
   "source": [
    "cursor.execute('SELECT * FROM usuarios')\n",
    "\n",
    "print(cursor)\n",
    "usuario = cursor.fetchone()\n",
    "print(usuario)\n",
    "conexion.commit()\n",
    "#conexion.close()\n"
   ]
  },
  {
   "cell_type": "code",
   "execution_count": 27,
   "metadata": {},
   "outputs": [
    {
     "name": "stdout",
     "output_type": "stream",
     "text": [
      "[('Lina', 30, 'lina@mail.com'), ('Jhon', 40, 'jhon@mail.com'), ('maria', 15, 'maria@mail.com')]\n",
      "[('Lina', 30, 'lina@mail.com'), ('Jhon', 40, 'jhon@mail.com'), ('maria', 15, 'maria@mail.com')]\n",
      "[('Lina', 30, 'lina@mail.com'), ('Jhon', 40, 'jhon@mail.com'), ('maria', 15, 'maria@mail.com')]\n"
     ]
    }
   ],
   "source": [
    "#crear lista con usuarios\n",
    "usuarios = [('Lina', 30, 'lina@mail.com'), \n",
    "            ('Jhon', 40, 'jhon@mail.com'), \n",
    "            ('maria', 15, 'maria@mail.com')]\n",
    "\n",
    "cursor.executemany('INSERT INTO usuarios VALUES (?,?,?)', usuarios)\n",
    "\n",
    "usuario = cursor.fetchall()\n",
    "for usuario in usuarios:\n",
    "    print(usuarios)\n",
    "\n",
    "conexion.commit()\n"
   ]
  },
  {
   "cell_type": "code",
   "execution_count": null,
   "metadata": {},
   "outputs": [],
   "source": [
    "cursor = conexion.cursor()\n",
    "\n",
    "cursor.execute('''CREATE TABLE IF NOT EXISTS usuarios(\n",
    "dni VARCHAR(9) PRIMARY KEY,\n",
    "nombre VARCHAR(100),\n",
    "edad INTEGER,\n",
    "email VARCHAR(100))''')\n",
    "\n",
    "usuarios = cursor.fetchall()"
   ]
  }
 ],
 "metadata": {
  "kernelspec": {
   "display_name": "base",
   "language": "python",
   "name": "python3"
  },
  "language_info": {
   "codemirror_mode": {
    "name": "ipython",
    "version": 3
   },
   "file_extension": ".py",
   "mimetype": "text/x-python",
   "name": "python",
   "nbconvert_exporter": "python",
   "pygments_lexer": "ipython3",
   "version": "3.9.13"
  },
  "orig_nbformat": 4
 },
 "nbformat": 4,
 "nbformat_minor": 2
}
