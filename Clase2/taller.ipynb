{
 "cells": [
  {
   "attachments": {},
   "cell_type": "markdown",
   "metadata": {},
   "source": [
    "1. Crear una expresión anónima con Python usando la función Lambda para calcular la ecuación cuadrática: $$f(x) = a x^2 + b x + c$$"
   ]
  },
  {
   "cell_type": "code",
   "execution_count": 2,
   "metadata": {},
   "outputs": [
    {
     "data": {
      "text/plain": [
       "15"
      ]
     },
     "execution_count": 2,
     "metadata": {},
     "output_type": "execute_result"
    }
   ],
   "source": [
    "f = lambda a, b, c, x: a*x**2 + b*x + c\n",
    "\n",
    "f(2, 3, 1, 2)\n"
   ]
  },
  {
   "attachments": {},
   "cell_type": "markdown",
   "metadata": {},
   "source": [
    "2. Crear una función que cuente el número de veces que la palabra “perro” se encuentra en un string y que corte la frase cada vez que encuentra un espacio."
   ]
  },
  {
   "cell_type": "code",
   "execution_count": 5,
   "metadata": {},
   "outputs": [
    {
     "data": {
      "text/plain": [
       "2"
      ]
     },
     "execution_count": 5,
     "metadata": {},
     "output_type": "execute_result"
    }
   ],
   "source": [
    "def contar_palabra(frase):\n",
    "    palabras = frase.split()\n",
    "    contador = 0\n",
    "    for palabra in palabras:\n",
    "        if palabra == \"perro\":\n",
    "            contador += 1\n",
    "        elif \"perro\" in palabra:\n",
    "            # Si la palabra contiene \"perro\" pero no es exactamente \"perro\",\n",
    "            # la dividimos en dos partes y contamos cada una por separado\n",
    "            partes = palabra.split(\"perro\")\n",
    "            contador += len(partes) - 1\n",
    "    return contador\n",
    "\n",
    "\n",
    "frase = \"El perro marrón corre más rápido que el perro negro\"\n",
    "\n",
    "contar_palabra(frase)\n"
   ]
  },
  {
   "attachments": {},
   "cell_type": "markdown",
   "metadata": {},
   "source": [
    "3. Implemente una función que permita determinar que transforme una fecha dada de string a datetime y que indique a que día de la semana corresponde"
   ]
  },
  {
   "cell_type": "code",
   "execution_count": 18,
   "metadata": {},
   "outputs": [
    {
     "name": "stdout",
     "output_type": "stream",
     "text": [
      "Fecha 2023-02-25 00:00:00 día de la semana Saturday numero día 4\n"
     ]
    }
   ],
   "source": [
    "from datetime import datetime\n",
    "\n",
    "def fecha_a_datetime(fecha_str):\n",
    "    # Convertir el string a un objeto datetime\n",
    "    fecha = datetime.strptime(fecha_str, '%d/%m/%Y')\n",
    "    # Obtener el nombre del día de la semana\n",
    "    nombre_dia_semana = fecha.strftime('%A')\n",
    "    dia_semana = fecha.today().weekday()\n",
    "    # Devolver una tupla con la fecha y el día de la semana\n",
    "    return fecha, nombre_dia_semana, dia_semana\n",
    "\n",
    "\n",
    "fecha_str = '25/02/2023'\n",
    "fecha, nombre_dia_semana, dia_semana = fecha_a_datetime(fecha_str)\n",
    "print(f'Fecha {fecha} día de la semana {nombre_dia_semana} numero día {dia_semana}')\n"
   ]
  },
  {
   "attachments": {},
   "cell_type": "markdown",
   "metadata": {},
   "source": [
    "4. Implemente una clase de tipo vehículo , donde se pueda ver detalles como nombre, color, precio del vehículo."
   ]
  },
  {
   "cell_type": "code",
   "execution_count": 7,
   "metadata": {},
   "outputs": [
    {
     "name": "stdout",
     "output_type": "stream",
     "text": [
      "Nombre: Toyota Corolla\n",
      "Color: Rojo\n",
      "Precio: $15000\n"
     ]
    }
   ],
   "source": [
    "class Vehiculo:\n",
    "    def __init__(self, nombre, color, precio):\n",
    "        self.nombre = nombre\n",
    "        self.color = color\n",
    "        self.precio = precio\n",
    "\n",
    "    def detalles(self):\n",
    "        return f\"Nombre: {self.nombre}\\nColor: {self.color}\\nPrecio: ${self.precio}\"\n",
    "    \n",
    "\n",
    "mi_coche = Vehiculo(\"Toyota Corolla\", \"Rojo\", 15000)\n",
    "print(mi_coche.detalles())\n"
   ]
  },
  {
   "attachments": {},
   "cell_type": "markdown",
   "metadata": {},
   "source": [
    "5. Cree una función que solicite la fecha de nacimiento de la persona e indique cuantos años tiene actualmente."
   ]
  },
  {
   "cell_type": "code",
   "execution_count": 19,
   "metadata": {},
   "outputs": [
    {
     "name": "stdout",
     "output_type": "stream",
     "text": [
      "30 Años\n"
     ]
    }
   ],
   "source": [
    "# Python3 code to calculate age in years\n",
    "\n",
    "from datetime import date\n",
    "\n",
    "\n",
    "def CarcularEdad(fecha):\n",
    "\thoy = date.today()\n",
    "\tedad = hoy.year - fecha.year -\t((hoy.month, hoy.day) <\n",
    "            (fecha.month, fecha.day))\n",
    "\n",
    "\treturn edad\n",
    "\n",
    "\n",
    "# Driver code\n",
    "print(CarcularEdad(date(1992, 10, 3)), \"Años\")\n"
   ]
  }
 ],
 "metadata": {
  "kernelspec": {
   "display_name": "base",
   "language": "python",
   "name": "python3"
  },
  "language_info": {
   "codemirror_mode": {
    "name": "ipython",
    "version": 3
   },
   "file_extension": ".py",
   "mimetype": "text/x-python",
   "name": "python",
   "nbconvert_exporter": "python",
   "pygments_lexer": "ipython3",
   "version": "3.9.13"
  },
  "orig_nbformat": 4,
  "vscode": {
   "interpreter": {
    "hash": "1ab5102c74f6a8698e26ee368efd10ad6a7548f07f24653cf2874797d77b917d"
   }
  }
 },
 "nbformat": 4,
 "nbformat_minor": 2
}
